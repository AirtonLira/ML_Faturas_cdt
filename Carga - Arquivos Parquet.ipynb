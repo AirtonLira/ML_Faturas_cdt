{
 "cells": [
  {
   "cell_type": "code",
   "execution_count": 324,
   "metadata": {},
   "outputs": [],
   "source": [
    "import pandas as pd\n",
    "import numpy as np\n",
    "import import_ipynb\n",
    "import utils_cdt as cdt\n",
    "import datetime\n",
    "from dateutil.relativedelta import relativedelta\n",
    "from datetime import date\n",
    "from sklearn import metrics\n",
    "\n",
    "import matplotlib.pyplot as plt\n",
    "import time\n",
    "import pickle\n",
    "from pyspark.sql import SparkSession, Row\n",
    "from pyspark.sql import SQLContext\n",
    "from pyspark.sql.functions import *\n",
    "from pyspark.sql.types import *\n",
    "from pyspark.storagelevel import StorageLevel "
   ]
  },
  {
   "cell_type": "code",
   "execution_count": 40,
   "metadata": {},
   "outputs": [],
   "source": [
    "infoDataBases = {\"ip\":\"\",\"base\":\"\"}"
   ]
  },
  {
   "cell_type": "code",
   "execution_count": 268,
   "metadata": {},
   "outputs": [],
   "source": [
    "emissor = infoDataBases[\"base\"]\n",
    "consulta = cdt.resultQuery(\"ControleVencimentos.sql\")\n",
    "df_vencimentos = cdt.extrairDados(infoDataBases,consulta,\n",
    "                                            path=\"../data/\",\n",
    "                                            arquivo=f\"controlevencimentos\",\n",
    "                                            spark=False,objSpark=None)"
   ]
  },
  {
   "cell_type": "code",
   "execution_count": 42,
   "metadata": {},
   "outputs": [],
   "source": [
    "def cache(self): \n",
    "    \"\"\" \n",
    "    Persist this RDD with the default storage level (C{MEMORY_ONLY_SER}). \n",
    "    \"\"\" \n",
    "    self.is_cached = True \n",
    "    self.persist(StorageLevel.MEMORY_ONLY_SER) \n",
    "    return self \n",
    "spark = SparkSession \\\n",
    "    .builder \\\n",
    "    .appName(\"Modelo - Spark\") \\\n",
    "    .config(\"spark.executor.memory\", \"4gb\") \\\n",
    "    .config(\"spark.driver.host\",\"127.0.0.1\") \\\n",
    "    .getOrCreate()\n",
    "\n",
    "sc = spark.sparkContext\n",
    "sc = SQLContext(sc)"
   ]
  },
  {
   "cell_type": "code",
   "execution_count": 287,
   "metadata": {},
   "outputs": [],
   "source": [
    "emissor = infoDataBases[\"base\"]\n",
    "consulta = cdt.resultQuery(\"ControleVencimentos.sql\")\n",
    "df_vencimentos = cdt.extrairDados(infoDataBases,consulta,\n",
    "                                            path=\"../data/\",\n",
    "                                            arquivo=f\"controlevencimentos\",\n",
    "                                            spark=True,objSpark=spark)"
   ]
  },
  {
   "cell_type": "code",
   "execution_count": 337,
   "metadata": {},
   "outputs": [],
   "source": [
    "arquivo = spark.read.format(\"parquet\").load(\"../data/controlevencimentos.parquet\")"
   ]
  },
  {
   "cell_type": "code",
   "execution_count": 338,
   "metadata": {},
   "outputs": [
    {
     "name": "stdout",
     "output_type": "stream",
     "text": [
      "+----------------------+--------------+-----------------+-------------------+---------+\n",
      "|Id_ControleVencimentos|DataVencimento|DataPrevistaCorte|DataRealizacaoCorte|  usuario|\n",
      "+----------------------+--------------+-----------------+-------------------+---------+\n",
      "|                  2072|    2020-05-01|       2020-04-22|               null|Per210780|\n",
      "+----------------------+--------------+-----------------+-------------------+---------+\n",
      "\n"
     ]
    }
   ],
   "source": [
    "arquivo.where(\"Id_ControleVencimentos == 2072\").show(3)"
   ]
  },
  {
   "cell_type": "code",
   "execution_count": 45,
   "metadata": {},
   "outputs": [],
   "source": [
    "dataatual = datetime.today().strftime('%Y-%m-%d')"
   ]
  },
  {
   "cell_type": "code",
   "execution_count": 333,
   "metadata": {},
   "outputs": [],
   "source": [
    "dataatual = '2020-04-22'"
   ]
  },
  {
   "cell_type": "code",
   "execution_count": 340,
   "metadata": {},
   "outputs": [],
   "source": [
    "t = arquivo.where(to_date(\"DataPrevistaCorte\",\"yyyy-MM-dd\") == dataatual).collect()"
   ]
  },
  {
   "cell_type": "code",
   "execution_count": 327,
   "metadata": {},
   "outputs": [],
   "source": [
    "def rangeVencLake(path, arquivo, vencimento, meses):\n",
    "    ult2mes_ano = str((vencimento+relativedelta(months=-2)).year)\n",
    "    ult2mes_mes = str((vencimento+relativedelta(months=-2)).month)\n",
    "    ult2mes_mes = ult2mes_mes if len(ult2mes_mes) == '1' else '0'+ult2mes_mes\n",
    "    ult2mes = int(ult2mes_ano + ult2mes_mes)\n",
    "\n",
    "    venc_ano = str((vencimento).year)\n",
    "    venc_mes = str((vencimento).month)\n",
    "    venc_mes = venc_mes if len(venc_mes) == '1' else '0'+venc_mes\n",
    "    venc = int(venc_ano + venc_mes)\n",
    "    \n",
    "    rangefinal = []\n",
    "    for x in range(ult2mes,venc+1):\n",
    "        rangefinal.append(f\"{path}{str(x)}/{arquivo}\")\n",
    "    \n",
    "    return rangefinal"
   ]
  },
  {
   "cell_type": "code",
   "execution_count": 329,
   "metadata": {},
   "outputs": [],
   "source": [
    "path = \"/mnt/datalake-pch/Pernambucanas/Transacoes/\"\n",
    "arquivo = \"eventosexternos.parquet\"\n",
    "venc = datetime.datetime.strptime(t[0].DataVencimento, \"%Y-%m-%d\")\n",
    "rg = rangeVencLake(path,arquivo,venc,-2)"
   ]
  },
  {
   "cell_type": "code",
   "execution_count": 346,
   "metadata": {},
   "outputs": [
    {
     "data": {
      "text/plain": [
       "['/mnt/datalake-pch/Pernambucanas/Transacoes/202003/eventosexternos.parquet',\n",
       " '/mnt/datalake-pch/Pernambucanas/Transacoes/202004/eventosexternos.parquet',\n",
       " '/mnt/datalake-pch/Pernambucanas/Transacoes/202005/eventosexternos.parquet']"
      ]
     },
     "execution_count": 346,
     "metadata": {},
     "output_type": "execute_result"
    }
   ],
   "source": [
    "rg"
   ]
  },
  {
   "cell_type": "code",
   "execution_count": 118,
   "metadata": {},
   "outputs": [
    {
     "ename": "TypeError",
     "evalue": "'month' is an invalid keyword argument for __new__()",
     "output_type": "error",
     "traceback": [
      "\u001b[1;31m---------------------------------------------------------------------------\u001b[0m",
      "\u001b[1;31mTypeError\u001b[0m                                 Traceback (most recent call last)",
      "\u001b[1;32m<ipython-input-118-7da099dcaacd>\u001b[0m in \u001b[0;36m<module>\u001b[1;34m\u001b[0m\n\u001b[1;32m----> 1\u001b[1;33m \u001b[0mt\u001b[0m\u001b[1;33m[\u001b[0m\u001b[1;36m0\u001b[0m\u001b[1;33m]\u001b[0m\u001b[1;33m.\u001b[0m\u001b[0mDataVencimento\u001b[0m \u001b[1;33m-\u001b[0m \u001b[0mdatetime\u001b[0m\u001b[1;33m.\u001b[0m\u001b[0mtimedelta\u001b[0m\u001b[1;33m(\u001b[0m\u001b[0mmonth\u001b[0m\u001b[1;33m=\u001b[0m\u001b[1;36m1\u001b[0m\u001b[1;33m)\u001b[0m\u001b[1;33m\u001b[0m\u001b[1;33m\u001b[0m\u001b[0m\n\u001b[0m",
      "\u001b[1;31mTypeError\u001b[0m: 'month' is an invalid keyword argument for __new__()"
     ]
    }
   ],
   "source": [
    "t[0].DataVencimento - datetime.timedelta(month=1)"
   ]
  }
 ],
 "metadata": {
  "kernelspec": {
   "display_name": "Python 3",
   "language": "python",
   "name": "python3"
  },
  "language_info": {
   "codemirror_mode": {
    "name": "ipython",
    "version": 3
   },
   "file_extension": ".py",
   "mimetype": "text/x-python",
   "name": "python",
   "nbconvert_exporter": "python",
   "pygments_lexer": "ipython3",
   "version": "3.7.6"
  }
 },
 "nbformat": 4,
 "nbformat_minor": 4
}
