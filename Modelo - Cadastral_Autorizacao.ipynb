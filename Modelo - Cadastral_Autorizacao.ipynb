{
 "cells": [
  {
   "cell_type": "code",
   "execution_count": 1,
   "metadata": {},
   "outputs": [
    {
     "name": "stdout",
     "output_type": "stream",
     "text": [
      "importing Jupyter notebook from utils_cdt.ipynb\n"
     ]
    }
   ],
   "source": [
    "import pandas as pd\n",
    "import import_ipynb\n",
    "import utils_cdt as cdt\n",
    "import pyodbc\n",
    "import time"
   ]
  },
  {
   "cell_type": "code",
   "execution_count": 2,
   "metadata": {},
   "outputs": [],
   "source": [
    "infoDataBases = {\"ip\":\"\",\n",
    "                 \"base\":\"\"}"
   ]
  },
  {
   "cell_type": "code",
   "execution_count": 3,
   "metadata": {},
   "outputs": [],
   "source": [
    "#Consulta de BASE SQL Server\n",
    "arq = open(\"querys/transacao_nao_cadastrada.sql\",\"r+\")\n",
    "consulta_transacoes = arq.read()\n",
    "arq.close()"
   ]
  },
  {
   "cell_type": "code",
   "execution_count": 4,
   "metadata": {},
   "outputs": [],
   "source": [
    "arq = open(\"querys/duplicidade_codigosprocessamento.sql\",\"r+\")\n",
    "consulta_duplicidade = arq.read()\n",
    "arq.close()"
   ]
  },
  {
   "cell_type": "code",
   "execution_count": 5,
   "metadata": {},
   "outputs": [],
   "source": [
    "arq = open(\"querys/prepago_limite.sql\",\"r+\")\n",
    "consulta_prepago = arq.read()\n",
    "arq.close()"
   ]
  },
  {
   "cell_type": "code",
   "execution_count": 6,
   "metadata": {},
   "outputs": [
    {
     "name": "stdout",
     "output_type": "stream",
     "text": [
      "Tempo em segundos :  20.307000637054443\n"
     ]
    }
   ],
   "source": [
    "ini = time.time()\n",
    "df_transacoes = cdt.extrairDados(infoDataBases, consulta_transacoes, spark=False)\n",
    "fim = time.time()\n",
    "print (\"Tempo em segundos : \", fim-ini)"
   ]
  },
  {
   "cell_type": "code",
   "execution_count": 7,
   "metadata": {},
   "outputs": [
    {
     "name": "stdout",
     "output_type": "stream",
     "text": [
      "Tempo em segundos :  0.8818726539611816\n"
     ]
    }
   ],
   "source": [
    "ini = time.time()\n",
    "df_duplicidade = cdt.extrairDados(infoDataBases, consulta_duplicidade, spark=False)\n",
    "fim = time.time()\n",
    "print (\"Tempo em segundos : \", fim-ini)"
   ]
  },
  {
   "cell_type": "code",
   "execution_count": 8,
   "metadata": {},
   "outputs": [
    {
     "name": "stdout",
     "output_type": "stream",
     "text": [
      "Tempo em segundos :  11.055957317352295\n"
     ]
    }
   ],
   "source": [
    "ini = time.time()\n",
    "df_prepago = cdt.extrairDados(infoDataBases, consulta_prepago, spark=False)\n",
    "fim = time.time()\n",
    "print (\"Tempo em segundos : \", fim-ini)"
   ]
  },
  {
   "cell_type": "code",
   "execution_count": 9,
   "metadata": {},
   "outputs": [],
   "source": [
    "#Necessario leitura da base anteriormente\n",
    "# Inputs: df_transacoes, df_duplicidade, df_prepago\n",
    "# Outputs: array de dicionario\n",
    "# {Descricao, DataFrame}\n",
    "\n",
    "def validacaoCadastralAutorizacao():\n",
    "    resumo = pd.DataFrame(columns = ['Emissor','Descricao', 'Quantidade'])\n",
    "    resultado = []\n",
    "    if(not df_transacoes.empty):\n",
    "        #Monta dataframe resumido\n",
    "        linha = {'Emissor': df_transacoes['Emissor'][0], 'Descricao':'Transações negadas por falta de cadastro na vinculos operações', 'Quantidade': df_transacoes['registros'].sum()}\n",
    "        resumo = resumo.append(linha, ignore_index = True)\n",
    "        \n",
    "        #DataFrame do erro\n",
    "        resultado.append({'Descricao': 'Transações negadas por falta de cadastro na vínculos operações ', 'DataFrame': df_transacoes})\n",
    "\n",
    "    if(not df_duplicidade.empty):\n",
    "        #Monta dataframe resumido\n",
    "        linha = {'Emissor': df_duplicidade['Emissor'][0],'Descricao':'Duplicidade na tabela codigosprocessamento', 'Quantidade': df_duplicidade['registros'].count()}\n",
    "        resumo = resumo.append(linha, ignore_index = True)\n",
    "        \n",
    "        #DataFrame do erro\n",
    "        resultado.append({'Descricao': 'Registros duplicados na tabela codigosprocessamento ', 'DataFrame': df_duplicidade})\n",
    "        \n",
    "    if(not df_prepago.empty):\n",
    "        linha = {'Emissor': df_prepago['Emissor'][0],'Descricao':'Produtos pré-pagos que não afetam nenhum limite ou que aumentam o limite', 'Quantidade': df_prepago['Emissor'].count()}\n",
    "        resumo= resumo.append(linha, ignore_index = True)\n",
    "        \n",
    "         #DataFrame do erro\n",
    "        resultado.append({'Descricao': 'Produtos pré-pagos que não afetam limite ', 'DataFrame': df_prepago})\n",
    "        \n",
    "    #lista de dicionarios\n",
    "    #{Descricao: '', DataFrame: }\n",
    "    resultado.insert(0, {'Descricao':'', 'DataFrame': resumo})\n",
    "    return resultado           "
   ]
  },
  {
   "cell_type": "code",
   "execution_count": 18,
   "metadata": {},
   "outputs": [
    {
     "data": {
      "text/plain": [
       "'Transações negadas por falta de cadastro na vínculos operações '"
      ]
     },
     "execution_count": 18,
     "metadata": {},
     "output_type": "execute_result"
    }
   ],
   "source": [
    "#retorno lista de dicionarios\n",
    "resultado = validacaoCadastralAutorizacao()\n",
    "resultado[2]['Descricao']"
   ]
  },
  {
   "cell_type": "code",
   "execution_count": 21,
   "metadata": {},
   "outputs": [
    {
     "data": {
      "text/plain": [
       "[{'Descricao': '',\n",
       "  'DataFrame':      Emissor                                          Descricao Quantidade\n",
       "  0  Pagseguro  Transações negadas por falta de cadastro na vi...      10293\n",
       "  1  Pagseguro         Duplicidade na tabela codigosprocessamento          1\n",
       "  2  Pagseguro  Produtos pré-pagos que não afetam nenhum limit...          4},\n",
       " {'Descricao': 'Transações negadas por falta de cadastro na vínculos operações ',\n",
       "  'DataFrame':       Emissor           Descricao_Odin  Id_produto CodigoProcessamento  \\\n",
       "  0   Pagseguro  OPERACAO_NAO_ENCONTRADA           1              003800   \n",
       "  1   Pagseguro  OPERACAO_NAO_ENCONTRADA           1              011000   \n",
       "  2   Pagseguro  OPERACAO_NAO_ENCONTRADA           1              012000   \n",
       "  3   Pagseguro  OPERACAO_NAO_ENCONTRADA           3              003800   \n",
       "  4   Pagseguro  OPERACAO_NAO_ENCONTRADA           3              003810   \n",
       "  5   Pagseguro  OPERACAO_NAO_ENCONTRADA           3              011000   \n",
       "  6   Pagseguro  OPERACAO_NAO_ENCONTRADA           3              012000   \n",
       "  7   Pagseguro  OPERACAO_NAO_ENCONTRADA           3              153000   \n",
       "  8   Pagseguro  OPERACAO_NAO_ENCONTRADA           4              003800   \n",
       "  9   Pagseguro  OPERACAO_NAO_ENCONTRADA           4              011000   \n",
       "  10  Pagseguro  OPERACAO_NAO_ENCONTRADA           4              012000   \n",
       "  11  Pagseguro  OPERACAO_NAO_ENCONTRADA          10              001000   \n",
       "  12  Pagseguro  OPERACAO_NAO_ENCONTRADA          10              003810   \n",
       "  13  Pagseguro  OPERACAO_NAO_ENCONTRADA          10              110000   \n",
       "  14  Pagseguro  OPERACAO_NAO_ENCONTRADA          11              003000   \n",
       "  15  Pagseguro  OPERACAO_NAO_ENCONTRADA          11              003800   \n",
       "  16  Pagseguro  OPERACAO_NAO_ENCONTRADA          11              003810   \n",
       "  17  Pagseguro  OPERACAO_NAO_ENCONTRADA          11              110000   \n",
       "  18  Pagseguro  OPERACAO_NAO_ENCONTRADA          11              113000   \n",
       "  19  Pagseguro  OPERACAO_NAO_ENCONTRADA          11              200000   \n",
       "  20  Pagseguro  OPERACAO_NAO_ENCONTRADA          12              003000   \n",
       "  21  Pagseguro  OPERACAO_NAO_ENCONTRADA          12              003800   \n",
       "  22  Pagseguro  OPERACAO_NAO_ENCONTRADA          12              003810   \n",
       "  23  Pagseguro  OPERACAO_NAO_ENCONTRADA          12              110000   \n",
       "  24  Pagseguro  OPERACAO_NAO_ENCONTRADA          12              113000   \n",
       "  25  Pagseguro  OPERACAO_NAO_ENCONTRADA          12              200000   \n",
       "  \n",
       "                                              Nome       Valor  registros  \n",
       "  0   CARTÃO PRÉ-PAGO PAGSEGURO BIN NOVO COMPRADOR   113135.29        185  \n",
       "  1   CARTÃO PRÉ-PAGO PAGSEGURO BIN NOVO COMPRADOR     3170.00         13  \n",
       "  2   CARTÃO PRÉ-PAGO PAGSEGURO BIN NOVO COMPRADOR    23090.00         75  \n",
       "  3   CARTÃO PRÉ-PAGO PAGSEGURO BIN NOVO VENDEDOR    448035.44        805  \n",
       "  4   CARTÃO PRÉ-PAGO PAGSEGURO BIN NOVO VENDEDOR      1081.00          4  \n",
       "  5   CARTÃO PRÉ-PAGO PAGSEGURO BIN NOVO VENDEDOR     74040.00        188  \n",
       "  6   CARTÃO PRÉ-PAGO PAGSEGURO BIN NOVO VENDEDOR    431610.00        954  \n",
       "  7   CARTÃO PRÉ-PAGO PAGSEGURO BIN NOVO VENDEDOR        70.93          3  \n",
       "  8            CARTÃO PRÉ-PAGO EMISSÃO INSTANTÂNEA   162639.87        419  \n",
       "  9            CARTÃO PRÉ-PAGO EMISSÃO INSTANTÂNEA    63900.00        166  \n",
       "  10           CARTÃO PRÉ-PAGO EMISSÃO INSTANTÂNEA   326600.00        769  \n",
       "  11     CARTÃO DE CRÉDITO PAGSEGURO VENDEDOR VISA       33.80          2  \n",
       "  12     CARTÃO DE CRÉDITO PAGSEGURO VENDEDOR VISA    22855.86         87  \n",
       "  13     CARTÃO DE CRÉDITO PAGSEGURO VENDEDOR VISA     8176.11        108  \n",
       "  14                 CARTÃO PRÉ-PAGO VENDEDOR VISA       70.00          1  \n",
       "  15                 CARTÃO PRÉ-PAGO VENDEDOR VISA   876498.05       2290  \n",
       "  16                 CARTÃO PRÉ-PAGO VENDEDOR VISA     4170.71          6  \n",
       "  17                 CARTÃO PRÉ-PAGO VENDEDOR VISA     4950.36        626  \n",
       "  18                 CARTÃO PRÉ-PAGO VENDEDOR VISA      141.80          4  \n",
       "  19                 CARTÃO PRÉ-PAGO VENDEDOR VISA      445.24         32  \n",
       "  20               CARTÃO PRÉ-PAGO CONSUMIDOR VISA       70.00          1  \n",
       "  21               CARTÃO PRÉ-PAGO CONSUMIDOR VISA  3346272.48       3302  \n",
       "  22               CARTÃO PRÉ-PAGO CONSUMIDOR VISA     6833.38         13  \n",
       "  23               CARTÃO PRÉ-PAGO CONSUMIDOR VISA    10436.61        227  \n",
       "  24               CARTÃO PRÉ-PAGO CONSUMIDOR VISA      220.00          4  \n",
       "  25               CARTÃO PRÉ-PAGO CONSUMIDOR VISA      405.13          9  },\n",
       " {'Descricao': 'Registros duplicados na tabela codigosprocessamento ',\n",
       "  'DataFrame':      Emissor CodigoProcessamento Transacao  TipoBuscaDadosOperacao  registros\n",
       "  0  Pagseguro              010030      0100                       1         12},\n",
       " {'Descricao': 'Produtos pré-pagos que não afetam limite ',\n",
       "  'DataFrame':      Emissor                             Nome  Id_Operacao  Id_Produto  \\\n",
       "  0  Pagseguro  CARTÃO PRÉ-PAGO CONSUMIDOR VISA        10448          12   \n",
       "  1  Pagseguro  CARTÃO PRÉ-PAGO CONSUMIDOR VISA        10449          12   \n",
       "  2  Pagseguro    CARTÃO PRÉ-PAGO VENDEDOR VISA        10448          11   \n",
       "  3  Pagseguro    CARTÃO PRÉ-PAGO VENDEDOR VISA        10449          11   \n",
       "  \n",
       "                NomeOperacao  VcontratoDG  VcontratoDS  VcontratoDPdo  \\\n",
       "  0  Saque Pré-Pago Visa Nac            0            0              0   \n",
       "  1  Saque Pré-Pago Visa Ext            0            0              0   \n",
       "  2  Saque Pré-Pago Visa Nac            0            0              0   \n",
       "  3  Saque Pré-Pago Visa Ext            0            0              0   \n",
       "  \n",
       "     VcontratoDPla  VcompraDG  VcompraDS  \n",
       "  0              0          0          0  \n",
       "  1              0          0          0  \n",
       "  2              0          0          0  \n",
       "  3              0          0          0  }]"
      ]
     },
     "execution_count": 21,
     "metadata": {},
     "output_type": "execute_result"
    }
   ],
   "source": [
    "resultado"
   ]
  }
 ],
 "metadata": {
  "kernelspec": {
   "display_name": "Python 3",
   "language": "python",
   "name": "python3"
  },
  "language_info": {
   "codemirror_mode": {
    "name": "ipython",
    "version": 3
   },
   "file_extension": ".py",
   "mimetype": "text/x-python",
   "name": "python",
   "nbconvert_exporter": "python",
   "pygments_lexer": "ipython3",
   "version": "3.7.6"
  }
 },
 "nbformat": 4,
 "nbformat_minor": 4
}
