{
 "cells": [
  {
   "cell_type": "code",
   "execution_count": 225,
   "metadata": {},
   "outputs": [],
   "source": [
    "import pandas as pd\n",
    "import numpy as np\n",
    "import import_ipynb\n",
    "import utils_cdt as cdtsql\n",
    "from datetime import datetime\n",
    "from datetime import date\n",
    "from sklearn import metrics\n",
    "\n",
    "import matplotlib.pyplot as plt\n",
    "import time\n",
    "import pickle\n",
    "from pyspark.sql import SparkSession, Row\n",
    "from pyspark.sql import SQLContext\n",
    "from pyspark.sql.functions import *\n",
    "from pyspark.sql.types import *\n",
    "from pyspark.storagelevel import StorageLevel "
   ]
  },
  {
   "cell_type": "code",
   "execution_count": 445,
   "metadata": {},
   "outputs": [
    {
     "data": {
      "text/plain": [
       "'2020-04-16'"
      ]
     },
     "execution_count": 445,
     "metadata": {},
     "output_type": "execute_result"
    }
   ],
   "source": [
    "datetime.today().strftime('%Y-%m-%d')"
   ]
  },
  {
   "cell_type": "code",
   "execution_count": 290,
   "metadata": {},
   "outputs": [],
   "source": [
    "infoDataBases = {\"ip\":\"\",\"base\":\"\"}\n",
    "dia_corte = 21"
   ]
  },
  {
   "cell_type": "code",
   "execution_count": 227,
   "metadata": {},
   "outputs": [],
   "source": [
    "def cache(self): \n",
    "    \"\"\" \n",
    "    Persist this RDD with the default storage level (C{MEMORY_ONLY_SER}). \n",
    "    \"\"\" \n",
    "    self.is_cached = True \n",
    "    self.persist(StorageLevel.MEMORY_ONLY_SER) \n",
    "    return self \n",
    "spark = SparkSession \\\n",
    "    .builder \\\n",
    "    .appName(\"Modelo - Spark\") \\\n",
    "    .config(\"spark.executor.memory\", \"4gb\") \\\n",
    "    .config(\"spark.driver.host\",\"127.0.0.1\") \\\n",
    "    .getOrCreate()\n",
    "\n",
    "sc = spark.sparkContext\n",
    "sc = SQLContext(sc)"
   ]
  },
  {
   "cell_type": "code",
   "execution_count": 448,
   "metadata": {},
   "outputs": [],
   "source": [
    "arquivos = [\"../data/eventosexternos/202001/eventosexternos.parquet\",\n",
    "                                                      \"../data/eventosexternos/202002/eventosexternos.parquet\",\n",
    "                                                       \"../data/eventosexternos/202003/eventosexternos.parquet\"]\n",
    "\n",
    "\n",
    "df_eventosexternos = pd.concat([pd.read_parquet(f) for f in arquivos], ignore_index = True)"
   ]
  },
  {
   "cell_type": "code",
   "execution_count": 449,
   "metadata": {},
   "outputs": [
    {
     "data": {
      "text/html": [
       "<div>\n",
       "<style scoped>\n",
       "    .dataframe tbody tr th:only-of-type {\n",
       "        vertical-align: middle;\n",
       "    }\n",
       "\n",
       "    .dataframe tbody tr th {\n",
       "        vertical-align: top;\n",
       "    }\n",
       "\n",
       "    .dataframe thead th {\n",
       "        text-align: right;\n",
       "    }\n",
       "</style>\n",
       "<table border=\"1\" class=\"dataframe\">\n",
       "  <thead>\n",
       "    <tr style=\"text-align: right;\">\n",
       "      <th></th>\n",
       "      <th>NomeOperacao</th>\n",
       "      <th>Id_Operacao</th>\n",
       "      <th>Id_Conta</th>\n",
       "      <th>DataOrigem</th>\n",
       "      <th>DataEntrada</th>\n",
       "      <th>DataMovimento</th>\n",
       "      <th>ValorParcela</th>\n",
       "      <th>ResponsavelInclusao</th>\n",
       "      <th>Status</th>\n",
       "      <th>Complemento</th>\n",
       "      <th>Id_Autorizacao</th>\n",
       "      <th>DataVencimentoPadrao</th>\n",
       "      <th>Valor</th>\n",
       "    </tr>\n",
       "  </thead>\n",
       "  <tbody>\n",
       "    <tr>\n",
       "      <th>0</th>\n",
       "      <td>Debito Bolsa Protegida</td>\n",
       "      <td>10536</td>\n",
       "      <td>10085344</td>\n",
       "      <td>2020-01-20 22:15:00</td>\n",
       "      <td>2020-01-20 22:37:00</td>\n",
       "      <td>2020-01-20</td>\n",
       "      <td>6.99</td>\n",
       "      <td>SSA</td>\n",
       "      <td>2</td>\n",
       "      <td>007/060</td>\n",
       "      <td>None</td>\n",
       "      <td>11/02/2020</td>\n",
       "      <td>6.99</td>\n",
       "    </tr>\n",
       "    <tr>\n",
       "      <th>1</th>\n",
       "      <td>Debito Proteção Financeira</td>\n",
       "      <td>10538</td>\n",
       "      <td>11732055</td>\n",
       "      <td>2020-01-20 22:15:00</td>\n",
       "      <td>2020-01-20 22:37:00</td>\n",
       "      <td>2020-01-20</td>\n",
       "      <td>6.99</td>\n",
       "      <td>SSA</td>\n",
       "      <td>2</td>\n",
       "      <td>007/120</td>\n",
       "      <td>None</td>\n",
       "      <td>25/02/2020</td>\n",
       "      <td>6.99</td>\n",
       "    </tr>\n",
       "  </tbody>\n",
       "</table>\n",
       "</div>"
      ],
      "text/plain": [
       "                 NomeOperacao  Id_Operacao  Id_Conta          DataOrigem  \\\n",
       "0      Debito Bolsa Protegida        10536  10085344 2020-01-20 22:15:00   \n",
       "1  Debito Proteção Financeira        10538  11732055 2020-01-20 22:15:00   \n",
       "\n",
       "          DataEntrada DataMovimento  ValorParcela ResponsavelInclusao  Status  \\\n",
       "0 2020-01-20 22:37:00    2020-01-20          6.99                 SSA       2   \n",
       "1 2020-01-20 22:37:00    2020-01-20          6.99                 SSA       2   \n",
       "\n",
       "  Complemento Id_Autorizacao DataVencimentoPadrao  Valor  \n",
       "0     007/060           None           11/02/2020   6.99  \n",
       "1     007/120           None           25/02/2020   6.99  "
      ]
     },
     "execution_count": 449,
     "metadata": {},
     "output_type": "execute_result"
    }
   ],
   "source": [
    "df_eventosexternos.head(2)"
   ]
  },
  {
   "cell_type": "code",
   "execution_count": 450,
   "metadata": {},
   "outputs": [],
   "source": [
    "dados_eventos = df_eventosexternos.groupby(['Id_Operacao','NomeOperacao','DataVencimentoPadrao']).agg({'Valor':['sum','mean','std']})\n",
    "\n",
    "dados_eventos = dados_eventos.reset_index()\n",
    "\n",
    "dados_eventos = dados_eventos.rename(columns={\"sum\": \"valortotal\", \"mean\": \"media\", \"std\": \"desviopadrao\"})\n",
    "dados_eventos['DataVencimentoPadrao'] = pd.to_datetime(dados_eventos.DataVencimentoPadrao, format=\"%d/%m/%Y\")\n",
    "dados_eventos['dia'] = dados_eventos.DataVencimentoPadrao.dt.day\n",
    "dados_eventos['mes'] = dados_eventos.DataVencimentoPadrao.dt.month\n",
    "dados_eventos['ano'] = dados_eventos.DataVencimentoPadrao.dt.year\n",
    "dados_eventos = dados_eventos.loc[dados_eventos.dia == dia_corte]\n",
    "dados_eventos.columns = dados_eventos.columns.droplevel()\n",
    "dados_eventos.columns = ['Id_Operacao','NomeOperacao','DataVencimentoPadrao','ValorTotal','Media','DesvioPadrao','dia','mes','ano']"
   ]
  },
  {
   "cell_type": "code",
   "execution_count": 383,
   "metadata": {},
   "outputs": [
    {
     "data": {
      "text/html": [
       "<div>\n",
       "<style scoped>\n",
       "    .dataframe tbody tr th:only-of-type {\n",
       "        vertical-align: middle;\n",
       "    }\n",
       "\n",
       "    .dataframe tbody tr th {\n",
       "        vertical-align: top;\n",
       "    }\n",
       "\n",
       "    .dataframe thead th {\n",
       "        text-align: right;\n",
       "    }\n",
       "</style>\n",
       "<table border=\"1\" class=\"dataframe\">\n",
       "  <thead>\n",
       "    <tr style=\"text-align: right;\">\n",
       "      <th></th>\n",
       "      <th>Id_Operacao</th>\n",
       "      <th>NomeOperacao</th>\n",
       "      <th>DataVencimentoPadrao</th>\n",
       "      <th>ValorTotal</th>\n",
       "      <th>Media</th>\n",
       "      <th>DesvioPadrao</th>\n",
       "      <th>dia</th>\n",
       "      <th>mes</th>\n",
       "      <th>ano</th>\n",
       "    </tr>\n",
       "  </thead>\n",
       "  <tbody>\n",
       "    <tr>\n",
       "      <th>16</th>\n",
       "      <td>10415</td>\n",
       "      <td>Debito Seguro Novo Cartao Protegido</td>\n",
       "      <td>2020-01-21</td>\n",
       "      <td>37115.8</td>\n",
       "      <td>2.557594</td>\n",
       "      <td>1.241152</td>\n",
       "      <td>21</td>\n",
       "      <td>1</td>\n",
       "      <td>2020</td>\n",
       "    </tr>\n",
       "    <tr>\n",
       "      <th>17</th>\n",
       "      <td>10415</td>\n",
       "      <td>Debito Seguro Novo Cartao Protegido</td>\n",
       "      <td>2020-02-21</td>\n",
       "      <td>36222.4</td>\n",
       "      <td>2.555192</td>\n",
       "      <td>1.239519</td>\n",
       "      <td>21</td>\n",
       "      <td>2</td>\n",
       "      <td>2020</td>\n",
       "    </tr>\n",
       "  </tbody>\n",
       "</table>\n",
       "</div>"
      ],
      "text/plain": [
       "    Id_Operacao                         NomeOperacao DataVencimentoPadrao  \\\n",
       "16        10415  Debito Seguro Novo Cartao Protegido           2020-01-21   \n",
       "17        10415  Debito Seguro Novo Cartao Protegido           2020-02-21   \n",
       "\n",
       "    ValorTotal     Media  DesvioPadrao  dia  mes   ano  \n",
       "16     37115.8  2.557594      1.241152   21    1  2020  \n",
       "17     36222.4  2.555192      1.239519   21    2  2020  "
      ]
     },
     "execution_count": 383,
     "metadata": {},
     "output_type": "execute_result"
    }
   ],
   "source": [
    "dados_eventos.head(2)"
   ]
  },
  {
   "cell_type": "code",
   "execution_count": 417,
   "metadata": {},
   "outputs": [
    {
     "data": {
      "text/html": [
       "<div>\n",
       "<style scoped>\n",
       "    .dataframe tbody tr th:only-of-type {\n",
       "        vertical-align: middle;\n",
       "    }\n",
       "\n",
       "    .dataframe tbody tr th {\n",
       "        vertical-align: top;\n",
       "    }\n",
       "\n",
       "    .dataframe thead th {\n",
       "        text-align: right;\n",
       "    }\n",
       "</style>\n",
       "<table border=\"1\" class=\"dataframe\">\n",
       "  <thead>\n",
       "    <tr style=\"text-align: right;\">\n",
       "      <th></th>\n",
       "      <th>Id_Operacao</th>\n",
       "      <th>NomeOperacao</th>\n",
       "      <th>ValorOperacao</th>\n",
       "      <th>mediaOperacao</th>\n",
       "      <th>desviopadraoOperacao</th>\n",
       "    </tr>\n",
       "  </thead>\n",
       "  <tbody>\n",
       "    <tr>\n",
       "      <th>0</th>\n",
       "      <td>10415</td>\n",
       "      <td>Debito Seguro Novo Cartao Protegido</td>\n",
       "      <td>108756.1</td>\n",
       "      <td>27189.025</td>\n",
       "      <td>18116.636243</td>\n",
       "    </tr>\n",
       "    <tr>\n",
       "      <th>1</th>\n",
       "      <td>10416</td>\n",
       "      <td>Debito Seguro Cartao Protegido</td>\n",
       "      <td>13025.4</td>\n",
       "      <td>3256.350</td>\n",
       "      <td>2170.650155</td>\n",
       "    </tr>\n",
       "  </tbody>\n",
       "</table>\n",
       "</div>"
      ],
      "text/plain": [
       "   Id_Operacao                         NomeOperacao  ValorOperacao  \\\n",
       "0        10415  Debito Seguro Novo Cartao Protegido       108756.1   \n",
       "1        10416       Debito Seguro Cartao Protegido        13025.4   \n",
       "\n",
       "   mediaOperacao  desviopadraoOperacao  \n",
       "0      27189.025          18116.636243  \n",
       "1       3256.350           2170.650155  "
      ]
     },
     "execution_count": 417,
     "metadata": {},
     "output_type": "execute_result"
    }
   ],
   "source": [
    "colunas = ['Id_Operacao','NomeOperacao','ValorTotal']\n",
    "total_eventos = dados_eventos[colunas]\n",
    "total_eventos = total_eventos.groupby(['Id_Operacao','NomeOperacao']).agg({'ValorTotal':['sum','mean','std']})\n",
    "total_eventos = total_eventos.reset_index()\n",
    "total_eventos.columns = total_eventos.columns.droplevel()\n",
    "colunas = ['Id_Operacao','NomeOperacao','ValorOperacao','mediaOperacao','desviopadraoOperacao']\n",
    "total_eventos.columns = colunas\n",
    "total_eventos.head(2)"
   ]
  },
  {
   "cell_type": "code",
   "execution_count": 432,
   "metadata": {},
   "outputs": [],
   "source": [
    "totalgeral = dados_eventos.merge(total_eventos, left_on='Id_Operacao', right_on='Id_Operacao')\n",
    "totalgeral['zscore'] = (totalgeral['ValorTotal'] - totalgeral['mediaOperacao']) / totalgeral['desviopadraoOperacao']\n",
    "colunas = list(totalgeral.columns[0:9])\n",
    "colunas.append('zscore')\n",
    "totalgeral = totalgeral[colunas]\n",
    "totalgeral = totalgeral.loc[totalgeral.zscore <= -1] & (totalgeral.mes == vencimento.month)]"
   ]
  },
  {
   "cell_type": "code",
   "execution_count": 438,
   "metadata": {},
   "outputs": [],
   "source": [
    "#obtem as operações que estão com baixo score. \n",
    "operacoes = totalgeral.Id_Operacao.values"
   ]
  },
  {
   "cell_type": "code",
   "execution_count": 447,
   "metadata": {},
   "outputs": [
    {
     "data": {
      "text/html": [
       "<div>\n",
       "<style scoped>\n",
       "    .dataframe tbody tr th:only-of-type {\n",
       "        vertical-align: middle;\n",
       "    }\n",
       "\n",
       "    .dataframe tbody tr th {\n",
       "        vertical-align: top;\n",
       "    }\n",
       "\n",
       "    .dataframe thead th {\n",
       "        text-align: right;\n",
       "    }\n",
       "</style>\n",
       "<table border=\"1\" class=\"dataframe\">\n",
       "  <thead>\n",
       "    <tr style=\"text-align: right;\">\n",
       "      <th></th>\n",
       "      <th>Id_Operacao</th>\n",
       "      <th>NomeOperacao</th>\n",
       "      <th>DataVencimentoPadrao</th>\n",
       "      <th>ValorTotal</th>\n",
       "      <th>Media</th>\n",
       "      <th>DesvioPadrao</th>\n",
       "      <th>dia</th>\n",
       "      <th>mes</th>\n",
       "      <th>ano</th>\n",
       "    </tr>\n",
       "  </thead>\n",
       "  <tbody>\n",
       "    <tr>\n",
       "      <th>16</th>\n",
       "      <td>10415</td>\n",
       "      <td>Debito Seguro Novo Cartao Protegido</td>\n",
       "      <td>2020-01-21</td>\n",
       "      <td>37115.8</td>\n",
       "      <td>2.557594</td>\n",
       "      <td>1.241152</td>\n",
       "      <td>21</td>\n",
       "      <td>1</td>\n",
       "      <td>2020</td>\n",
       "    </tr>\n",
       "    <tr>\n",
       "      <th>17</th>\n",
       "      <td>10415</td>\n",
       "      <td>Debito Seguro Novo Cartao Protegido</td>\n",
       "      <td>2020-02-21</td>\n",
       "      <td>36222.4</td>\n",
       "      <td>2.555192</td>\n",
       "      <td>1.239519</td>\n",
       "      <td>21</td>\n",
       "      <td>2</td>\n",
       "      <td>2020</td>\n",
       "    </tr>\n",
       "    <tr>\n",
       "      <th>18</th>\n",
       "      <td>10415</td>\n",
       "      <td>Debito Seguro Novo Cartao Protegido</td>\n",
       "      <td>2020-03-21</td>\n",
       "      <td>35383.1</td>\n",
       "      <td>2.547563</td>\n",
       "      <td>1.234285</td>\n",
       "      <td>21</td>\n",
       "      <td>3</td>\n",
       "      <td>2020</td>\n",
       "    </tr>\n",
       "  </tbody>\n",
       "</table>\n",
       "</div>"
      ],
      "text/plain": [
       "    Id_Operacao                         NomeOperacao DataVencimentoPadrao  \\\n",
       "16        10415  Debito Seguro Novo Cartao Protegido           2020-01-21   \n",
       "17        10415  Debito Seguro Novo Cartao Protegido           2020-02-21   \n",
       "18        10415  Debito Seguro Novo Cartao Protegido           2020-03-21   \n",
       "\n",
       "    ValorTotal     Media  DesvioPadrao  dia  mes   ano  \n",
       "16     37115.8  2.557594      1.241152   21    1  2020  \n",
       "17     36222.4  2.555192      1.239519   21    2  2020  \n",
       "18     35383.1  2.547563      1.234285   21    3  2020  "
      ]
     },
     "execution_count": 447,
     "metadata": {},
     "output_type": "execute_result"
    }
   ],
   "source": [
    "# Lista todos os dados dessas operações de baixo score\n",
    "totalgeral = totalgeral[totalgeral.Id_Operacao.isin(operacoes)].sort_values(['Id_Operacao','mes'])"
   ]
  },
  {
   "cell_type": "code",
   "execution_count": null,
   "metadata": {},
   "outputs": [],
   "source": [
    "# Compara total de diferença entre vencimento atual com as oeprações de zscore baixo e vencimento anterior. \n",
    "valorbaixo = dfzscorebaixo[['Id_Operacao','DataVencimentoPadrao','ValorTotal',\"zscore\"]]\n",
    "valoranterior = totalgeral[['Id_Operacao','DataVencimentoPadrao','ValorTotal',\"zscore\"]].loc[totalgeral.DataVencimentoPadrao == str(lessmonthvenc)]\n",
    "diff_atual_anterior = valorbaixo.join(valoranterior.set_index(\"Id_Operacao\"), on=\"Id_Operacao\", lsuffix='_Atual', rsuffix='_Anterior')\n",
    "diff_atual_anterior['diferenca'] = diff_atual_anterior['ValorTotal_Atual'] - diff_atual_anterior['ValorTotal_Anterior']"
   ]
  }
 ],
 "metadata": {
  "kernelspec": {
   "display_name": "Python 3",
   "language": "python",
   "name": "python3"
  },
  "language_info": {
   "codemirror_mode": {
    "name": "ipython",
    "version": 3
   },
   "file_extension": ".py",
   "mimetype": "text/x-python",
   "name": "python",
   "nbconvert_exporter": "python",
   "pygments_lexer": "ipython3",
   "version": "3.7.6"
  }
 },
 "nbformat": 4,
 "nbformat_minor": 4
}
