{
 "cells": [
  {
   "cell_type": "code",
   "execution_count": 1,
   "metadata": {},
   "outputs": [
    {
     "output_type": "stream",
     "name": "stdout",
     "text": "importing Jupyter notebook from utils_cdt.ipynb\n"
    }
   ],
   "source": [
    "from pyspark.sql import SparkSession, SQLContext\n",
    "from pyspark import SparkContext\n",
    "import pandas as pd\n",
    "import datetime\n",
    "import import_ipynb\n",
    "import utils_cdt as cdt\n",
    "import pandas as pd"
   ]
  },
  {
   "cell_type": "code",
   "execution_count": 2,
   "metadata": {},
   "outputs": [],
   "source": [
    "data_vencimento = 10"
   ]
  },
  {
   "cell_type": "markdown",
   "metadata": {},
   "source": [
    "# Prioridade 1 - SaldoAtualFinal"
   ]
  },
  {
   "cell_type": "code",
   "execution_count": 3,
   "metadata": {},
   "outputs": [],
   "source": [
    "infoDataBases = {\"ip\":\"AZ2D-MASKDB-221.DEVCDT.COM.BR\",\"base\":\"Agiplan\"}"
   ]
  },
  {
   "cell_type": "code",
   "execution_count": 4,
   "metadata": {},
   "outputs": [],
   "source": [
    "consulta = cdt.resultQuery(\"mdl_historicoscorrentes.sql\").format(dia=data_vencimento)\n",
    "base = cdt.extrairDados(infoDataBases,consulta,path='../data/',arquivo=\"mdl_historicoscorrentes_\"+infoDataBases[\"base\"],spark=False,objSpark=None)"
   ]
  },
  {
   "cell_type": "code",
   "execution_count": 5,
   "metadata": {},
   "outputs": [
    {
     "output_type": "execute_result",
     "data": {
      "text/plain": "array(['10/01/2020', '10/02/2020', '10/03/2020', '10/04/2020'],\n      dtype=object)"
     },
     "metadata": {},
     "execution_count": 5
    }
   ],
   "source": [
    "base['DataVencimentoPadrao'].unique()"
   ]
  },
  {
   "cell_type": "code",
   "execution_count": 6,
   "metadata": {},
   "outputs": [],
   "source": [
    "base = base.fillna(0)\n",
    "base['dtvencimento'] = pd.to_datetime(base.DataVencimentoPadrao, format=\"%d/%m/%Y\")\n",
    "\n",
    "base = base.loc[base.dtvencimento.dt.day == data_vencimento]\n",
    "\n",
    "mylist = [\"SaldoExtratoAnterior\",\"FinanciavelExtrato\",\"SaldoAtualFinal\",\"CreditosNacionais\",\"DebitosNacionais\",\"SaquesNacionais\",\"Multa\",\"FinanciavelAtualFinal\",\"NaoFinanciavelAtualFinal\",\"BaseMultaCobrada\"]\n",
    "zeros = base[base[mylist].eq(0).all(1)]\n",
    "\n",
    "final = base.drop(zeros.index, axis=0)\n",
    "\n",
    "treino = final.drop(final.loc[base.dtvencimento.dt.month == 4].loc[base.dtvencimento.dt.year == 2020].index,axis = 0)\n",
    "teste = final.loc[base.dtvencimento.dt.month == 4].loc[base.dtvencimento.dt.year == 2020]"
   ]
  },
  {
   "cell_type": "markdown",
   "metadata": {},
   "source": [
    "## Pré-Processamento - SaldoAtualFinal"
   ]
  },
  {
   "cell_type": "code",
   "execution_count": 7,
   "metadata": {},
   "outputs": [
    {
     "output_type": "stream",
     "name": "stdout",
     "text": "0.2700016498565674\n"
    }
   ],
   "source": [
    "from sklearn.preprocessing import StandardScaler\n",
    "import time\n",
    "start_time = time.time()\n",
    "\n",
    "X = treino.drop(['SaldoAtualFinal','Id_Conta','DataVencimentoPadrao','dtvencimento'], axis=1)\n",
    "Y = treino['SaldoAtualFinal'].to_frame()\n",
    "\n",
    "scalerX = StandardScaler()\n",
    "scalerX.fit(X)\n",
    "Xss = scalerX.transform(X)\n",
    "\n",
    "scalerY = StandardScaler()\n",
    "scalerY.fit(Y)\n",
    "Yss = scalerY.transform(Y)\n",
    "\n",
    "print(str(time.time() - start_time))"
   ]
  },
  {
   "cell_type": "markdown",
   "metadata": {},
   "source": [
    "## Decision Tree - SaldoAtualFinal"
   ]
  },
  {
   "cell_type": "code",
   "execution_count": 8,
   "metadata": {},
   "outputs": [],
   "source": [
    "from sklearn import tree\n",
    "dt = tree.DecisionTreeRegressor()\n",
    "dt = dt.fit(Xss, Yss)\n",
    "mdl_saldoatualfinal = dt"
   ]
  },
  {
   "cell_type": "markdown",
   "metadata": {},
   "source": [
    "## Validate - SaldoAtualFinal"
   ]
  },
  {
   "cell_type": "code",
   "execution_count": 9,
   "metadata": {},
   "outputs": [
    {
     "output_type": "stream",
     "name": "stdout",
     "text": "SE - Sum of Error: \n[DecisionTreeRegressor] - Total Real:  235351390.00\n[DecisionTreeRegressor] - Total Prev:  235348882.81\n[DecisionTreeRegressor] - SE Final:  -2507.50\n[DecisionTreeRegressor] - Total Porcentagem de diferença do previsto x real:  0.00%\n----------------------------------------------------------\nME - Mean Error:  \n[DecisionTreeRegressor] - Total Registros: 243479\n[DecisionTreeRegressor] - Total Diff : -2507\n[DecisionTreeRegressor] - ME Final : -0.010299\n----------------------------------------------------------\nMAE - Mean Absolute Error:  \n[DecisionTreeRegressor] - Total Registros: 243479\n[DecisionTreeRegressor] - Total Absolute Diff : 1112526\n[DecisionTreeRegressor] - ME Final : 4.569287\n----------------------------------------------------------\nMPE - Mean Percentage Error:  \n[DecisionTreeRegressor] - Total Registros: 243479\n[DecisionTreeRegressor] - Total percent Diff: 64111\n[DecisionTreeRegressor] - MPE Final : 0.26%\n----------------------------------------------------------\nMAPAE - Mean Absolute Percentage Error:  \n[DecisionTreeRegressor] - Total Registros: 243479\n[DecisionTreeRegressor] - Total percent Absolute Diff: 490604\n[DecisionTreeRegressor] - MAPAE Final : 2.01%\n"
    }
   ],
   "source": [
    "realY = teste['SaldoAtualFinal'].values\n",
    "realX =  teste.drop(['SaldoAtualFinal','Id_Conta','DataVencimentoPadrao','dtvencimento'], axis=1)\n",
    "realXS = scalerX.transform(realX)\n",
    "\n",
    "preditoYS = dt.predict(realXS)\n",
    "preditoY = scalerY.inverse_transform(preditoYS)\n",
    "\n",
    "df_dict = {'Real':realY.astype(int),'Previsto': preditoY.astype(int)}\n",
    "\n",
    "rp = pd.DataFrame(df_dict)\n",
    "\n",
    "a = preditoY.astype(int).reshape(preditoY.astype(int).shape[0],1)\n",
    "b = realY.astype(int).reshape(realY.astype(int).shape[0],1)\n",
    "\n",
    "a = preditoY.reshape(preditoY.shape[0],1)\n",
    "df_final = cdt.transformDataSet(a, b)\n",
    "cdt.getresultdataset(df_final, \"DecisionTreeRegressor\")"
   ]
  },
  {
   "cell_type": "markdown",
   "metadata": {},
   "source": [
    "# Prioridade 2 - CreditosNacionais"
   ]
  },
  {
   "cell_type": "code",
   "execution_count": 10,
   "metadata": {},
   "outputs": [],
   "source": [
    "import pandas as pd\n",
    "consulta = cdt.resultQuery(\"mdl_historicoscorrentes.sql\").format(dia=data_vencimento)\n",
    "base = cdt.extrairDados(infoDataBases,consulta,path='../data/',arquivo=\"mdl_historicoscorrentes_\"+infoDataBases[\"base\"],spark=False,objSpark=None)\n",
    "base['dtvencimento'] = pd.to_datetime(base.DataVencimentoPadrao, format=\"%d/%m/%Y\")\n",
    "\n",
    "base = base.loc[base.dtvencimento.dt.day == data_vencimento]\n",
    "\n",
    "mylist = [\"SaldoExtratoAnterior\",\"FinanciavelExtrato\",\"SaldoAtualFinal\",\"CreditosNacionais\",\"DebitosNacionais\",\"SaquesNacionais\",\"Multa\",\"FinanciavelAtualFinal\",\"NaoFinanciavelAtualFinal\",\"BaseMultaCobrada\"]\n",
    "zeros = base[base[mylist].eq(0).all(1)]\n",
    "\n",
    "final = base.drop(zeros.index, axis=0)\n",
    "\n",
    "treino = final.drop(final.loc[base.dtvencimento.dt.month == 4].loc[base.dtvencimento.dt.year == 2020].index,axis = 0)\n",
    "teste = final.loc[base.dtvencimento.dt.month == 4].loc[base.dtvencimento.dt.year == 2020]"
   ]
  },
  {
   "cell_type": "markdown",
   "metadata": {},
   "source": [
    "## Pré-Processamento - CreditosNacionais"
   ]
  },
  {
   "cell_type": "code",
   "execution_count": 11,
   "metadata": {},
   "outputs": [
    {
     "output_type": "stream",
     "name": "stdout",
     "text": "0.3139984607696533\n"
    }
   ],
   "source": [
    "from sklearn.preprocessing import StandardScaler\n",
    "import time\n",
    "start_time = time.time()\n",
    "\n",
    "X = treino.drop(['CreditosNacionais','Id_Conta','DataVencimentoPadrao','dtvencimento'], axis=1)\n",
    "Y = treino['CreditosNacionais'].to_frame()\n",
    "\n",
    "scalerX = StandardScaler()\n",
    "scalerX.fit(X)\n",
    "Xss = scalerX.transform(X)\n",
    "\n",
    "scalerY = StandardScaler()\n",
    "scalerY.fit(Y)\n",
    "Yss = scalerY.transform(Y)\n",
    "\n",
    "print(str(time.time() - start_time))"
   ]
  },
  {
   "cell_type": "markdown",
   "metadata": {},
   "source": [
    "## Decision Tree - CréditosNacionais"
   ]
  },
  {
   "cell_type": "code",
   "execution_count": 12,
   "metadata": {},
   "outputs": [
    {
     "output_type": "error",
     "ename": "ValueError",
     "evalue": "Input contains NaN, infinity or a value too large for dtype('float32').",
     "traceback": [
      "\u001b[1;31m---------------------------------------------------------------------------\u001b[0m",
      "\u001b[1;31mValueError\u001b[0m                                Traceback (most recent call last)",
      "\u001b[1;32m<ipython-input-12-92a20291a882>\u001b[0m in \u001b[0;36m<module>\u001b[1;34m\u001b[0m\n\u001b[0;32m      2\u001b[0m \u001b[1;33m\u001b[0m\u001b[0m\n\u001b[0;32m      3\u001b[0m \u001b[0mdt\u001b[0m \u001b[1;33m=\u001b[0m \u001b[0mtree\u001b[0m\u001b[1;33m.\u001b[0m\u001b[0mDecisionTreeRegressor\u001b[0m\u001b[1;33m(\u001b[0m\u001b[1;33m)\u001b[0m\u001b[1;33m\u001b[0m\u001b[1;33m\u001b[0m\u001b[0m\n\u001b[1;32m----> 4\u001b[1;33m \u001b[0mdt\u001b[0m \u001b[1;33m=\u001b[0m \u001b[0mdt\u001b[0m\u001b[1;33m.\u001b[0m\u001b[0mfit\u001b[0m\u001b[1;33m(\u001b[0m\u001b[0mXss\u001b[0m\u001b[1;33m,\u001b[0m \u001b[0mYss\u001b[0m\u001b[1;33m)\u001b[0m\u001b[1;33m\u001b[0m\u001b[1;33m\u001b[0m\u001b[0m\n\u001b[0m\u001b[0;32m      5\u001b[0m \u001b[0mmdl_creditosnacionais\u001b[0m \u001b[1;33m=\u001b[0m \u001b[0mdt\u001b[0m\u001b[1;33m\u001b[0m\u001b[1;33m\u001b[0m\u001b[0m\n",
      "\u001b[1;32m~\\AppData\\Local\\Continuum\\anaconda3\\envs\\jupyterlab\\lib\\site-packages\\sklearn\\tree\\_classes.py\u001b[0m in \u001b[0;36mfit\u001b[1;34m(self, X, y, sample_weight, check_input, X_idx_sorted)\u001b[0m\n\u001b[0;32m   1223\u001b[0m             \u001b[0msample_weight\u001b[0m\u001b[1;33m=\u001b[0m\u001b[0msample_weight\u001b[0m\u001b[1;33m,\u001b[0m\u001b[1;33m\u001b[0m\u001b[1;33m\u001b[0m\u001b[0m\n\u001b[0;32m   1224\u001b[0m             \u001b[0mcheck_input\u001b[0m\u001b[1;33m=\u001b[0m\u001b[0mcheck_input\u001b[0m\u001b[1;33m,\u001b[0m\u001b[1;33m\u001b[0m\u001b[1;33m\u001b[0m\u001b[0m\n\u001b[1;32m-> 1225\u001b[1;33m             X_idx_sorted=X_idx_sorted)\n\u001b[0m\u001b[0;32m   1226\u001b[0m         \u001b[1;32mreturn\u001b[0m \u001b[0mself\u001b[0m\u001b[1;33m\u001b[0m\u001b[1;33m\u001b[0m\u001b[0m\n\u001b[0;32m   1227\u001b[0m \u001b[1;33m\u001b[0m\u001b[0m\n",
      "\u001b[1;32m~\\AppData\\Local\\Continuum\\anaconda3\\envs\\jupyterlab\\lib\\site-packages\\sklearn\\tree\\_classes.py\u001b[0m in \u001b[0;36mfit\u001b[1;34m(self, X, y, sample_weight, check_input, X_idx_sorted)\u001b[0m\n\u001b[0;32m    147\u001b[0m \u001b[1;33m\u001b[0m\u001b[0m\n\u001b[0;32m    148\u001b[0m         \u001b[1;32mif\u001b[0m \u001b[0mcheck_input\u001b[0m\u001b[1;33m:\u001b[0m\u001b[1;33m\u001b[0m\u001b[1;33m\u001b[0m\u001b[0m\n\u001b[1;32m--> 149\u001b[1;33m             \u001b[0mX\u001b[0m \u001b[1;33m=\u001b[0m \u001b[0mcheck_array\u001b[0m\u001b[1;33m(\u001b[0m\u001b[0mX\u001b[0m\u001b[1;33m,\u001b[0m \u001b[0mdtype\u001b[0m\u001b[1;33m=\u001b[0m\u001b[0mDTYPE\u001b[0m\u001b[1;33m,\u001b[0m \u001b[0maccept_sparse\u001b[0m\u001b[1;33m=\u001b[0m\u001b[1;34m\"csc\"\u001b[0m\u001b[1;33m)\u001b[0m\u001b[1;33m\u001b[0m\u001b[1;33m\u001b[0m\u001b[0m\n\u001b[0m\u001b[0;32m    150\u001b[0m             \u001b[0my\u001b[0m \u001b[1;33m=\u001b[0m \u001b[0mcheck_array\u001b[0m\u001b[1;33m(\u001b[0m\u001b[0my\u001b[0m\u001b[1;33m,\u001b[0m \u001b[0mensure_2d\u001b[0m\u001b[1;33m=\u001b[0m\u001b[1;32mFalse\u001b[0m\u001b[1;33m,\u001b[0m \u001b[0mdtype\u001b[0m\u001b[1;33m=\u001b[0m\u001b[1;32mNone\u001b[0m\u001b[1;33m)\u001b[0m\u001b[1;33m\u001b[0m\u001b[1;33m\u001b[0m\u001b[0m\n\u001b[0;32m    151\u001b[0m             \u001b[1;32mif\u001b[0m \u001b[0missparse\u001b[0m\u001b[1;33m(\u001b[0m\u001b[0mX\u001b[0m\u001b[1;33m)\u001b[0m\u001b[1;33m:\u001b[0m\u001b[1;33m\u001b[0m\u001b[1;33m\u001b[0m\u001b[0m\n",
      "\u001b[1;32m~\\AppData\\Local\\Continuum\\anaconda3\\envs\\jupyterlab\\lib\\site-packages\\sklearn\\utils\\validation.py\u001b[0m in \u001b[0;36mcheck_array\u001b[1;34m(array, accept_sparse, accept_large_sparse, dtype, order, copy, force_all_finite, ensure_2d, allow_nd, ensure_min_samples, ensure_min_features, warn_on_dtype, estimator)\u001b[0m\n\u001b[0;32m    576\u001b[0m         \u001b[1;32mif\u001b[0m \u001b[0mforce_all_finite\u001b[0m\u001b[1;33m:\u001b[0m\u001b[1;33m\u001b[0m\u001b[1;33m\u001b[0m\u001b[0m\n\u001b[0;32m    577\u001b[0m             _assert_all_finite(array,\n\u001b[1;32m--> 578\u001b[1;33m                                allow_nan=force_all_finite == 'allow-nan')\n\u001b[0m\u001b[0;32m    579\u001b[0m \u001b[1;33m\u001b[0m\u001b[0m\n\u001b[0;32m    580\u001b[0m     \u001b[1;32mif\u001b[0m \u001b[0mensure_min_samples\u001b[0m \u001b[1;33m>\u001b[0m \u001b[1;36m0\u001b[0m\u001b[1;33m:\u001b[0m\u001b[1;33m\u001b[0m\u001b[1;33m\u001b[0m\u001b[0m\n",
      "\u001b[1;32m~\\AppData\\Local\\Continuum\\anaconda3\\envs\\jupyterlab\\lib\\site-packages\\sklearn\\utils\\validation.py\u001b[0m in \u001b[0;36m_assert_all_finite\u001b[1;34m(X, allow_nan, msg_dtype)\u001b[0m\n\u001b[0;32m     58\u001b[0m                     \u001b[0mmsg_err\u001b[0m\u001b[1;33m.\u001b[0m\u001b[0mformat\u001b[0m\u001b[1;33m\u001b[0m\u001b[1;33m\u001b[0m\u001b[0m\n\u001b[0;32m     59\u001b[0m                     (type_err,\n\u001b[1;32m---> 60\u001b[1;33m                      msg_dtype if msg_dtype is not None else X.dtype)\n\u001b[0m\u001b[0;32m     61\u001b[0m             )\n\u001b[0;32m     62\u001b[0m     \u001b[1;31m# for object dtype data, we only check for NaNs (GH-13254)\u001b[0m\u001b[1;33m\u001b[0m\u001b[1;33m\u001b[0m\u001b[1;33m\u001b[0m\u001b[0m\n",
      "\u001b[1;31mValueError\u001b[0m: Input contains NaN, infinity or a value too large for dtype('float32')."
     ]
    }
   ],
   "source": [
    "from sklearn import tree\n",
    "\n",
    "dt = tree.DecisionTreeRegressor()\n",
    "dt = dt.fit(Xss, Yss)\n",
    "mdl_creditosnacionais = dt"
   ]
  },
  {
   "cell_type": "markdown",
   "metadata": {},
   "source": [
    "## Validate - CréditosNacionais"
   ]
  },
  {
   "cell_type": "code",
   "execution_count": 13,
   "metadata": {},
   "outputs": [
    {
     "output_type": "error",
     "ename": "NotFittedError",
     "evalue": "This DecisionTreeRegressor instance is not fitted yet. Call 'fit' with appropriate arguments before using this estimator.",
     "traceback": [
      "\u001b[1;31m---------------------------------------------------------------------------\u001b[0m",
      "\u001b[1;31mNotFittedError\u001b[0m                            Traceback (most recent call last)",
      "\u001b[1;32m<ipython-input-13-ba35d14be50e>\u001b[0m in \u001b[0;36m<module>\u001b[1;34m\u001b[0m\n\u001b[0;32m      3\u001b[0m \u001b[0mrealXS\u001b[0m \u001b[1;33m=\u001b[0m \u001b[0mscalerX\u001b[0m\u001b[1;33m.\u001b[0m\u001b[0mtransform\u001b[0m\u001b[1;33m(\u001b[0m\u001b[0mrealX\u001b[0m\u001b[1;33m)\u001b[0m\u001b[1;33m\u001b[0m\u001b[1;33m\u001b[0m\u001b[0m\n\u001b[0;32m      4\u001b[0m \u001b[1;33m\u001b[0m\u001b[0m\n\u001b[1;32m----> 5\u001b[1;33m \u001b[0mpreditoYS\u001b[0m \u001b[1;33m=\u001b[0m \u001b[0mdt\u001b[0m\u001b[1;33m.\u001b[0m\u001b[0mpredict\u001b[0m\u001b[1;33m(\u001b[0m\u001b[0mrealXS\u001b[0m\u001b[1;33m)\u001b[0m\u001b[1;33m\u001b[0m\u001b[1;33m\u001b[0m\u001b[0m\n\u001b[0m\u001b[0;32m      6\u001b[0m \u001b[0mpreditoY\u001b[0m \u001b[1;33m=\u001b[0m \u001b[0mscalerY\u001b[0m\u001b[1;33m.\u001b[0m\u001b[0minverse_transform\u001b[0m\u001b[1;33m(\u001b[0m\u001b[0mpreditoYS\u001b[0m\u001b[1;33m)\u001b[0m\u001b[1;33m\u001b[0m\u001b[1;33m\u001b[0m\u001b[0m\n\u001b[0;32m      7\u001b[0m \u001b[1;33m\u001b[0m\u001b[0m\n",
      "\u001b[1;32m~\\AppData\\Local\\Continuum\\anaconda3\\envs\\jupyterlab\\lib\\site-packages\\sklearn\\tree\\_classes.py\u001b[0m in \u001b[0;36mpredict\u001b[1;34m(self, X, check_input)\u001b[0m\n\u001b[0;32m    416\u001b[0m             \u001b[0mThe\u001b[0m \u001b[0mpredicted\u001b[0m \u001b[0mclasses\u001b[0m\u001b[1;33m,\u001b[0m \u001b[1;32mor\u001b[0m \u001b[0mthe\u001b[0m \u001b[0mpredict\u001b[0m \u001b[0mvalues\u001b[0m\u001b[1;33m.\u001b[0m\u001b[1;33m\u001b[0m\u001b[1;33m\u001b[0m\u001b[0m\n\u001b[0;32m    417\u001b[0m         \"\"\"\n\u001b[1;32m--> 418\u001b[1;33m         \u001b[0mcheck_is_fitted\u001b[0m\u001b[1;33m(\u001b[0m\u001b[0mself\u001b[0m\u001b[1;33m)\u001b[0m\u001b[1;33m\u001b[0m\u001b[1;33m\u001b[0m\u001b[0m\n\u001b[0m\u001b[0;32m    419\u001b[0m         \u001b[0mX\u001b[0m \u001b[1;33m=\u001b[0m \u001b[0mself\u001b[0m\u001b[1;33m.\u001b[0m\u001b[0m_validate_X_predict\u001b[0m\u001b[1;33m(\u001b[0m\u001b[0mX\u001b[0m\u001b[1;33m,\u001b[0m \u001b[0mcheck_input\u001b[0m\u001b[1;33m)\u001b[0m\u001b[1;33m\u001b[0m\u001b[1;33m\u001b[0m\u001b[0m\n\u001b[0;32m    420\u001b[0m         \u001b[0mproba\u001b[0m \u001b[1;33m=\u001b[0m \u001b[0mself\u001b[0m\u001b[1;33m.\u001b[0m\u001b[0mtree_\u001b[0m\u001b[1;33m.\u001b[0m\u001b[0mpredict\u001b[0m\u001b[1;33m(\u001b[0m\u001b[0mX\u001b[0m\u001b[1;33m)\u001b[0m\u001b[1;33m\u001b[0m\u001b[1;33m\u001b[0m\u001b[0m\n",
      "\u001b[1;32m~\\AppData\\Local\\Continuum\\anaconda3\\envs\\jupyterlab\\lib\\site-packages\\sklearn\\utils\\validation.py\u001b[0m in \u001b[0;36mcheck_is_fitted\u001b[1;34m(estimator, attributes, msg, all_or_any)\u001b[0m\n\u001b[0;32m    965\u001b[0m \u001b[1;33m\u001b[0m\u001b[0m\n\u001b[0;32m    966\u001b[0m     \u001b[1;32mif\u001b[0m \u001b[1;32mnot\u001b[0m \u001b[0mattrs\u001b[0m\u001b[1;33m:\u001b[0m\u001b[1;33m\u001b[0m\u001b[1;33m\u001b[0m\u001b[0m\n\u001b[1;32m--> 967\u001b[1;33m         \u001b[1;32mraise\u001b[0m \u001b[0mNotFittedError\u001b[0m\u001b[1;33m(\u001b[0m\u001b[0mmsg\u001b[0m \u001b[1;33m%\u001b[0m \u001b[1;33m{\u001b[0m\u001b[1;34m'name'\u001b[0m\u001b[1;33m:\u001b[0m \u001b[0mtype\u001b[0m\u001b[1;33m(\u001b[0m\u001b[0mestimator\u001b[0m\u001b[1;33m)\u001b[0m\u001b[1;33m.\u001b[0m\u001b[0m__name__\u001b[0m\u001b[1;33m}\u001b[0m\u001b[1;33m)\u001b[0m\u001b[1;33m\u001b[0m\u001b[1;33m\u001b[0m\u001b[0m\n\u001b[0m\u001b[0;32m    968\u001b[0m \u001b[1;33m\u001b[0m\u001b[0m\n\u001b[0;32m    969\u001b[0m \u001b[1;33m\u001b[0m\u001b[0m\n",
      "\u001b[1;31mNotFittedError\u001b[0m: This DecisionTreeRegressor instance is not fitted yet. Call 'fit' with appropriate arguments before using this estimator."
     ]
    }
   ],
   "source": [
    "realY = teste['CreditosNacionais'].values\n",
    "realX =  teste.drop(['CreditosNacionais','Id_Conta','DataVencimentoPadrao','dtvencimento'], axis=1)\n",
    "realXS = scalerX.transform(realX)\n",
    "\n",
    "preditoYS = dt.predict(realXS)\n",
    "preditoY = scalerY.inverse_transform(preditoYS)\n",
    "\n",
    "df_dict = {'Real':realY.astype(int),'Previsto': preditoY.astype(int)}\n",
    "\n",
    "rp = pd.DataFrame(df_dict)\n",
    "\n",
    "a = preditoY.astype(int).reshape(preditoY.astype(int).shape[0],1)\n",
    "b = realY.astype(int).reshape(realY.astype(int).shape[0],1)\n",
    "\n",
    "a = preditoY.reshape(preditoY.shape[0],1)\n",
    "df_final = cdt.transformDataSet(a, b)\n",
    "cdt.getresultdataset(df_final, \"DecisionTreeRegressor\")"
   ]
  },
  {
   "cell_type": "markdown",
   "metadata": {},
   "source": [
    "# Prioridade 3 - DebitosNacionais"
   ]
  },
  {
   "cell_type": "code",
   "execution_count": 14,
   "metadata": {},
   "outputs": [],
   "source": [
    "import pandas as pd\n",
    "consulta = cdt.resultQuery(\"mdl_historicoscorrentes.sql\").format(dia=data_vencimento)\n",
    "base = cdt.extrairDados(infoDataBases,consulta,path='../data/',arquivo=\"mdl_historicoscorrentes_\"+infoDataBases[\"base\"],spark=False,objSpark=None)\n",
    "base = base.fillna(0)\n",
    "base['dtvencimento'] = pd.to_datetime(base.DataVencimentoPadrao, format=\"%d/%m/%Y\")\n",
    "\n",
    "base = base.loc[base.dtvencimento.dt.day == data_vencimento]\n",
    "\n",
    "mylist = [\"SaldoExtratoAnterior\",\"FinanciavelExtrato\",\"SaldoAtualFinal\",\"CreditosNacionais\",\"DebitosNacionais\",\"SaquesNacionais\",\"Multa\",\"FinanciavelAtualFinal\",\"NaoFinanciavelAtualFinal\",\"BaseMultaCobrada\"]\n",
    "zeros = base[base[mylist].eq(0).all(1)]\n",
    "\n",
    "final = base.drop(zeros.index, axis=0)\n",
    "\n",
    "treino = final.drop(final.loc[base.dtvencimento.dt.month == 4].loc[base.dtvencimento.dt.year == 2020].index,axis = 0)\n",
    "teste = final.loc[base.dtvencimento.dt.month == 4].loc[base.dtvencimento.dt.year == 2020]"
   ]
  },
  {
   "cell_type": "markdown",
   "metadata": {},
   "source": [
    "## Pré-Processamento - DebitosNacionais"
   ]
  },
  {
   "cell_type": "code",
   "execution_count": 15,
   "metadata": {},
   "outputs": [
    {
     "output_type": "stream",
     "name": "stdout",
     "text": "0.44899797439575195\n"
    }
   ],
   "source": [
    "from sklearn.preprocessing import StandardScaler\n",
    "import time\n",
    "start_time = time.time()\n",
    "\n",
    "X = treino.drop(['DebitosNacionais','Id_Conta','DataVencimentoPadrao','dtvencimento'], axis=1)\n",
    "Y = treino['DebitosNacionais'].to_frame()\n",
    "\n",
    "scalerX = StandardScaler()\n",
    "scalerX.fit(X)\n",
    "Xss = scalerX.transform(X)\n",
    "\n",
    "scalerY = StandardScaler()\n",
    "scalerY.fit(Y)\n",
    "Yss = scalerY.transform(Y)\n",
    "\n",
    "from sklearn.model_selection import train_test_split\n",
    "X_train, X_test, y_train, y_test = train_test_split(Xss, Yss, test_size = 0.3,random_state = 0)\n",
    "\n",
    "print(str(time.time() - start_time))"
   ]
  },
  {
   "cell_type": "markdown",
   "metadata": {},
   "source": [
    "## Decision Tree - DebitosNacionais"
   ]
  },
  {
   "cell_type": "code",
   "execution_count": 16,
   "metadata": {},
   "outputs": [],
   "source": [
    "from sklearn import tree\n",
    "dt = tree.DecisionTreeRegressor()\n",
    "dt = dt.fit(X_train, y_train)\n",
    "mdl_debitosnacionais = dt"
   ]
  },
  {
   "cell_type": "markdown",
   "metadata": {},
   "source": [
    "## Validate - DebitosNacionais"
   ]
  },
  {
   "cell_type": "code",
   "execution_count": 17,
   "metadata": {},
   "outputs": [
    {
     "output_type": "stream",
     "name": "stdout",
     "text": "SE - Sum of Error: \n[DecisionTreeRegressor] - Total Real:  20213830.00\n[DecisionTreeRegressor] - Total Prev:  20235976.98\n[DecisionTreeRegressor] - SE Final:  22147.75\n[DecisionTreeRegressor] - Total Porcentagem de diferença do previsto x real:  0.11%\n----------------------------------------------------------\nME - Mean Error:  \n[DecisionTreeRegressor] - Total Registros: 242608\n[DecisionTreeRegressor] - Total Diff : 22148\n[DecisionTreeRegressor] - ME Final : 0.091290\n----------------------------------------------------------\nMAE - Mean Absolute Error:  \n[DecisionTreeRegressor] - Total Registros: 242608\n[DecisionTreeRegressor] - Total Absolute Diff : 1145394\n[DecisionTreeRegressor] - ME Final : 4.721171\n----------------------------------------------------------\nMPE - Mean Percentage Error:  \n[DecisionTreeRegressor] - Total Registros: 242608\n[DecisionTreeRegressor] - Total percent Diff: -705116\n[DecisionTreeRegressor] - MPE Final : -2.91%\n----------------------------------------------------------\nMAPAE - Mean Absolute Percentage Error:  \n[DecisionTreeRegressor] - Total Registros: 242608\n[DecisionTreeRegressor] - Total percent Absolute Diff: 1197629\n[DecisionTreeRegressor] - MAPAE Final : 4.94%\n"
    }
   ],
   "source": [
    "realY = teste['DebitosNacionais'].values\n",
    "realX =  teste.drop(['DebitosNacionais','Id_Conta','DataVencimentoPadrao','dtvencimento'], axis=1)\n",
    "realXS = scalerX.transform(realX)\n",
    "\n",
    "preditoYS = dt.predict(realXS)\n",
    "preditoY = scalerY.inverse_transform(preditoYS)\n",
    "\n",
    "df_dict = {'Real':realY.astype(int),'Previsto': preditoY.astype(int)}\n",
    "\n",
    "rp = pd.DataFrame(df_dict)\n",
    "\n",
    "a = preditoY.astype(int).reshape(preditoY.astype(int).shape[0],1)\n",
    "b = realY.astype(int).reshape(realY.astype(int).shape[0],1)\n",
    "\n",
    "a = preditoY.reshape(preditoY.shape[0],1)\n",
    "df_final = cdt.transformDataSet(a, b)\n",
    "cdt.getresultdataset(df_final, \"DecisionTreeRegressor\")"
   ]
  },
  {
   "cell_type": "markdown",
   "metadata": {},
   "source": [
    "# Prioridade 4 - FinanciavelAtualFinal"
   ]
  },
  {
   "cell_type": "code",
   "execution_count": 18,
   "metadata": {},
   "outputs": [],
   "source": [
    "import pandas as pd\n",
    "consulta = cdt.resultQuery(\"mdl_historicoscorrentes.sql\").format(dia=data_vencimento)\n",
    "base = cdt.extrairDados(infoDataBases,consulta,path='../data/',arquivo=\"mdl_historicoscorrentes_\"+infoDataBases[\"base\"],spark=False,objSpark=None)\n",
    "base = base.fillna(0)\n",
    "base['dtvencimento'] = pd.to_datetime(base.DataVencimentoPadrao, format=\"%d/%m/%Y\")\n",
    "\n",
    "base = base.loc[base.dtvencimento.dt.day == data_vencimento]\n",
    "\n",
    "mylist = [\"SaldoExtratoAnterior\",\"FinanciavelExtrato\",\"SaldoAtualFinal\",\"CreditosNacionais\",\"DebitosNacionais\",\"SaquesNacionais\",\"Multa\",\"FinanciavelAtualFinal\",\"NaoFinanciavelAtualFinal\",\"BaseMultaCobrada\"]\n",
    "zeros = base[base[mylist].eq(0).all(1)]\n",
    "\n",
    "final = base.drop(zeros.index, axis=0)\n",
    "\n",
    "treino = final.drop(final.loc[base.dtvencimento.dt.month == 4].loc[base.dtvencimento.dt.year == 2020].index,axis = 0)\n",
    "teste = final.loc[base.dtvencimento.dt.month == 4].loc[base.dtvencimento.dt.year == 2020]"
   ]
  },
  {
   "cell_type": "markdown",
   "metadata": {},
   "source": [
    "## Pré-Processamento - FinanciavelAtualFinal"
   ]
  },
  {
   "cell_type": "code",
   "execution_count": 19,
   "metadata": {},
   "outputs": [
    {
     "output_type": "stream",
     "name": "stdout",
     "text": "0.49901676177978516\n"
    }
   ],
   "source": [
    "from sklearn.preprocessing import StandardScaler\n",
    "import time\n",
    "start_time = time.time()\n",
    "\n",
    "X = treino.drop(['FinanciavelAtualFinal','Id_Conta','DataVencimentoPadrao','dtvencimento'], axis=1)\n",
    "Y = treino['FinanciavelAtualFinal'].to_frame()\n",
    "\n",
    "scalerX = StandardScaler()\n",
    "scalerX.fit(X)\n",
    "Xss = scalerX.transform(X)\n",
    "\n",
    "scalerY = StandardScaler()\n",
    "scalerY.fit(Y)\n",
    "Yss = scalerY.transform(Y)\n",
    "\n",
    "from sklearn.model_selection import train_test_split\n",
    "X_train, X_test, y_train, y_test = train_test_split(Xss, Yss, test_size = 0.3,random_state = 0)\n",
    "\n",
    "print(str(time.time() - start_time))"
   ]
  },
  {
   "cell_type": "markdown",
   "metadata": {},
   "source": [
    "## Decision Tree - Financiavel Atual Final"
   ]
  },
  {
   "cell_type": "code",
   "execution_count": 20,
   "metadata": {},
   "outputs": [],
   "source": [
    "from sklearn import tree\n",
    "dt = tree.DecisionTreeRegressor()\n",
    "dt = dt.fit(X_train, y_train)\n",
    "mdl_financiavelatualfinal = dt"
   ]
  },
  {
   "cell_type": "markdown",
   "metadata": {},
   "source": [
    "## Validate - FinanciavelAtualFinal"
   ]
  },
  {
   "cell_type": "code",
   "execution_count": 21,
   "metadata": {},
   "outputs": [
    {
     "output_type": "stream",
     "name": "stdout",
     "text": "SE - Sum of Error: \n[DecisionTreeRegressor] - Total Real:  721620464.00\n[DecisionTreeRegressor] - Total Prev:  721425285.34\n[DecisionTreeRegressor] - SE Final:  -195179.41\n[DecisionTreeRegressor] - Total Porcentagem de diferença do previsto x real:  0.03%\n----------------------------------------------------------\nME - Mean Error:  \n[DecisionTreeRegressor] - Total Registros: 243039\n[DecisionTreeRegressor] - Total Diff : -195179\n[DecisionTreeRegressor] - ME Final : -0.803079\n----------------------------------------------------------\nMAE - Mean Absolute Error:  \n[DecisionTreeRegressor] - Total Registros: 243039\n[DecisionTreeRegressor] - Total Absolute Diff : 10611766\n[DecisionTreeRegressor] - ME Final : 43.662812\n----------------------------------------------------------\nMPE - Mean Percentage Error:  \n[DecisionTreeRegressor] - Total Registros: 243039\n[DecisionTreeRegressor] - Total percent Diff: -181262\n[DecisionTreeRegressor] - MPE Final : -0.75%\n----------------------------------------------------------\nMAPAE - Mean Absolute Percentage Error:  \n[DecisionTreeRegressor] - Total Registros: 243039\n[DecisionTreeRegressor] - Total percent Absolute Diff: 486905\n[DecisionTreeRegressor] - MAPAE Final : 2.00%\n"
    }
   ],
   "source": [
    "realY = teste['FinanciavelAtualFinal'].values\n",
    "realX =  teste.drop(['FinanciavelAtualFinal','Id_Conta','DataVencimentoPadrao','dtvencimento'], axis=1)\n",
    "realXS = scalerX.transform(realX)\n",
    "\n",
    "preditoYS = dt.predict(realXS)\n",
    "preditoY = scalerY.inverse_transform(preditoYS)\n",
    "\n",
    "df_dict = {'Real':realY.astype(int),'Previsto': preditoY.astype(int)}\n",
    "\n",
    "rp = pd.DataFrame(df_dict)\n",
    "\n",
    "a = preditoY.astype(int).reshape(preditoY.astype(int).shape[0],1)\n",
    "b = realY.astype(int).reshape(realY.astype(int).shape[0],1)\n",
    "\n",
    "a = preditoY.reshape(preditoY.shape[0],1)\n",
    "df_final = cdt.transformDataSet(a, b)\n",
    "cdt.getresultdataset(df_final, \"DecisionTreeRegressor\")"
   ]
  },
  {
   "cell_type": "markdown",
   "metadata": {},
   "source": [
    "## Pré-Processamento - FinanciavelExtrato"
   ]
  },
  {
   "cell_type": "code",
   "execution_count": 23,
   "metadata": {},
   "outputs": [
    {
     "output_type": "stream",
     "name": "stdout",
     "text": "0.4920341968536377\n"
    }
   ],
   "source": [
    "from sklearn.preprocessing import StandardScaler\n",
    "import time\n",
    "start_time = time.time()\n",
    "\n",
    "X = treino.drop(['FinanciavelExtrato','Id_Conta','DataVencimentoPadrao','dtvencimento'], axis=1)\n",
    "Y = treino['FinanciavelExtrato'].to_frame()\n",
    "\n",
    "scalerX = StandardScaler()\n",
    "scalerX.fit(X)\n",
    "Xss = scalerX.transform(X)\n",
    "\n",
    "scalerY = StandardScaler()\n",
    "scalerY.fit(Y)\n",
    "Yss = scalerY.transform(Y)\n",
    "\n",
    "from sklearn.model_selection import train_test_split\n",
    "X_train, X_test, y_train, y_test = train_test_split(Xss, Yss, test_size = 0.3,random_state = 0)\n",
    "\n",
    "print(str(time.time() - start_time))"
   ]
  },
  {
   "cell_type": "markdown",
   "metadata": {},
   "source": [
    "## Decision Tree - FinanciavelExtrato"
   ]
  },
  {
   "cell_type": "code",
   "execution_count": 24,
   "metadata": {},
   "outputs": [],
   "source": [
    "from sklearn import tree\n",
    "dt = tree.DecisionTreeRegressor()\n",
    "dt = dt.fit(X_train, y_train)\n",
    "mdl_financiavelextrato = dt"
   ]
  },
  {
   "cell_type": "markdown",
   "metadata": {},
   "source": [
    "## Validate - FinanciavelExtrato"
   ]
  },
  {
   "cell_type": "code",
   "execution_count": 25,
   "metadata": {},
   "outputs": [
    {
     "output_type": "stream",
     "name": "stdout",
     "text": "SE - Sum of Error: \n[DecisionTreeRegressor] - Total Real:  715865974.00\n[DecisionTreeRegressor] - Total Prev:  715743372.27\n[DecisionTreeRegressor] - SE Final:  -122603.41\n[DecisionTreeRegressor] - Total Porcentagem de diferença do previsto x real:  0.02%\n----------------------------------------------------------\nME - Mean Error:  \n[DecisionTreeRegressor] - Total Registros: 243417\n[DecisionTreeRegressor] - Total Diff : -122603\n[DecisionTreeRegressor] - ME Final : -0.503676\n----------------------------------------------------------\nMAE - Mean Absolute Error:  \n[DecisionTreeRegressor] - Total Registros: 243417\n[DecisionTreeRegressor] - Total Absolute Diff : 12272420\n[DecisionTreeRegressor] - ME Final : 50.417266\n----------------------------------------------------------\nMPE - Mean Percentage Error:  \n[DecisionTreeRegressor] - Total Registros: 243417\n[DecisionTreeRegressor] - Total percent Diff: -2647332\n[DecisionTreeRegressor] - MPE Final : -10.88%\n----------------------------------------------------------\nMAPAE - Mean Absolute Percentage Error:  \n[DecisionTreeRegressor] - Total Registros: 243417\n[DecisionTreeRegressor] - Total percent Absolute Diff: 3054691\n[DecisionTreeRegressor] - MAPAE Final : 12.55%\n"
    }
   ],
   "source": [
    "realY = teste['FinanciavelExtrato'].values\n",
    "realX =  teste.drop(['FinanciavelExtrato','Id_Conta','DataVencimentoPadrao','dtvencimento'], axis=1)\n",
    "realXS = scalerX.transform(realX)\n",
    "\n",
    "preditoYS = dt.predict(realXS)\n",
    "preditoY = scalerY.inverse_transform(preditoYS)\n",
    "\n",
    "df_dict = {'Real':realY.astype(int),'Previsto': preditoY.astype(int)}\n",
    "\n",
    "rp = pd.DataFrame(df_dict)\n",
    "\n",
    "a = preditoY.astype(int).reshape(preditoY.astype(int).shape[0],1)\n",
    "b = realY.astype(int).reshape(realY.astype(int).shape[0],1)\n",
    "\n",
    "a = preditoY.reshape(preditoY.shape[0],1)\n",
    "df_final = cdt.transformDataSet(a, b)\n",
    "cdt.getresultdataset(df_final, \"DecisionTreeRegressor\")"
   ]
  },
  {
   "cell_type": "markdown",
   "metadata": {},
   "source": [
    "# Validando com ultimo vencimento faturado"
   ]
  },
  {
   "cell_type": "code",
   "execution_count": 22,
   "metadata": {},
   "outputs": [],
   "source": [
    "#consulta = cdt.resultQuery(\"historicoscorrentes.sql\").format(dia=data_vencimento)\n",
    "#base = cdt.extrairDados(infoDataBases,consulta,path='../data/',arquivo=\"historicoscorrentes_\"+infoDataBases[\"base\"],spark=False,objSpark=None)"
   ]
  }
 ],
 "metadata": {
  "kernelspec": {
   "display_name": "Python 3.7.6 64-bit ('jupyterlab': conda)",
   "language": "python",
   "name": "python37664bitjupyterlabcondadbae0de57a004091ba2937e1d8915e40"
  },
  "language_info": {
   "codemirror_mode": {
    "name": "ipython",
    "version": 3
   },
   "file_extension": ".py",
   "mimetype": "text/x-python",
   "name": "python",
   "nbconvert_exporter": "python",
   "pygments_lexer": "ipython3",
   "version": "3.7.6-final"
  }
 },
 "nbformat": 4,
 "nbformat_minor": 4
}