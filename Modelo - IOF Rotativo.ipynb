{
 "cells": [
  {
   "cell_type": "code",
   "execution_count": 11,
   "metadata": {},
   "outputs": [],
   "source": [
    "import pandas as pd\n",
    "import numpy as np\n",
    "import import_ipynb\n",
    "import utils_cdt as cdt\n",
    "from datetime import datetime\n",
    "from pyspark.sql import SparkSession, Row\n",
    "from pyspark.sql import SQLContext\n",
    "from pyspark.sql.functions import *\n",
    "from pyspark.sql.types import *\n",
    "from pyspark.storagelevel import StorageLevel \n",
    "from datetime import date\n",
    "from sklearn.model_selection import train_test_split\n",
    "from sklearn.linear_model import LinearRegression\n",
    "from sklearn import metrics\n",
    "\n",
    "\n",
    "from sklearn import linear_model\n",
    "from sklearn.ensemble import RandomForestRegressor\n",
    "from sklearn.tree import DecisionTreeRegressor \n",
    "import matplotlib.pyplot as plt\n",
    "import time\n",
    "import pickle\n",
    "import warnings\n",
    "warnings.filterwarnings('ignore')"
   ]
  },
  {
   "cell_type": "code",
   "execution_count": 2,
   "metadata": {},
   "outputs": [],
   "source": [
    "infoDataBases = {\"ip\":\"\",\"base\":\"\"}"
   ]
  },
  {
   "cell_type": "code",
   "execution_count": 3,
   "metadata": {},
   "outputs": [],
   "source": [
    "preditoras = ['RotativoPagaJuros','LancadoAfetaRotativo','RotativoAliquota']\n",
    "prevista = ['Valor']"
   ]
  },
  {
   "cell_type": "code",
   "execution_count": 4,
   "metadata": {},
   "outputs": [],
   "source": [
    "def cache(self): \n",
    "    \"\"\" \n",
    "    Persist this RDD with the default storage level (C{MEMORY_ONLY_SER}). \n",
    "    \"\"\" \n",
    "    self.is_cached = True \n",
    "    self.persist(StorageLevel.MEMORY_ONLY_SER) \n",
    "    return self "
   ]
  },
  {
   "cell_type": "code",
   "execution_count": 5,
   "metadata": {},
   "outputs": [
    {
     "data": {
      "text/html": [
       "\n",
       "        <div>\n",
       "            <p><b>SparkContext</b></p>\n",
       "\n",
       "            <p><a href=\"http://127.0.0.1:4041\">Spark UI</a></p>\n",
       "\n",
       "            <dl>\n",
       "              <dt>Version</dt>\n",
       "                <dd><code>v2.4.5</code></dd>\n",
       "              <dt>Master</dt>\n",
       "                <dd><code>local[*]</code></dd>\n",
       "              <dt>AppName</dt>\n",
       "                <dd><code>Modelo - Spark</code></dd>\n",
       "            </dl>\n",
       "        </div>\n",
       "        "
      ],
      "text/plain": [
       "<SparkContext master=local[*] appName=Modelo - Spark>"
      ]
     },
     "execution_count": 5,
     "metadata": {},
     "output_type": "execute_result"
    }
   ],
   "source": [
    "spark = SparkSession \\\n",
    "    .builder \\\n",
    "    .appName(\"Modelo - Spark\") \\\n",
    "    .config(\"spark.executor.memory\", \"4gb\") \\\n",
    "    .config(\"spark.driver.host\",\"127.0.0.1\") \\\n",
    "    .getOrCreate()\n",
    "\n",
    "sc = spark.sparkContext\n",
    "sc"
   ]
  },
  {
   "cell_type": "code",
   "execution_count": 6,
   "metadata": {},
   "outputs": [],
   "source": [
    "#Consulta de BASE SQL Server\n",
    "consulta = cdt.resultQuery(\"mdl_iof_rotativo.sql\")\n",
    "df = cdt.extrairDados(infoDataBases,consulta,arquivo=\"mdl_iof_rotativo_\"+infoDataBases[\"base\"]+\".csv\",spark=False,objSpark=spark)"
   ]
  },
  {
   "cell_type": "code",
   "execution_count": 7,
   "metadata": {},
   "outputs": [
    {
     "data": {
      "text/html": [
       "<div>\n",
       "<style scoped>\n",
       "    .dataframe tbody tr th:only-of-type {\n",
       "        vertical-align: middle;\n",
       "    }\n",
       "\n",
       "    .dataframe tbody tr th {\n",
       "        vertical-align: top;\n",
       "    }\n",
       "\n",
       "    .dataframe thead th {\n",
       "        text-align: right;\n",
       "    }\n",
       "</style>\n",
       "<table border=\"1\" class=\"dataframe\">\n",
       "  <thead>\n",
       "    <tr style=\"text-align: right;\">\n",
       "      <th></th>\n",
       "      <th>Id_Conta</th>\n",
       "      <th>RotativoPagaJuros</th>\n",
       "      <th>RotativoAliquota</th>\n",
       "      <th>LancadoAfetaRotativo</th>\n",
       "      <th>Valor</th>\n",
       "    </tr>\n",
       "  </thead>\n",
       "  <tbody>\n",
       "    <tr>\n",
       "      <td>0</td>\n",
       "      <td>1405249</td>\n",
       "      <td>300.76</td>\n",
       "      <td>0.0</td>\n",
       "      <td>-16.03</td>\n",
       "      <td>1.91</td>\n",
       "    </tr>\n",
       "    <tr>\n",
       "      <td>1</td>\n",
       "      <td>1486576</td>\n",
       "      <td>0.00</td>\n",
       "      <td>0.0</td>\n",
       "      <td>0.00</td>\n",
       "      <td>1.82</td>\n",
       "    </tr>\n",
       "    <tr>\n",
       "      <td>2</td>\n",
       "      <td>851245</td>\n",
       "      <td>0.00</td>\n",
       "      <td>0.0</td>\n",
       "      <td>700.33</td>\n",
       "      <td>3.45</td>\n",
       "    </tr>\n",
       "    <tr>\n",
       "      <td>3</td>\n",
       "      <td>1636528</td>\n",
       "      <td>0.00</td>\n",
       "      <td>0.0</td>\n",
       "      <td>659.48</td>\n",
       "      <td>2.99</td>\n",
       "    </tr>\n",
       "    <tr>\n",
       "      <td>4</td>\n",
       "      <td>1704624</td>\n",
       "      <td>0.00</td>\n",
       "      <td>0.0</td>\n",
       "      <td>61.97</td>\n",
       "      <td>0.33</td>\n",
       "    </tr>\n",
       "  </tbody>\n",
       "</table>\n",
       "</div>"
      ],
      "text/plain": [
       "   Id_Conta  RotativoPagaJuros  RotativoAliquota  LancadoAfetaRotativo  Valor\n",
       "0   1405249             300.76               0.0                -16.03   1.91\n",
       "1   1486576               0.00               0.0                  0.00   1.82\n",
       "2    851245               0.00               0.0                700.33   3.45\n",
       "3   1636528               0.00               0.0                659.48   2.99\n",
       "4   1704624               0.00               0.0                 61.97   0.33"
      ]
     },
     "execution_count": 7,
     "metadata": {},
     "output_type": "execute_result"
    }
   ],
   "source": [
    "df.drop('DataGeracao', inplace=True, axis=1)\n",
    "df.head()"
   ]
  },
  {
   "cell_type": "code",
   "execution_count": 8,
   "metadata": {},
   "outputs": [
    {
     "data": {
      "text/plain": [
       "<matplotlib.axes._subplots.AxesSubplot at 0x280cdab2488>"
      ]
     },
     "execution_count": 8,
     "metadata": {},
     "output_type": "execute_result"
    },
    {
     "data": {
      "image/png": "[encoded data removed]",
      "text/plain": [
       "<Figure size 432x288 with 1 Axes>"
      ]
     },
     "metadata": {
      "needs_background": "light"
     },
     "output_type": "display_data"
    }
   ],
   "source": [
    "df.plot.scatter('RotativoPagaJuros','Valor')"
   ]
  },
  {
   "cell_type": "code",
   "execution_count": 9,
   "metadata": {},
   "outputs": [],
   "source": [
    "#Substituindo valores negativos pelo proprio valor positivo\n",
    "df = df.abs()"
   ]
  },
  {
   "cell_type": "code",
   "execution_count": 10,
   "metadata": {},
   "outputs": [
    {
     "data": {
      "text/html": [
       "<div>\n",
       "<style scoped>\n",
       "    .dataframe tbody tr th:only-of-type {\n",
       "        vertical-align: middle;\n",
       "    }\n",
       "\n",
       "    .dataframe tbody tr th {\n",
       "        vertical-align: top;\n",
       "    }\n",
       "\n",
       "    .dataframe thead th {\n",
       "        text-align: right;\n",
       "    }\n",
       "</style>\n",
       "<table border=\"1\" class=\"dataframe\">\n",
       "  <thead>\n",
       "    <tr style=\"text-align: right;\">\n",
       "      <th></th>\n",
       "      <th>Id_Conta</th>\n",
       "      <th>RotativoPagaJuros</th>\n",
       "      <th>RotativoAliquota</th>\n",
       "      <th>LancadoAfetaRotativo</th>\n",
       "      <th>Valor</th>\n",
       "    </tr>\n",
       "  </thead>\n",
       "  <tbody>\n",
       "    <tr>\n",
       "      <td>0</td>\n",
       "      <td>1405249.0</td>\n",
       "      <td>300.76</td>\n",
       "      <td>0.0</td>\n",
       "      <td>16.03</td>\n",
       "      <td>1.91</td>\n",
       "    </tr>\n",
       "    <tr>\n",
       "      <td>1</td>\n",
       "      <td>1486576.0</td>\n",
       "      <td>0.00</td>\n",
       "      <td>0.0</td>\n",
       "      <td>0.00</td>\n",
       "      <td>1.82</td>\n",
       "    </tr>\n",
       "    <tr>\n",
       "      <td>2</td>\n",
       "      <td>851245.0</td>\n",
       "      <td>0.00</td>\n",
       "      <td>0.0</td>\n",
       "      <td>700.33</td>\n",
       "      <td>3.45</td>\n",
       "    </tr>\n",
       "    <tr>\n",
       "      <td>3</td>\n",
       "      <td>1636528.0</td>\n",
       "      <td>0.00</td>\n",
       "      <td>0.0</td>\n",
       "      <td>659.48</td>\n",
       "      <td>2.99</td>\n",
       "    </tr>\n",
       "    <tr>\n",
       "      <td>4</td>\n",
       "      <td>1704624.0</td>\n",
       "      <td>0.00</td>\n",
       "      <td>0.0</td>\n",
       "      <td>61.97</td>\n",
       "      <td>0.33</td>\n",
       "    </tr>\n",
       "  </tbody>\n",
       "</table>\n",
       "</div>"
      ],
      "text/plain": [
       "    Id_Conta  RotativoPagaJuros  RotativoAliquota  LancadoAfetaRotativo  Valor\n",
       "0  1405249.0             300.76               0.0                 16.03   1.91\n",
       "1  1486576.0               0.00               0.0                  0.00   1.82\n",
       "2   851245.0               0.00               0.0                700.33   3.45\n",
       "3  1636528.0               0.00               0.0                659.48   2.99\n",
       "4  1704624.0               0.00               0.0                 61.97   0.33"
      ]
     },
     "execution_count": 10,
     "metadata": {},
     "output_type": "execute_result"
    }
   ],
   "source": [
    "df.head()"
   ]
  },
  {
   "cell_type": "code",
   "execution_count": 9,
   "metadata": {},
   "outputs": [],
   "source": [
    "X_treino, Y_treino, X_teste, Y_teste = cdt.preperTreinoTeste(df, preditoras, prevista, split = 0.3)"
   ]
  },
  {
   "cell_type": "code",
   "execution_count": 12,
   "metadata": {},
   "outputs": [],
   "source": [
    "from sklearn.model_selection import GridSearchCV"
   ]
  },
  {
   "cell_type": "code",
   "execution_count": 41,
   "metadata": {},
   "outputs": [],
   "source": [
    "modelTreeRegressor = DecisionTreeRegressor(min_samples_leaf=10,min_samples_split=500).fit(X_treino, Y_treino)\n",
    "TreeRegrssor = DecisionTreeRegressor()"
   ]
  },
  {
   "cell_type": "code",
   "execution_count": 29,
   "metadata": {},
   "outputs": [
    {
     "data": {
      "text/plain": [
       "{'min_samples_leaf': 10, 'min_samples_split': 500}"
      ]
     },
     "execution_count": 29,
     "metadata": {},
     "output_type": "execute_result"
    }
   ],
   "source": [
    "# Utiliza o GridSearch para encontrar o melhor parametro do TreeRegressor\n",
    "from sklearn.model_selection import GridSearchCV\n",
    "param_grid = {\"min_samples_leaf\":[10,30,4,15],\"min_samples_split\":[2,100,500,1000]}\n",
    "search = GridSearchCV(TreeRegrssor, param_grid)\n",
    "search.fit(X_treino, Y_treino)\n",
    "search.best_params_"
   ]
  },
  {
   "cell_type": "code",
   "execution_count": 34,
   "metadata": {},
   "outputs": [
    {
     "data": {
      "text/plain": [
       "Text(0.5, 1.0, 'Importância de cada feature')"
      ]
     },
     "execution_count": 34,
     "metadata": {},
     "output_type": "execute_result"
    },
    {
     "data": {
      "image/png": "[encoded data removed]",
      "text/plain": [
       "<Figure size 432x288 with 1 Axes>"
      ]
     },
     "metadata": {
      "needs_background": "light"
     },
     "output_type": "display_data"
    }
   ],
   "source": [
    "import seaborn as sns\n",
    "import shap\n",
    "importances = pd.Series(data=modelTreeRegressor.feature_importances_, index=preditoras)\n",
    "sns.barplot(x=importances, y=importances.index, orient='h').set_title('Importância de cada feature')"
   ]
  },
  {
   "cell_type": "code",
   "execution_count": 42,
   "metadata": {},
   "outputs": [
    {
     "data": {
      "text/plain": [
       "0.47742199188433876"
      ]
     },
     "execution_count": 42,
     "metadata": {},
     "output_type": "execute_result"
    }
   ],
   "source": [
    "modelTreeRegressor.score(X_teste,Y_teste)"
   ]
  },
  {
   "cell_type": "code",
   "execution_count": 43,
   "metadata": {},
   "outputs": [
    {
     "name": "stdout",
     "output_type": "stream",
     "text": [
      "SE - Sum of Error: \n",
      "[DecisionTreeRegressor] - Total Real:  67763.00\n",
      "[DecisionTreeRegressor] - Total Prev:  67226.75\n",
      "[DecisionTreeRegressor] - SE Final:  -536.25\n",
      "[DecisionTreeRegressor] - Total Porcentagem de diferença do previsto x real:  0.79%\n",
      "----------------------------------------------------------\n",
      "ME - Mean Error:  \n",
      "[DecisionTreeRegressor] - Total Registros: 51353\n",
      "[DecisionTreeRegressor] - Total Diff : -536\n",
      "[DecisionTreeRegressor] - ME Final : -0.010442\n",
      "----------------------------------------------------------\n",
      "MAE - Mean Absolute Error:  \n",
      "[DecisionTreeRegressor] - Total Registros: 51353\n",
      "[DecisionTreeRegressor] - Total Absolute Diff : 47123\n",
      "[DecisionTreeRegressor] - ME Final : 0.917637\n",
      "----------------------------------------------------------\n",
      "MPE - Mean Percentage Error:  \n",
      "[DecisionTreeRegressor] - Total Registros: 51353\n",
      "[DecisionTreeRegressor] - Total percent Diff: 321372\n",
      "[DecisionTreeRegressor] - MPE Final : 6.26%\n",
      "----------------------------------------------------------\n",
      "MAPAE - Mean Absolute Percentage Error:  \n",
      "[DecisionTreeRegressor] - Total Registros: 51353\n",
      "[DecisionTreeRegressor] - Total percent Absolute Diff: 1301668\n",
      "[DecisionTreeRegressor] - MAPAE Final : 25.35%\n"
     ]
    }
   ],
   "source": [
    "#Retirando metrcias do modelo \n",
    "Y_Predict = modelTreeRegressor.predict(X_teste)\n",
    "Y_Predict = Y_Predict.reshape(Y_Predict.shape[0],1)\n",
    "df_final = cdt.transformDataSet(Y_Predict, Y_teste)\n",
    "cdt.getresultdataset(df_final, \"DecisionTreeRegressor\")"
   ]
  },
  {
   "cell_type": "code",
   "execution_count": 16,
   "metadata": {},
   "outputs": [],
   "source": [
    "filename = 'models/mdl_iof_rotativo_'+infoDataBases[\"base\"]+'.sav'\n",
    "pickle.dump(modelTreeRegressor, open(filename, 'wb'))"
   ]
  },
  {
   "cell_type": "markdown",
   "metadata": {},
   "source": [
    "## Prevendo novos valores com base no Modelo treinado anteriormente"
   ]
  },
  {
   "cell_type": "code",
   "execution_count": 519,
   "metadata": {},
   "outputs": [],
   "source": [
    "#Carregando modelo \n",
    "model_treeRegressor = pickle.load(open('models/mdl_iof_rotativo_'+infoDataBases[\"base\"]+'.sav', 'rb'))"
   ]
  },
  {
   "cell_type": "code",
   "execution_count": 520,
   "metadata": {},
   "outputs": [],
   "source": [
    "#Consulta de BASE SQL Server\n",
    "consulta = cdt.resultQuery(\"iof_rotativo.sql\")\n",
    "df = cdt.extrairDados(infoDataBases,consulta,arquivo=\"iof_rotativo_\"+infoDataBases[\"base\"]+\".csv\",spark=False,objSpark=spark)"
   ]
  },
  {
   "cell_type": "code",
   "execution_count": 521,
   "metadata": {},
   "outputs": [
    {
     "data": {
      "text/html": [
       "<div>\n",
       "<style scoped>\n",
       "    .dataframe tbody tr th:only-of-type {\n",
       "        vertical-align: middle;\n",
       "    }\n",
       "\n",
       "    .dataframe tbody tr th {\n",
       "        vertical-align: top;\n",
       "    }\n",
       "\n",
       "    .dataframe thead th {\n",
       "        text-align: right;\n",
       "    }\n",
       "</style>\n",
       "<table border=\"1\" class=\"dataframe\">\n",
       "  <thead>\n",
       "    <tr style=\"text-align: right;\">\n",
       "      <th></th>\n",
       "      <th>DataGeracao</th>\n",
       "      <th>Id_Conta</th>\n",
       "      <th>RotativoPagaJuros</th>\n",
       "      <th>RotativoAliquota</th>\n",
       "      <th>LancadoAfetaRotativo</th>\n",
       "      <th>Valor</th>\n",
       "    </tr>\n",
       "  </thead>\n",
       "  <tbody>\n",
       "    <tr>\n",
       "      <td>0</td>\n",
       "      <td>2019-12-02</td>\n",
       "      <td>288028</td>\n",
       "      <td>570.34</td>\n",
       "      <td>0.0</td>\n",
       "      <td>570.34</td>\n",
       "      <td>7.44</td>\n",
       "    </tr>\n",
       "    <tr>\n",
       "      <td>1</td>\n",
       "      <td>2019-12-02</td>\n",
       "      <td>308594</td>\n",
       "      <td>0.00</td>\n",
       "      <td>0.0</td>\n",
       "      <td>-62.87</td>\n",
       "      <td>0.30</td>\n",
       "    </tr>\n",
       "  </tbody>\n",
       "</table>\n",
       "</div>"
      ],
      "text/plain": [
       "  DataGeracao  Id_Conta  RotativoPagaJuros  RotativoAliquota  \\\n",
       "0  2019-12-02    288028             570.34               0.0   \n",
       "1  2019-12-02    308594               0.00               0.0   \n",
       "\n",
       "   LancadoAfetaRotativo  Valor  \n",
       "0                570.34   7.44  \n",
       "1                -62.87   0.30  "
      ]
     },
     "execution_count": 521,
     "metadata": {},
     "output_type": "execute_result"
    }
   ],
   "source": [
    "df.head(2)"
   ]
  },
  {
   "cell_type": "code",
   "execution_count": 522,
   "metadata": {},
   "outputs": [
    {
     "data": {
      "text/html": [
       "<div>\n",
       "<style scoped>\n",
       "    .dataframe tbody tr th:only-of-type {\n",
       "        vertical-align: middle;\n",
       "    }\n",
       "\n",
       "    .dataframe tbody tr th {\n",
       "        vertical-align: top;\n",
       "    }\n",
       "\n",
       "    .dataframe thead th {\n",
       "        text-align: right;\n",
       "    }\n",
       "</style>\n",
       "<table border=\"1\" class=\"dataframe\">\n",
       "  <thead>\n",
       "    <tr style=\"text-align: right;\">\n",
       "      <th></th>\n",
       "      <th>Id_Conta</th>\n",
       "      <th>RotativoPagaJuros</th>\n",
       "      <th>RotativoAliquota</th>\n",
       "      <th>LancadoAfetaRotativo</th>\n",
       "      <th>Valor</th>\n",
       "    </tr>\n",
       "  </thead>\n",
       "  <tbody>\n",
       "    <tr>\n",
       "      <td>0</td>\n",
       "      <td>288028</td>\n",
       "      <td>570.34</td>\n",
       "      <td>0.0</td>\n",
       "      <td>570.34</td>\n",
       "      <td>7.44</td>\n",
       "    </tr>\n",
       "    <tr>\n",
       "      <td>1</td>\n",
       "      <td>308594</td>\n",
       "      <td>0.00</td>\n",
       "      <td>0.0</td>\n",
       "      <td>-62.87</td>\n",
       "      <td>0.30</td>\n",
       "    </tr>\n",
       "    <tr>\n",
       "      <td>2</td>\n",
       "      <td>318481</td>\n",
       "      <td>0.00</td>\n",
       "      <td>0.0</td>\n",
       "      <td>0.00</td>\n",
       "      <td>1.00</td>\n",
       "    </tr>\n",
       "    <tr>\n",
       "      <td>3</td>\n",
       "      <td>327196</td>\n",
       "      <td>0.00</td>\n",
       "      <td>0.0</td>\n",
       "      <td>0.00</td>\n",
       "      <td>3.21</td>\n",
       "    </tr>\n",
       "    <tr>\n",
       "      <td>4</td>\n",
       "      <td>350109</td>\n",
       "      <td>0.00</td>\n",
       "      <td>0.0</td>\n",
       "      <td>0.00</td>\n",
       "      <td>0.59</td>\n",
       "    </tr>\n",
       "  </tbody>\n",
       "</table>\n",
       "</div>"
      ],
      "text/plain": [
       "   Id_Conta  RotativoPagaJuros  RotativoAliquota  LancadoAfetaRotativo  Valor\n",
       "0    288028             570.34               0.0                570.34   7.44\n",
       "1    308594               0.00               0.0                -62.87   0.30\n",
       "2    318481               0.00               0.0                  0.00   1.00\n",
       "3    327196               0.00               0.0                  0.00   3.21\n",
       "4    350109               0.00               0.0                  0.00   0.59"
      ]
     },
     "execution_count": 522,
     "metadata": {},
     "output_type": "execute_result"
    }
   ],
   "source": [
    "df.drop('DataGeracao', inplace=True, axis=1)\n",
    "df.head()"
   ]
  },
  {
   "cell_type": "code",
   "execution_count": 523,
   "metadata": {},
   "outputs": [],
   "source": [
    "X, Y = preperData(df, preditoras,prevista)"
   ]
  },
  {
   "cell_type": "code",
   "execution_count": 524,
   "metadata": {},
   "outputs": [
    {
     "data": {
      "text/plain": [
       "-0.0076279036714341775"
      ]
     },
     "execution_count": 524,
     "metadata": {},
     "output_type": "execute_result"
    }
   ],
   "source": [
    "model_forest.score(X,Y)"
   ]
  },
  {
   "cell_type": "code",
   "execution_count": 525,
   "metadata": {},
   "outputs": [
    {
     "name": "stdout",
     "output_type": "stream",
     "text": [
      "[model_forest] - Total Real:  628.00\n",
      "[model_forest] - Total Prev:  683.22\n",
      "[model_forest] - Total Diff:  55.22\n",
      "[model_forest] - Total Porcentagem de diferença do previsto x real:  8.79%\n"
     ]
    }
   ],
   "source": [
    "#Retirando metrica SE - Sum of Error do modelo \n",
    "Y_Predict = model_treeRegressor.predict(X)\n",
    "Y_Predict = Y_Predict.reshape(Y_Predict.shape[0],1)\n",
    "df_final = transformDataSet(Y_Predict, Y)\n",
    "getresultdataset(df_final, \"model_forest\")"
   ]
  },
  {
   "cell_type": "code",
   "execution_count": 526,
   "metadata": {},
   "outputs": [
    {
     "data": {
      "text/plain": [
       "Text(0.5, 1.0, 'Importância de cada feature no Valor Minimo Extrato')"
      ]
     },
     "execution_count": 526,
     "metadata": {},
     "output_type": "execute_result"
    },
    {
     "data": {
      "image/png": "[encoded data removed]",
      "text/plain": [
       "<Figure size 432x288 with 1 Axes>"
      ]
     },
     "metadata": {
      "needs_background": "light"
     },
     "output_type": "display_data"
    }
   ],
   "source": [
    "import seaborn as sns\n",
    "importances = pd.Series(data=randomForestRegression.feature_importances_, index=preditoras)\n",
    "sns.barplot(x=importances, y=importances.index, orient='h').set_title('Importância de cada feature no Valor Minimo Extrato')"
   ]
  }
 ],
 "metadata": {
  "kernelspec": {
   "display_name": "Python 3",
   "language": "python",
   "name": "python3"
  },
  "language_info": {
   "codemirror_mode": {
    "name": "ipython",
    "version": 3
   },
   "file_extension": ".py",
   "mimetype": "text/x-python",
   "name": "python",
   "nbconvert_exporter": "python",
   "pygments_lexer": "ipython3",
   "version": "3.7.6"
  }
 },
 "nbformat": 4,
 "nbformat_minor": 4
}
