{
 "cells": [
  {
   "cell_type": "code",
   "execution_count": 114,
   "metadata": {},
   "outputs": [],
   "source": [
    "from sklearn.ensemble import RandomForestRegressor\n",
    "import pandas as pd\n",
    "import numpy as np\n",
    "import import_ipynb\n",
    "import utils_cdt as cdt\n",
    "import pickle\n",
    "import plotly.express as px\n",
    "from sklearn.ensemble import RandomForestRegressor\n",
    "from sklearn.model_selection import train_test_split"
   ]
  },
  {
   "cell_type": "markdown",
   "metadata": {},
   "source": [
    "#613-F613 - Juros de Mora\n",
    "*  SaldoAtualFinal\n",
    "*  ValorMinimoExtrato\n",
    "*  VencimentoBaseJurosReal\n",
    "*  RotativoPagaJuros"
   ]
  },
  {
   "cell_type": "code",
   "execution_count": 115,
   "metadata": {},
   "outputs": [],
   "source": [
    "infoDataBases = {\"ip\":\"AZ2D-MASKDB-220.DEVCDT.COM.BR\",\"base\":\"Controly\"}"
   ]
  },
  {
   "cell_type": "code",
   "execution_count": 116,
   "metadata": {},
   "outputs": [],
   "source": [
    "consulta = cdt.resultQuery(\"mdl_jurosmora_saldos.sql\")\n",
    "df_historico = cdt.extrairDados(infoDataBases,consulta,path='../data/',arquivo=\"mdl_jurosmora_\"+infoDataBases[\"base\"],spark=False,objSpark=None)"
   ]
  },
  {
   "cell_type": "code",
   "execution_count": 117,
   "metadata": {},
   "outputs": [
    {
     "data": {
      "text/html": [
       "<div>\n",
       "<style scoped>\n",
       "    .dataframe tbody tr th:only-of-type {\n",
       "        vertical-align: middle;\n",
       "    }\n",
       "\n",
       "    .dataframe tbody tr th {\n",
       "        vertical-align: top;\n",
       "    }\n",
       "\n",
       "    .dataframe thead th {\n",
       "        text-align: right;\n",
       "    }\n",
       "</style>\n",
       "<table border=\"1\" class=\"dataframe\">\n",
       "  <thead>\n",
       "    <tr style=\"text-align: right;\">\n",
       "      <th></th>\n",
       "      <th>percentual_cred</th>\n",
       "      <th>Id_Conta</th>\n",
       "      <th>SaldoExtratoAnterior</th>\n",
       "      <th>ValorMinimoExtrato</th>\n",
       "      <th>NumeroCiclo</th>\n",
       "      <th>FinanciavelExtrato</th>\n",
       "      <th>NaoFinanciavelExtrato</th>\n",
       "      <th>ParcelasFinanciaveis</th>\n",
       "      <th>ComprasNacionais</th>\n",
       "      <th>EncargosFinanciamento</th>\n",
       "      <th>...</th>\n",
       "      <th>ComprasSemJurosNaoVencidas</th>\n",
       "      <th>ParcelasComJurosNaoVencidas</th>\n",
       "      <th>SaldoFuturoJuros</th>\n",
       "      <th>SaldoFuturoParceladoComJuros</th>\n",
       "      <th>SaldoFuturoParceladoSemJuros</th>\n",
       "      <th>EncargosCiclo</th>\n",
       "      <th>TaxaDiariaCiclo</th>\n",
       "      <th>SaldoEntradaCreliq</th>\n",
       "      <th>SaldoJurosAcordo</th>\n",
       "      <th>FlagSMSExtratoIncondicional</th>\n",
       "    </tr>\n",
       "  </thead>\n",
       "  <tbody>\n",
       "    <tr>\n",
       "      <th>0</th>\n",
       "      <td>0.0000</td>\n",
       "      <td>173875</td>\n",
       "      <td>457.62</td>\n",
       "      <td>68.64</td>\n",
       "      <td>22</td>\n",
       "      <td>2103.38</td>\n",
       "      <td>0.0</td>\n",
       "      <td>0.0</td>\n",
       "      <td>0.00</td>\n",
       "      <td>0.0</td>\n",
       "      <td>...</td>\n",
       "      <td>0.00</td>\n",
       "      <td>0.0</td>\n",
       "      <td>0.0</td>\n",
       "      <td>0.0</td>\n",
       "      <td>0.0</td>\n",
       "      <td>65.7295</td>\n",
       "      <td>0.004633</td>\n",
       "      <td>NaN</td>\n",
       "      <td>0.0</td>\n",
       "      <td>None</td>\n",
       "    </tr>\n",
       "    <tr>\n",
       "      <th>1</th>\n",
       "      <td>13.0636</td>\n",
       "      <td>173957</td>\n",
       "      <td>653.18</td>\n",
       "      <td>-555.20</td>\n",
       "      <td>21</td>\n",
       "      <td>16564.11</td>\n",
       "      <td>0.0</td>\n",
       "      <td>0.0</td>\n",
       "      <td>387.97</td>\n",
       "      <td>0.0</td>\n",
       "      <td>...</td>\n",
       "      <td>2631.98</td>\n",
       "      <td>0.0</td>\n",
       "      <td>0.0</td>\n",
       "      <td>0.0</td>\n",
       "      <td>0.0</td>\n",
       "      <td>110.2020</td>\n",
       "      <td>0.004633</td>\n",
       "      <td>NaN</td>\n",
       "      <td>0.0</td>\n",
       "      <td>None</td>\n",
       "    </tr>\n",
       "  </tbody>\n",
       "</table>\n",
       "<p>2 rows × 40 columns</p>\n",
       "</div>"
      ],
      "text/plain": [
       "   percentual_cred  Id_Conta  SaldoExtratoAnterior  ValorMinimoExtrato  \\\n",
       "0           0.0000    173875                457.62               68.64   \n",
       "1          13.0636    173957                653.18             -555.20   \n",
       "\n",
       "   NumeroCiclo  FinanciavelExtrato  NaoFinanciavelExtrato  \\\n",
       "0           22             2103.38                    0.0   \n",
       "1           21            16564.11                    0.0   \n",
       "\n",
       "   ParcelasFinanciaveis  ComprasNacionais  EncargosFinanciamento  ...  \\\n",
       "0                   0.0              0.00                    0.0  ...   \n",
       "1                   0.0            387.97                    0.0  ...   \n",
       "\n",
       "   ComprasSemJurosNaoVencidas  ParcelasComJurosNaoVencidas  SaldoFuturoJuros  \\\n",
       "0                        0.00                          0.0               0.0   \n",
       "1                     2631.98                          0.0               0.0   \n",
       "\n",
       "   SaldoFuturoParceladoComJuros  SaldoFuturoParceladoSemJuros  EncargosCiclo  \\\n",
       "0                           0.0                           0.0        65.7295   \n",
       "1                           0.0                           0.0       110.2020   \n",
       "\n",
       "   TaxaDiariaCiclo  SaldoEntradaCreliq  SaldoJurosAcordo  \\\n",
       "0         0.004633                 NaN               0.0   \n",
       "1         0.004633                 NaN               0.0   \n",
       "\n",
       "   FlagSMSExtratoIncondicional  \n",
       "0                         None  \n",
       "1                         None  \n",
       "\n",
       "[2 rows x 40 columns]"
      ]
     },
     "execution_count": 117,
     "metadata": {},
     "output_type": "execute_result"
    }
   ],
   "source": [
    "df_historico.head(2)"
   ]
  },
  {
   "cell_type": "code",
   "execution_count": 118,
   "metadata": {},
   "outputs": [
    {
     "data": {
      "text/plain": [
       "(350962, 40)"
      ]
     },
     "execution_count": 118,
     "metadata": {},
     "output_type": "execute_result"
    }
   ],
   "source": [
    "df_historico.shape"
   ]
  },
  {
   "cell_type": "code",
   "execution_count": 119,
   "metadata": {},
   "outputs": [],
   "source": [
    "consulta = cdt.resultQuery(\"mdl_jurosmora_transacoes.sql\")\n",
    "df_transacoes = cdt.extrairDados(infoDataBases,consulta,path='../data/',arquivo=\"mdl_jurosmora_tr_\"+infoDataBases[\"base\"],spark=False,objSpark=None)"
   ]
  },
  {
   "cell_type": "code",
   "execution_count": 120,
   "metadata": {},
   "outputs": [
    {
     "data": {
      "text/html": [
       "<div>\n",
       "<style scoped>\n",
       "    .dataframe tbody tr th:only-of-type {\n",
       "        vertical-align: middle;\n",
       "    }\n",
       "\n",
       "    .dataframe tbody tr th {\n",
       "        vertical-align: top;\n",
       "    }\n",
       "\n",
       "    .dataframe thead th {\n",
       "        text-align: right;\n",
       "    }\n",
       "</style>\n",
       "<table border=\"1\" class=\"dataframe\">\n",
       "  <thead>\n",
       "    <tr style=\"text-align: right;\">\n",
       "      <th></th>\n",
       "      <th>Id_Transacao</th>\n",
       "      <th>Id_Conta</th>\n",
       "      <th>Valor</th>\n",
       "      <th>DataVencimentoPadrao</th>\n",
       "    </tr>\n",
       "  </thead>\n",
       "  <tbody>\n",
       "    <tr>\n",
       "      <th>0</th>\n",
       "      <td>119222793</td>\n",
       "      <td>518785</td>\n",
       "      <td>8.77</td>\n",
       "      <td>05/04/2020</td>\n",
       "    </tr>\n",
       "    <tr>\n",
       "      <th>1</th>\n",
       "      <td>119222794</td>\n",
       "      <td>518905</td>\n",
       "      <td>3.47</td>\n",
       "      <td>05/04/2020</td>\n",
       "    </tr>\n",
       "  </tbody>\n",
       "</table>\n",
       "</div>"
      ],
      "text/plain": [
       "   Id_Transacao  Id_Conta  Valor DataVencimentoPadrao\n",
       "0     119222793    518785   8.77           05/04/2020\n",
       "1     119222794    518905   3.47           05/04/2020"
      ]
     },
     "execution_count": 120,
     "metadata": {},
     "output_type": "execute_result"
    }
   ],
   "source": [
    "df_transacoes.head(2)"
   ]
  },
  {
   "cell_type": "code",
   "execution_count": 121,
   "metadata": {},
   "outputs": [],
   "source": [
    "# Faço um left join entre a tabela de historicos e transações, onde eu quero todo o faturamento independente se houve ou não lançamento de Juros Mora.\n",
    "# Desta forma eu consigo prever quem teve lançamento ou não.\n",
    "\n",
    "df = df_historico.merge(df_transacoes, on=['Id_Conta'], how='left')\n",
    "df = df.fillna(0)"
   ]
  },
  {
   "cell_type": "code",
   "execution_count": 122,
   "metadata": {},
   "outputs": [
    {
     "data": {
      "text/html": [
       "<div>\n",
       "<style scoped>\n",
       "    .dataframe tbody tr th:only-of-type {\n",
       "        vertical-align: middle;\n",
       "    }\n",
       "\n",
       "    .dataframe tbody tr th {\n",
       "        vertical-align: top;\n",
       "    }\n",
       "\n",
       "    .dataframe thead th {\n",
       "        text-align: right;\n",
       "    }\n",
       "</style>\n",
       "<table border=\"1\" class=\"dataframe\">\n",
       "  <thead>\n",
       "    <tr style=\"text-align: right;\">\n",
       "      <th></th>\n",
       "      <th>percentual_cred</th>\n",
       "      <th>Id_Conta</th>\n",
       "      <th>SaldoExtratoAnterior</th>\n",
       "      <th>ValorMinimoExtrato</th>\n",
       "      <th>NumeroCiclo</th>\n",
       "      <th>FinanciavelExtrato</th>\n",
       "      <th>NaoFinanciavelExtrato</th>\n",
       "      <th>ParcelasFinanciaveis</th>\n",
       "      <th>ComprasNacionais</th>\n",
       "      <th>EncargosFinanciamento</th>\n",
       "      <th>...</th>\n",
       "      <th>SaldoFuturoParceladoComJuros</th>\n",
       "      <th>SaldoFuturoParceladoSemJuros</th>\n",
       "      <th>EncargosCiclo</th>\n",
       "      <th>TaxaDiariaCiclo</th>\n",
       "      <th>SaldoEntradaCreliq</th>\n",
       "      <th>SaldoJurosAcordo</th>\n",
       "      <th>FlagSMSExtratoIncondicional</th>\n",
       "      <th>Id_Transacao</th>\n",
       "      <th>Valor</th>\n",
       "      <th>DataVencimentoPadrao</th>\n",
       "    </tr>\n",
       "  </thead>\n",
       "  <tbody>\n",
       "    <tr>\n",
       "      <th>0</th>\n",
       "      <td>0.0000</td>\n",
       "      <td>173875</td>\n",
       "      <td>457.62</td>\n",
       "      <td>68.64</td>\n",
       "      <td>22</td>\n",
       "      <td>2103.38</td>\n",
       "      <td>0.0</td>\n",
       "      <td>0.0</td>\n",
       "      <td>0.00</td>\n",
       "      <td>0.0</td>\n",
       "      <td>...</td>\n",
       "      <td>0.0</td>\n",
       "      <td>0.0</td>\n",
       "      <td>65.7295</td>\n",
       "      <td>0.004633</td>\n",
       "      <td>0.0</td>\n",
       "      <td>0.0</td>\n",
       "      <td>0</td>\n",
       "      <td>0.0</td>\n",
       "      <td>0.0</td>\n",
       "      <td>0</td>\n",
       "    </tr>\n",
       "    <tr>\n",
       "      <th>1</th>\n",
       "      <td>13.0636</td>\n",
       "      <td>173957</td>\n",
       "      <td>653.18</td>\n",
       "      <td>-555.20</td>\n",
       "      <td>21</td>\n",
       "      <td>16564.11</td>\n",
       "      <td>0.0</td>\n",
       "      <td>0.0</td>\n",
       "      <td>387.97</td>\n",
       "      <td>0.0</td>\n",
       "      <td>...</td>\n",
       "      <td>0.0</td>\n",
       "      <td>0.0</td>\n",
       "      <td>110.2020</td>\n",
       "      <td>0.004633</td>\n",
       "      <td>0.0</td>\n",
       "      <td>0.0</td>\n",
       "      <td>0</td>\n",
       "      <td>0.0</td>\n",
       "      <td>0.0</td>\n",
       "      <td>0</td>\n",
       "    </tr>\n",
       "  </tbody>\n",
       "</table>\n",
       "<p>2 rows × 43 columns</p>\n",
       "</div>"
      ],
      "text/plain": [
       "   percentual_cred  Id_Conta  SaldoExtratoAnterior  ValorMinimoExtrato  \\\n",
       "0           0.0000    173875                457.62               68.64   \n",
       "1          13.0636    173957                653.18             -555.20   \n",
       "\n",
       "   NumeroCiclo  FinanciavelExtrato  NaoFinanciavelExtrato  \\\n",
       "0           22             2103.38                    0.0   \n",
       "1           21            16564.11                    0.0   \n",
       "\n",
       "   ParcelasFinanciaveis  ComprasNacionais  EncargosFinanciamento  ...  \\\n",
       "0                   0.0              0.00                    0.0  ...   \n",
       "1                   0.0            387.97                    0.0  ...   \n",
       "\n",
       "   SaldoFuturoParceladoComJuros  SaldoFuturoParceladoSemJuros  EncargosCiclo  \\\n",
       "0                           0.0                           0.0        65.7295   \n",
       "1                           0.0                           0.0       110.2020   \n",
       "\n",
       "   TaxaDiariaCiclo  SaldoEntradaCreliq  SaldoJurosAcordo  \\\n",
       "0         0.004633                 0.0               0.0   \n",
       "1         0.004633                 0.0               0.0   \n",
       "\n",
       "   FlagSMSExtratoIncondicional  Id_Transacao  Valor  DataVencimentoPadrao  \n",
       "0                            0           0.0    0.0                     0  \n",
       "1                            0           0.0    0.0                     0  \n",
       "\n",
       "[2 rows x 43 columns]"
      ]
     },
     "execution_count": 122,
     "metadata": {},
     "output_type": "execute_result"
    }
   ],
   "source": [
    "df.head(2)"
   ]
  },
  {
   "cell_type": "code",
   "execution_count": 123,
   "metadata": {},
   "outputs": [],
   "source": [
    "# Remove colunas que contem ID\n",
    "cols_id = [c for c in df.columns if c.lower()[:2] == 'id']\n",
    "df = df.drop(columns=cols_id)\n",
    "\n",
    "\n",
    "# Mantem apenas colunas numericas\n",
    "numerics = ['int16', 'int32', 'int64', 'float16', 'float32', 'float64']\n",
    "df = df.select_dtypes(include=numerics)"
   ]
  },
  {
   "cell_type": "code",
   "execution_count": 124,
   "metadata": {},
   "outputs": [
    {
     "data": {
      "text/html": [
       "<div>\n",
       "<style scoped>\n",
       "    .dataframe tbody tr th:only-of-type {\n",
       "        vertical-align: middle;\n",
       "    }\n",
       "\n",
       "    .dataframe tbody tr th {\n",
       "        vertical-align: top;\n",
       "    }\n",
       "\n",
       "    .dataframe thead th {\n",
       "        text-align: right;\n",
       "    }\n",
       "</style>\n",
       "<table border=\"1\" class=\"dataframe\">\n",
       "  <thead>\n",
       "    <tr style=\"text-align: right;\">\n",
       "      <th></th>\n",
       "      <th>percentual_cred</th>\n",
       "      <th>SaldoExtratoAnterior</th>\n",
       "      <th>ValorMinimoExtrato</th>\n",
       "      <th>NumeroCiclo</th>\n",
       "      <th>FinanciavelExtrato</th>\n",
       "      <th>NaoFinanciavelExtrato</th>\n",
       "      <th>ParcelasFinanciaveis</th>\n",
       "      <th>ComprasNacionais</th>\n",
       "      <th>EncargosFinanciamento</th>\n",
       "      <th>CreditosNacionais</th>\n",
       "      <th>...</th>\n",
       "      <th>ParcelasComJurosNaoVencidas</th>\n",
       "      <th>SaldoFuturoJuros</th>\n",
       "      <th>SaldoFuturoParceladoComJuros</th>\n",
       "      <th>SaldoFuturoParceladoSemJuros</th>\n",
       "      <th>EncargosCiclo</th>\n",
       "      <th>TaxaDiariaCiclo</th>\n",
       "      <th>SaldoEntradaCreliq</th>\n",
       "      <th>SaldoJurosAcordo</th>\n",
       "      <th>FlagSMSExtratoIncondicional</th>\n",
       "      <th>Valor</th>\n",
       "    </tr>\n",
       "  </thead>\n",
       "  <tbody>\n",
       "    <tr>\n",
       "      <th>0</th>\n",
       "      <td>0.0000</td>\n",
       "      <td>457.62</td>\n",
       "      <td>68.64</td>\n",
       "      <td>22</td>\n",
       "      <td>2103.38</td>\n",
       "      <td>0.0</td>\n",
       "      <td>0.0</td>\n",
       "      <td>0.00</td>\n",
       "      <td>0.0</td>\n",
       "      <td>0.00</td>\n",
       "      <td>...</td>\n",
       "      <td>0.0</td>\n",
       "      <td>0.0</td>\n",
       "      <td>0.0</td>\n",
       "      <td>0.0</td>\n",
       "      <td>65.7295</td>\n",
       "      <td>0.004633</td>\n",
       "      <td>0.0</td>\n",
       "      <td>0.0</td>\n",
       "      <td>0</td>\n",
       "      <td>0.0</td>\n",
       "    </tr>\n",
       "    <tr>\n",
       "      <th>1</th>\n",
       "      <td>13.0636</td>\n",
       "      <td>653.18</td>\n",
       "      <td>-555.20</td>\n",
       "      <td>21</td>\n",
       "      <td>16564.11</td>\n",
       "      <td>0.0</td>\n",
       "      <td>0.0</td>\n",
       "      <td>387.97</td>\n",
       "      <td>0.0</td>\n",
       "      <td>653.18</td>\n",
       "      <td>...</td>\n",
       "      <td>0.0</td>\n",
       "      <td>0.0</td>\n",
       "      <td>0.0</td>\n",
       "      <td>0.0</td>\n",
       "      <td>110.2020</td>\n",
       "      <td>0.004633</td>\n",
       "      <td>0.0</td>\n",
       "      <td>0.0</td>\n",
       "      <td>0</td>\n",
       "      <td>0.0</td>\n",
       "    </tr>\n",
       "  </tbody>\n",
       "</table>\n",
       "<p>2 rows × 40 columns</p>\n",
       "</div>"
      ],
      "text/plain": [
       "   percentual_cred  SaldoExtratoAnterior  ValorMinimoExtrato  NumeroCiclo  \\\n",
       "0           0.0000                457.62               68.64           22   \n",
       "1          13.0636                653.18             -555.20           21   \n",
       "\n",
       "   FinanciavelExtrato  NaoFinanciavelExtrato  ParcelasFinanciaveis  \\\n",
       "0             2103.38                    0.0                   0.0   \n",
       "1            16564.11                    0.0                   0.0   \n",
       "\n",
       "   ComprasNacionais  EncargosFinanciamento  CreditosNacionais  ...  \\\n",
       "0              0.00                    0.0               0.00  ...   \n",
       "1            387.97                    0.0             653.18  ...   \n",
       "\n",
       "   ParcelasComJurosNaoVencidas  SaldoFuturoJuros  \\\n",
       "0                          0.0               0.0   \n",
       "1                          0.0               0.0   \n",
       "\n",
       "   SaldoFuturoParceladoComJuros  SaldoFuturoParceladoSemJuros  EncargosCiclo  \\\n",
       "0                           0.0                           0.0        65.7295   \n",
       "1                           0.0                           0.0       110.2020   \n",
       "\n",
       "   TaxaDiariaCiclo  SaldoEntradaCreliq  SaldoJurosAcordo  \\\n",
       "0         0.004633                 0.0               0.0   \n",
       "1         0.004633                 0.0               0.0   \n",
       "\n",
       "   FlagSMSExtratoIncondicional  Valor  \n",
       "0                            0    0.0  \n",
       "1                            0    0.0  \n",
       "\n",
       "[2 rows x 40 columns]"
      ]
     },
     "execution_count": 124,
     "metadata": {},
     "output_type": "execute_result"
    }
   ],
   "source": [
    "df.head(2)"
   ]
  },
  {
   "cell_type": "code",
   "execution_count": 125,
   "metadata": {},
   "outputs": [],
   "source": [
    "preditoras =  df.columns.to_list()\n",
    "preditoras.remove(\"Valor\")\n",
    "alvo = ['Valor']"
   ]
  },
  {
   "cell_type": "code",
   "execution_count": 126,
   "metadata": {},
   "outputs": [],
   "source": [
    "X, Y = cdt.preperData(df,preditoras,alvo)"
   ]
  },
  {
   "cell_type": "code",
   "execution_count": 127,
   "metadata": {},
   "outputs": [],
   "source": [
    "X_treino, Y_treino, X_teste, Y_teste = cdt.preperTreinoTeste(df, preditoras, alvo, 0.3)"
   ]
  },
  {
   "cell_type": "code",
   "execution_count": 128,
   "metadata": {},
   "outputs": [],
   "source": [
    "# Treinando modelo\n",
    "model = RandomForestRegressor(max_features='sqrt',n_estimators=100, max_depth=15).fit(X_treino, Y_treino.ravel())"
   ]
  },
  {
   "cell_type": "code",
   "execution_count": 129,
   "metadata": {},
   "outputs": [
    {
     "data": {
      "text/plain": [
       "0.9074641648083279"
      ]
     },
     "execution_count": 129,
     "metadata": {},
     "output_type": "execute_result"
    }
   ],
   "source": [
    "model.score(X_teste,Y_teste)"
   ]
  },
  {
   "cell_type": "code",
   "execution_count": 130,
   "metadata": {},
   "outputs": [
    {
     "name": "stdout",
     "output_type": "stream",
     "text": [
      "SE - Sum of Error: \n",
      "[RandomForestRegressor] - Total Real:  46843.00\n",
      "[RandomForestRegressor] - Total Prev:  46660.21\n",
      "[RandomForestRegressor] - SE Final:  -182.79\n",
      "[RandomForestRegressor] - Total Porcentagem de diferença do previsto x real:  0.39%\n",
      "----------------------------------------------------------\n",
      "ME - Mean Error:  \n",
      "[RandomForestRegressor] - Total Registros: 51546\n",
      "[RandomForestRegressor] - Total Diff : -183\n",
      "[RandomForestRegressor] - ME Final : -0.003546\n",
      "----------------------------------------------------------\n",
      "MAE - Mean Absolute Error:  \n",
      "[RandomForestRegressor] - Total Registros: 51546\n",
      "[RandomForestRegressor] - Total Absolute Diff : 14877\n",
      "[RandomForestRegressor] - ME Final : 0.288613\n",
      "----------------------------------------------------------\n",
      "MPE - Mean Percentage Error:  \n",
      "[RandomForestRegressor] - Total Registros: 51546\n",
      "[RandomForestRegressor] - Total percent Diff: 177310\n",
      "[RandomForestRegressor] - MPE Final : 3.44%\n",
      "----------------------------------------------------------\n",
      "MAPAE - Mean Absolute Percentage Error:  \n",
      "[RandomForestRegressor] - Total Registros: 51546\n",
      "[RandomForestRegressor] - Total percent Absolute Diff: 266979\n",
      "[RandomForestRegressor] - MAPAE Final : 5.18%\n"
     ]
    }
   ],
   "source": [
    "#Retirando metrcias do modelo \n",
    "\n",
    "Y_Predict = model.predict(X_teste)\n",
    "Y_Predict = Y_Predict.round(2)\n",
    "Y_Predict = Y_Predict.reshape(Y_Predict.shape[0],1)\n",
    "df_final = cdt.transformDataSet(Y_Predict, Y_teste)\n",
    "cdt.getresultdataset(df_final, \"RandomForestRegressor\")"
   ]
  },
  {
   "cell_type": "markdown",
   "metadata": {},
   "source": [
    "## Validando a eficacia do modelo com novos dados"
   ]
  },
  {
   "cell_type": "code",
   "execution_count": 140,
   "metadata": {},
   "outputs": [],
   "source": [
    "consulta = cdt.resultQuery(\"estadoscontas_jurosmora.sql\")\n",
    "df_estadoscontas = cdt.extrairDados(infoDataBases,consulta,path='../data/',arquivo=\"jurosmora_\"+infoDataBases[\"base\"],spark=False,objSpark=None)"
   ]
  },
  {
   "cell_type": "code",
   "execution_count": 141,
   "metadata": {},
   "outputs": [],
   "source": [
    "# Remove colunas que contem ID\n",
    "cols_id = [c for c in df_estadoscontas.columns if c.lower()[:2] == 'id']\n",
    "df_estadoscontas = df_estadoscontas.drop(columns=cols_id)\n",
    "df_estadoscontas.round(2)\n",
    "\n",
    "df_estadoscontas = df_estadoscontas.replace([np.inf, -np.inf], np.nan)\n",
    "df_estadoscontas = df_estadoscontas.fillna(0)"
   ]
  },
  {
   "cell_type": "code",
   "execution_count": 142,
   "metadata": {},
   "outputs": [],
   "source": [
    "consulta = cdt.resultQuery(\"transacoescorrentes_jurosmora.sql\")\n",
    "df_lancamentos = cdt.extrairDados(infoDataBases,consulta,path='../data/',arquivo=\"jurosmora_tr_\"+infoDataBases[\"base\"],spark=False,objSpark=None)"
   ]
  },
  {
   "cell_type": "code",
   "execution_count": 143,
   "metadata": {},
   "outputs": [
    {
     "data": {
      "text/plain": [
       "(5593, 4)"
      ]
     },
     "execution_count": 143,
     "metadata": {},
     "output_type": "execute_result"
    }
   ],
   "source": [
    "df_lancamentos.shape"
   ]
  },
  {
   "cell_type": "code",
   "execution_count": 144,
   "metadata": {},
   "outputs": [],
   "source": [
    "df_lancamentos.round(2)\n",
    "Y_real = df_lancamentos['Valor'].values"
   ]
  },
  {
   "cell_type": "code",
   "execution_count": 145,
   "metadata": {},
   "outputs": [],
   "source": [
    "X = np.absolute(df_estadoscontas[preditoras].values)"
   ]
  },
  {
   "cell_type": "code",
   "execution_count": 146,
   "metadata": {},
   "outputs": [],
   "source": [
    "Y_Predict = model.predict(X)"
   ]
  },
  {
   "cell_type": "code",
   "execution_count": 152,
   "metadata": {},
   "outputs": [
    {
     "name": "stdout",
     "output_type": "stream",
     "text": [
      " Total previsto: R$15215.45487980714\n",
      " Total real: R$15925.21 \n",
      " Diferença total: R$709.75512019286 \n",
      " Porcentagem diferença: 4.46%\n"
     ]
    }
   ],
   "source": [
    "print(f\" Total previsto: R${Y_Predict.sum()}\")\n",
    "print(f\" Total real: R${Y_real.sum()} \")\n",
    "print(f\" Diferença total: R${Y_real.sum()-Y_Predict.sum()} \")\n",
    "print(\" Porcentagem diferença: {:.2f}%\".format((((Y_real.sum()-Y_Predict.sum()) / Y_real.sum())*100)))"
   ]
  }
 ],
 "metadata": {
  "kernelspec": {
   "display_name": "Python 3",
   "language": "python",
   "name": "python3"
  },
  "language_info": {
   "codemirror_mode": {
    "name": "ipython",
    "version": 3
   },
   "file_extension": ".py",
   "mimetype": "text/x-python",
   "name": "python",
   "nbconvert_exporter": "python",
   "pygments_lexer": "ipython3",
   "version": "3.7.6"
  }
 },
 "nbformat": 4,
 "nbformat_minor": 4
}
