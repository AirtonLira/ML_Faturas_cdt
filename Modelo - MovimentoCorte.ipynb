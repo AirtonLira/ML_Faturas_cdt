{
 "cells": [
  {
   "cell_type": "code",
   "execution_count": 1,
   "metadata": {},
   "outputs": [
    {
     "name": "stdout",
     "output_type": "stream",
     "text": [
      "importing Jupyter notebook from cdt_sql_server.ipynb\n"
     ]
    }
   ],
   "source": [
    "import pandas as pd\n",
    "import import_ipynb\n",
    "import cdt_sql_server as cdtsql\n",
    "from datetime import date\n",
    "import time"
   ]
  },
  {
   "cell_type": "code",
   "execution_count": 2,
   "metadata": {},
   "outputs": [],
   "source": [
    "infoDataBases = {\"ip\":\"\",\n",
    "                 \"base\":\"\"}"
   ]
  },
  {
   "cell_type": "code",
   "execution_count": 3,
   "metadata": {},
   "outputs": [],
   "source": [
    "def validaMovimentoCorte(infoDataBases, data):\n",
    "    consulta1 = f\"\"\"\n",
    "                SELECT * FROM ControleProcessos WHERE DataMovimento > '{data}' and FlagCorte = 1\n",
    "                \"\"\"\n",
    "    consulta2 = f\"\"\"\n",
    "                SELECT * FROM ControleVencimentos Where DataPrevistaCorte > '{data}'\n",
    "                \"\"\"\n",
    "    controleprocessos = cdtsql.extrairDados(infoDataBases, consulta1, spark=False)\n",
    "    controlevencimentos = cdtsql.extrairDados(infoDataBases, consulta2, spark=False)\n",
    "\n",
    "    # Converte do formato o formato de data removendo o horario hh:mm:ss (Para prevenir mesmas datas com horarios diferentes de 00:00:00)\n",
    "    controleprocessos['VencimentoPadraoFaturar'] = pd.to_datetime(controleprocessos['VencimentoPadraoFaturar'], format='%d/%m/%Y').dt.strftime('%Y-%m-%d')\n",
    "    controleprocessos['DataMovimento'] = controleprocessos['DataMovimento'].dt.strftime('%Y-%m-%d')\n",
    "    controlevencimentos['DataPrevistaCorte'] = controlevencimentos['DataPrevistaCorte'].dt.strftime('%Y-%m-%d')\n",
    "    controlevencimentos['DataVencimento'] = controlevencimentos['DataVencimento'].dt.strftime('%Y-%m-%d')\n",
    "    controlevencimentos['DataPrevistaFaturamento'] = controlevencimentos['DataPrevistaFaturamento'].dt.strftime('%Y-%m-%d')\n",
    "    controlevencimentos['DataPrevistaVencimento'] = controlevencimentos['DataPrevistaVencimento'].dt.strftime('%Y-%m-%d')\n",
    "    \n",
    "    result = {'Descricao': [],\n",
    "              'Id_ControleProcesso': [],\n",
    "              'Id_ControleVencimentos':[]}\n",
    "    \n",
    "    for i in range (len(controleprocessos)):\n",
    "        #Verifica se a data de movimento esta inserida na ControleVencimento \n",
    "        df_aux = controlevencimentos[controleprocessos['DataMovimento'][i] == controlevencimentos['DataPrevistaCorte']]\n",
    "        \n",
    "        #Se não estiver\n",
    "        if(len(df_aux) == 0):\n",
    "            result['Descricao'].append('Data de Movimento Corte não foi encontrada na tabela ControleVencimentos')\n",
    "            result['Id_ControleProcesso'].append(controleprocessos['Id_ControleProcesso'][i])\n",
    "            result['Id_ControleVencimentos'].append(None)\n",
    "            \n",
    "        else:\n",
    "            #Valida se os demais campos estão corretos\n",
    "            if(((df_aux['DataVencimento'] == controleprocessos['VencimentoPadraoFaturar'][i]) == False).any()):\n",
    "                result['Descricao'].append('Campo DataVencimento não foi validado na tabela ControleVencimentos')\n",
    "                result['Id_ControleProcesso'].append(controleprocessos['Id_ControleProcesso'][i])\n",
    "                result['Id_ControleVencimentos'].append(df_aux['Id_ControleVencimentos'][i])\n",
    "                \n",
    "            if(((df_aux['DataPrevistaFaturamento'] == controleprocessos['DataMovimento'][i]) == False).any()):\n",
    "                result['Descricao'].append('Campo DataPrevistaFaturamento não foi validado na tabela ControleVencimentos')\n",
    "                result['Id_ControleProcesso'].append(controleprocessos['Id_ControleProcesso'][i])\n",
    "                result['Id_ControleVencimentos'].append(df_aux['Id_ControleVencimentos'][i])\n",
    "                \n",
    "            if(((df_aux['DataPrevistaVencimento'] == controleprocessos['VencimentoPadraoFaturar'][i]) == False).any()):\n",
    "                result['Descricao'].append('Campo VencimentoPadraoFaturar não foi validado na tabela ControleVencimentos')\n",
    "                result['Id_ControleProcesso'].append(controleprocessos['Id_ControleProcesso'][i])\n",
    "                result['Id_ControleVencimentos'].append(df_aux['Id_ControleVencimentos'][i])\n",
    "    \n",
    "    return pd.DataFrame(result)\n",
    "        "
   ]
  },
  {
   "cell_type": "markdown",
   "metadata": {},
   "source": [
    "# Tempo de Execução da Função"
   ]
  },
  {
   "cell_type": "code",
   "execution_count": 24,
   "metadata": {},
   "outputs": [
    {
     "name": "stdout",
     "output_type": "stream",
     "text": [
      "Tempo em segundos :  4.659976482391357\n"
     ]
    }
   ],
   "source": [
    "ini = time.time()\n",
    "resultado = validaMovimentoCorte(infoDataBases, date.today())\n",
    "fim = time.time()\n",
    "print (\"Tempo em segundos : \", fim-ini)"
   ]
  },
  {
   "cell_type": "markdown",
   "metadata": {},
   "source": [
    "# ----------------------------------------------------------------------------"
   ]
  },
  {
   "cell_type": "markdown",
   "metadata": {},
   "source": [
    "# Casos de Testes"
   ]
  },
  {
   "cell_type": "markdown",
   "metadata": {},
   "source": [
    "## Função teste sem leitura da base"
   ]
  },
  {
   "cell_type": "code",
   "execution_count": 5,
   "metadata": {},
   "outputs": [],
   "source": [
    "def teste(infoDataBases, data):\n",
    "    # Converte do formato o formato de data removendo o horario hh:mm:ss (Para prevenir mesmas datas com horarios diferentes de 00:00:00)\n",
    "    \n",
    "    result = {'Descricao': [],\n",
    "              'Id_ControleProcesso': [],\n",
    "              'Id_ControleVencimentos': []}\n",
    "    \n",
    "    for i in range (len(controleprocessos)):\n",
    "        #Verifica se a data de movimento esta inserida na ControleVencimento \n",
    "        df_aux = controlevencimentos[controleprocessos['DataMovimento'][i] == controlevencimentos['DataPrevistaCorte']]\n",
    "        \n",
    "        #Se não estiver\n",
    "        if(len(df_aux) == 0):\n",
    "            result['Descricao'].append('Data de Movimento Corte não foi encontrada na tabela ControleVencimentos')\n",
    "            result['Id_ControleProcesso'].append(controleprocessos['Id_ControleProcesso'][i])\n",
    "            result['Id_ControleVencimentos'].append('None')\n",
    "            \n",
    "        else:\n",
    "            #Valida se os demais campos estão corretos\n",
    "            if(((df_aux['DataVencimento'] == controleprocessos['VencimentoPadraoFaturar'][i]) == False).any()):\n",
    "                result['Descricao'].append('Campo DataVencimento não foi validado na tabela ControleVencimentos')\n",
    "                result['Id_ControleProcesso'].append(controleprocessos['Id_ControleProcesso'][i])\n",
    "                result['Id_ControleVencimentos'].append(int(df_aux['Id_ControleVencimentos'][i]))\n",
    "                \n",
    "            if(((df_aux['DataPrevistaFaturamento'] == controleprocessos['DataMovimento'][i]) == False).any()):\n",
    "                result['Descricao'].append('Campo DataPrevistaFaturamento não foi validado na tabela ControleVencimentos')\n",
    "                result['Id_ControleProcesso'].append(controleprocessos['Id_ControleProcesso'][i])\n",
    "                result['Id_ControleVencimentos'].append(int(df_aux['Id_ControleVencimentos'][i]))\n",
    "                \n",
    "            if(((df_aux['DataPrevistaVencimento'] == controleprocessos['VencimentoPadraoFaturar'][i]) == False).any()):\n",
    "                result['Descricao'].append('Campo DataPrevistaVencimento não foi validado na tabela ControleVencimentos')\n",
    "                result['Id_ControleProcesso'].append(controleprocessos['Id_ControleProcesso'][i])\n",
    "                result['Id_ControleVencimentos'].append(int(df_aux['Id_ControleVencimentos'][i]))\n",
    "    \n",
    "    return pd.DataFrame(result)"
   ]
  },
  {
   "cell_type": "code",
   "execution_count": 6,
   "metadata": {},
   "outputs": [],
   "source": [
    "#Leitura da base\n",
    "data = date.today()\n",
    "consulta1 = f\"\"\"\n",
    "            SELECT * FROM ControleProcessos WHERE DataMovimento > '{data}' and FlagCorte = 1\n",
    "            \"\"\"\n",
    "consulta2 = f\"\"\"\n",
    "            SELECT * FROM ControleVencimentos Where DataPrevistaCorte > '{data}'\n",
    "            \"\"\"\n",
    "controleprocessos = cdtsql.extrairDados(infoDataBases, consulta1, spark=False)\n",
    "controlevencimentos = cdtsql.extrairDados(infoDataBases, consulta2, spark=False)\n",
    "\n",
    "controleprocessos['VencimentoPadraoFaturar'] = pd.to_datetime(controleprocessos['VencimentoPadraoFaturar'], format='%d/%m/%Y').dt.strftime('%Y-%m-%d')\n",
    "controleprocessos['DataMovimento'] = controleprocessos['DataMovimento'].dt.strftime('%Y-%m-%d')\n",
    "controlevencimentos['DataPrevistaCorte'] = controlevencimentos['DataPrevistaCorte'].dt.strftime('%Y-%m-%d')\n",
    "controlevencimentos['DataVencimento'] = controlevencimentos['DataVencimento'].dt.strftime('%Y-%m-%d')\n",
    "controlevencimentos['DataPrevistaFaturamento'] = controlevencimentos['DataPrevistaFaturamento'].dt.strftime('%Y-%m-%d')\n",
    "controlevencimentos['DataPrevistaVencimento'] = controlevencimentos['DataPrevistaVencimento'].dt.strftime('%Y-%m-%d')"
   ]
  },
  {
   "cell_type": "markdown",
   "metadata": {},
   "source": [
    "# 1- Dado faltante"
   ]
  },
  {
   "cell_type": "code",
   "execution_count": 7,
   "metadata": {},
   "outputs": [],
   "source": [
    "# Removendo uma instância de controleVencimentos\n",
    "#Removendo instancia 2\n",
    "controlevencimentos.drop(2, inplace = True)"
   ]
  },
  {
   "cell_type": "code",
   "execution_count": 8,
   "metadata": {},
   "outputs": [],
   "source": [
    "resultado = teste(infoDataBases, data)"
   ]
  },
  {
   "cell_type": "code",
   "execution_count": 9,
   "metadata": {},
   "outputs": [
    {
     "data": {
      "text/html": [
       "<div>\n",
       "<style scoped>\n",
       "    .dataframe tbody tr th:only-of-type {\n",
       "        vertical-align: middle;\n",
       "    }\n",
       "\n",
       "    .dataframe tbody tr th {\n",
       "        vertical-align: top;\n",
       "    }\n",
       "\n",
       "    .dataframe thead th {\n",
       "        text-align: right;\n",
       "    }\n",
       "</style>\n",
       "<table border=\"1\" class=\"dataframe\">\n",
       "  <thead>\n",
       "    <tr style=\"text-align: right;\">\n",
       "      <th></th>\n",
       "      <th>Descricao</th>\n",
       "      <th>Id_ControleProcesso</th>\n",
       "      <th>Id_ControleVencimentos</th>\n",
       "    </tr>\n",
       "  </thead>\n",
       "  <tbody>\n",
       "    <tr>\n",
       "      <td>0</td>\n",
       "      <td>Data de Movimento Corte não foi encontrada na ...</td>\n",
       "      <td>7464</td>\n",
       "      <td>None</td>\n",
       "    </tr>\n",
       "  </tbody>\n",
       "</table>\n",
       "</div>"
      ],
      "text/plain": [
       "                                           Descricao  Id_ControleProcesso  \\\n",
       "0  Data de Movimento Corte não foi encontrada na ...                 7464   \n",
       "\n",
       "  Id_ControleVencimentos  \n",
       "0                   None  "
      ]
     },
     "execution_count": 9,
     "metadata": {},
     "output_type": "execute_result"
    }
   ],
   "source": [
    "resultado"
   ]
  },
  {
   "cell_type": "markdown",
   "metadata": {},
   "source": [
    "# 2- DataVencimento não validado"
   ]
  },
  {
   "cell_type": "code",
   "execution_count": 10,
   "metadata": {},
   "outputs": [],
   "source": [
    "controlevencimentos.loc[50,'DataVencimento'] = None"
   ]
  },
  {
   "cell_type": "code",
   "execution_count": 11,
   "metadata": {},
   "outputs": [],
   "source": [
    "resultado = teste(infoDataBases, data)"
   ]
  },
  {
   "cell_type": "code",
   "execution_count": 12,
   "metadata": {},
   "outputs": [
    {
     "data": {
      "text/html": [
       "<div>\n",
       "<style scoped>\n",
       "    .dataframe tbody tr th:only-of-type {\n",
       "        vertical-align: middle;\n",
       "    }\n",
       "\n",
       "    .dataframe tbody tr th {\n",
       "        vertical-align: top;\n",
       "    }\n",
       "\n",
       "    .dataframe thead th {\n",
       "        text-align: right;\n",
       "    }\n",
       "</style>\n",
       "<table border=\"1\" class=\"dataframe\">\n",
       "  <thead>\n",
       "    <tr style=\"text-align: right;\">\n",
       "      <th></th>\n",
       "      <th>Descricao</th>\n",
       "      <th>Id_ControleProcesso</th>\n",
       "      <th>Id_ControleVencimentos</th>\n",
       "    </tr>\n",
       "  </thead>\n",
       "  <tbody>\n",
       "    <tr>\n",
       "      <td>0</td>\n",
       "      <td>Data de Movimento Corte não foi encontrada na ...</td>\n",
       "      <td>7464</td>\n",
       "      <td>None</td>\n",
       "    </tr>\n",
       "    <tr>\n",
       "      <td>1</td>\n",
       "      <td>Campo DataVencimento não foi validado na tabel...</td>\n",
       "      <td>7709</td>\n",
       "      <td>1921</td>\n",
       "    </tr>\n",
       "  </tbody>\n",
       "</table>\n",
       "</div>"
      ],
      "text/plain": [
       "                                           Descricao  Id_ControleProcesso  \\\n",
       "0  Data de Movimento Corte não foi encontrada na ...                 7464   \n",
       "1  Campo DataVencimento não foi validado na tabel...                 7709   \n",
       "\n",
       "  Id_ControleVencimentos  \n",
       "0                   None  \n",
       "1                   1921  "
      ]
     },
     "execution_count": 12,
     "metadata": {},
     "output_type": "execute_result"
    }
   ],
   "source": [
    "resultado"
   ]
  },
  {
   "cell_type": "markdown",
   "metadata": {},
   "source": [
    "# 3- DataPrevistaFaturamento não validado"
   ]
  },
  {
   "cell_type": "code",
   "execution_count": 13,
   "metadata": {},
   "outputs": [],
   "source": [
    "controlevencimentos.loc[15,'DataPrevistaFaturamento'] = None"
   ]
  },
  {
   "cell_type": "code",
   "execution_count": 14,
   "metadata": {},
   "outputs": [],
   "source": [
    "resultado = teste(infoDataBases, data)"
   ]
  },
  {
   "cell_type": "code",
   "execution_count": 15,
   "metadata": {},
   "outputs": [
    {
     "data": {
      "text/html": [
       "<div>\n",
       "<style scoped>\n",
       "    .dataframe tbody tr th:only-of-type {\n",
       "        vertical-align: middle;\n",
       "    }\n",
       "\n",
       "    .dataframe tbody tr th {\n",
       "        vertical-align: top;\n",
       "    }\n",
       "\n",
       "    .dataframe thead th {\n",
       "        text-align: right;\n",
       "    }\n",
       "</style>\n",
       "<table border=\"1\" class=\"dataframe\">\n",
       "  <thead>\n",
       "    <tr style=\"text-align: right;\">\n",
       "      <th></th>\n",
       "      <th>Descricao</th>\n",
       "      <th>Id_ControleProcesso</th>\n",
       "      <th>Id_ControleVencimentos</th>\n",
       "    </tr>\n",
       "  </thead>\n",
       "  <tbody>\n",
       "    <tr>\n",
       "      <td>0</td>\n",
       "      <td>Data de Movimento Corte não foi encontrada na ...</td>\n",
       "      <td>7464</td>\n",
       "      <td>None</td>\n",
       "    </tr>\n",
       "    <tr>\n",
       "      <td>1</td>\n",
       "      <td>Campo DataPrevistaFaturamento não foi validado...</td>\n",
       "      <td>7532</td>\n",
       "      <td>1886</td>\n",
       "    </tr>\n",
       "    <tr>\n",
       "      <td>2</td>\n",
       "      <td>Campo DataVencimento não foi validado na tabel...</td>\n",
       "      <td>7709</td>\n",
       "      <td>1921</td>\n",
       "    </tr>\n",
       "  </tbody>\n",
       "</table>\n",
       "</div>"
      ],
      "text/plain": [
       "                                           Descricao  Id_ControleProcesso  \\\n",
       "0  Data de Movimento Corte não foi encontrada na ...                 7464   \n",
       "1  Campo DataPrevistaFaturamento não foi validado...                 7532   \n",
       "2  Campo DataVencimento não foi validado na tabel...                 7709   \n",
       "\n",
       "  Id_ControleVencimentos  \n",
       "0                   None  \n",
       "1                   1886  \n",
       "2                   1921  "
      ]
     },
     "execution_count": 15,
     "metadata": {},
     "output_type": "execute_result"
    }
   ],
   "source": [
    "resultado"
   ]
  },
  {
   "cell_type": "markdown",
   "metadata": {},
   "source": [
    "# 3- DataPrevistaVencimento não validado"
   ]
  },
  {
   "cell_type": "code",
   "execution_count": 16,
   "metadata": {},
   "outputs": [],
   "source": [
    "controlevencimentos.loc[10,'DataPrevistaVencimento'] = '1999-12-12'"
   ]
  },
  {
   "cell_type": "code",
   "execution_count": 17,
   "metadata": {},
   "outputs": [],
   "source": [
    "resultado = teste(infoDataBases, data)"
   ]
  },
  {
   "cell_type": "code",
   "execution_count": 18,
   "metadata": {},
   "outputs": [
    {
     "data": {
      "text/html": [
       "<div>\n",
       "<style scoped>\n",
       "    .dataframe tbody tr th:only-of-type {\n",
       "        vertical-align: middle;\n",
       "    }\n",
       "\n",
       "    .dataframe tbody tr th {\n",
       "        vertical-align: top;\n",
       "    }\n",
       "\n",
       "    .dataframe thead th {\n",
       "        text-align: right;\n",
       "    }\n",
       "</style>\n",
       "<table border=\"1\" class=\"dataframe\">\n",
       "  <thead>\n",
       "    <tr style=\"text-align: right;\">\n",
       "      <th></th>\n",
       "      <th>Descricao</th>\n",
       "      <th>Id_ControleProcesso</th>\n",
       "      <th>Id_ControleVencimentos</th>\n",
       "    </tr>\n",
       "  </thead>\n",
       "  <tbody>\n",
       "    <tr>\n",
       "      <td>0</td>\n",
       "      <td>Data de Movimento Corte não foi encontrada na ...</td>\n",
       "      <td>7464</td>\n",
       "      <td>None</td>\n",
       "    </tr>\n",
       "    <tr>\n",
       "      <td>1</td>\n",
       "      <td>Campo DataPrevistaVencimento não foi validado ...</td>\n",
       "      <td>7506</td>\n",
       "      <td>1881</td>\n",
       "    </tr>\n",
       "    <tr>\n",
       "      <td>2</td>\n",
       "      <td>Campo DataPrevistaFaturamento não foi validado...</td>\n",
       "      <td>7532</td>\n",
       "      <td>1886</td>\n",
       "    </tr>\n",
       "    <tr>\n",
       "      <td>3</td>\n",
       "      <td>Campo DataVencimento não foi validado na tabel...</td>\n",
       "      <td>7709</td>\n",
       "      <td>1921</td>\n",
       "    </tr>\n",
       "  </tbody>\n",
       "</table>\n",
       "</div>"
      ],
      "text/plain": [
       "                                           Descricao  Id_ControleProcesso  \\\n",
       "0  Data de Movimento Corte não foi encontrada na ...                 7464   \n",
       "1  Campo DataPrevistaVencimento não foi validado ...                 7506   \n",
       "2  Campo DataPrevistaFaturamento não foi validado...                 7532   \n",
       "3  Campo DataVencimento não foi validado na tabel...                 7709   \n",
       "\n",
       "  Id_ControleVencimentos  \n",
       "0                   None  \n",
       "1                   1881  \n",
       "2                   1886  \n",
       "3                   1921  "
      ]
     },
     "execution_count": 18,
     "metadata": {},
     "output_type": "execute_result"
    }
   ],
   "source": [
    "resultado"
   ]
  },
  {
   "cell_type": "markdown",
   "metadata": {},
   "source": [
    "# Mais alguns testes"
   ]
  },
  {
   "cell_type": "code",
   "execution_count": 19,
   "metadata": {},
   "outputs": [],
   "source": [
    "controlevencimentos.loc[57,'DataPrevistaVencimento'] = '191-12-12'"
   ]
  },
  {
   "cell_type": "code",
   "execution_count": 20,
   "metadata": {},
   "outputs": [],
   "source": [
    "controlevencimentos.loc[10,'DataPrevistaFaturamento'] = '1999-12-12'"
   ]
  },
  {
   "cell_type": "code",
   "execution_count": 21,
   "metadata": {},
   "outputs": [],
   "source": [
    "controleprocessos.loc[10,'DataMovimento'] = '1111-10-10'"
   ]
  },
  {
   "cell_type": "code",
   "execution_count": 22,
   "metadata": {},
   "outputs": [],
   "source": [
    "resultado = teste(infoDataBases, data)"
   ]
  },
  {
   "cell_type": "code",
   "execution_count": 23,
   "metadata": {},
   "outputs": [
    {
     "data": {
      "text/html": [
       "<div>\n",
       "<style scoped>\n",
       "    .dataframe tbody tr th:only-of-type {\n",
       "        vertical-align: middle;\n",
       "    }\n",
       "\n",
       "    .dataframe tbody tr th {\n",
       "        vertical-align: top;\n",
       "    }\n",
       "\n",
       "    .dataframe thead th {\n",
       "        text-align: right;\n",
       "    }\n",
       "</style>\n",
       "<table border=\"1\" class=\"dataframe\">\n",
       "  <thead>\n",
       "    <tr style=\"text-align: right;\">\n",
       "      <th></th>\n",
       "      <th>Descricao</th>\n",
       "      <th>Id_ControleProcesso</th>\n",
       "      <th>Id_ControleVencimentos</th>\n",
       "    </tr>\n",
       "  </thead>\n",
       "  <tbody>\n",
       "    <tr>\n",
       "      <td>0</td>\n",
       "      <td>Data de Movimento Corte não foi encontrada na ...</td>\n",
       "      <td>7464</td>\n",
       "      <td>None</td>\n",
       "    </tr>\n",
       "    <tr>\n",
       "      <td>1</td>\n",
       "      <td>Data de Movimento Corte não foi encontrada na ...</td>\n",
       "      <td>7506</td>\n",
       "      <td>None</td>\n",
       "    </tr>\n",
       "    <tr>\n",
       "      <td>2</td>\n",
       "      <td>Campo DataPrevistaFaturamento não foi validado...</td>\n",
       "      <td>7532</td>\n",
       "      <td>1886</td>\n",
       "    </tr>\n",
       "    <tr>\n",
       "      <td>3</td>\n",
       "      <td>Campo DataVencimento não foi validado na tabel...</td>\n",
       "      <td>7709</td>\n",
       "      <td>1921</td>\n",
       "    </tr>\n",
       "    <tr>\n",
       "      <td>4</td>\n",
       "      <td>Campo DataPrevistaVencimento não foi validado ...</td>\n",
       "      <td>7744</td>\n",
       "      <td>1928</td>\n",
       "    </tr>\n",
       "  </tbody>\n",
       "</table>\n",
       "</div>"
      ],
      "text/plain": [
       "                                           Descricao  Id_ControleProcesso  \\\n",
       "0  Data de Movimento Corte não foi encontrada na ...                 7464   \n",
       "1  Data de Movimento Corte não foi encontrada na ...                 7506   \n",
       "2  Campo DataPrevistaFaturamento não foi validado...                 7532   \n",
       "3  Campo DataVencimento não foi validado na tabel...                 7709   \n",
       "4  Campo DataPrevistaVencimento não foi validado ...                 7744   \n",
       "\n",
       "  Id_ControleVencimentos  \n",
       "0                   None  \n",
       "1                   None  \n",
       "2                   1886  \n",
       "3                   1921  \n",
       "4                   1928  "
      ]
     },
     "execution_count": 23,
     "metadata": {},
     "output_type": "execute_result"
    }
   ],
   "source": [
    "resultado"
   ]
  }
 ],
 "metadata": {
  "kernelspec": {
   "display_name": "Python 3",
   "language": "python",
   "name": "python3"
  },
  "language_info": {
   "codemirror_mode": {
    "name": "ipython",
    "version": 3
   },
   "file_extension": ".py",
   "mimetype": "text/x-python",
   "name": "python",
   "nbconvert_exporter": "python",
   "pygments_lexer": "ipython3",
   "version": "3.7.6"
  }
 },
 "nbformat": 4,
 "nbformat_minor": 4
}
