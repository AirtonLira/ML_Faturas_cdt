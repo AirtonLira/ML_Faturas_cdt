{
 "cells": [
  {
   "cell_type": "code",
   "execution_count": 561,
   "metadata": {},
   "outputs": [],
   "source": [
    "import pandas as pd\n",
    "import numpy as np\n",
    "import import_ipynb\n",
    "import utils_cdt as cdt\n",
    "from matplotlib import pyplot as plt\n",
    "from datetime import datetime\n",
    "from datetime import date"
   ]
  },
  {
   "cell_type": "code",
   "execution_count": 562,
   "metadata": {},
   "outputs": [],
   "source": [
    "infoDataBases = {\"ip\":\"\",\n",
    "                 \"base\":\"\"}"
   ]
  },
  {
   "cell_type": "code",
   "execution_count": 563,
   "metadata": {},
   "outputs": [],
   "source": [
    "consulta = cdt.resultQuery(\"mdl_parcelamento_fatura.sql\")\n",
    "df = cdt.extrairDados(infoDataBases,consulta,arquivo=\"mdl_parcelamento_faturas.csv\",spark=False,objSpark=None)"
   ]
  },
  {
   "cell_type": "code",
   "execution_count": 564,
   "metadata": {},
   "outputs": [],
   "source": [
    "df['dtvencimento'] = pd.to_datetime(df.DtFormat, format=\"%Y-%m-%d\")\n",
    "\n",
    "#Somente os vencimentos de dia 20\n",
    "#df = df.loc[df.dtvencimento.dt.day == 20]"
   ]
  },
  {
   "cell_type": "code",
   "execution_count": 565,
   "metadata": {},
   "outputs": [],
   "source": [
    "SQL_Query_2 = df\n",
    "# Definindo as classes\n",
    "servicostipo = {\"Parcelamento\" : 1, \"Parcelamento Rotativo\" : 0, \"Semoferta\": 2}\n",
    "\n",
    "# Aplicando o mapeamento ao dataset\n",
    "SQL_Query_2['tiposervico'] = SQL_Query_2['tiposervico'].map(servicostipo)"
   ]
  },
  {
   "cell_type": "code",
   "execution_count": 566,
   "metadata": {},
   "outputs": [],
   "source": [
    "def preProcessamento(dataframe):\n",
    "    \n",
    "    preditorasruins = ['NumeroDocumento','CotacaoDolarCorte', 'PontosConcedidos', 'PontosRemanescentes',\n",
    "       'CETAnual', 'LimiteSaqueNacGlobal', 'NaoFinanciavelExtrato',\n",
    "       'StatusEnvioFaturaPorEmail', 'LimiteMaximo', 'LimiteGlobalCredito',\n",
    "       'NaoFinanciavelAnteriorFinal', 'PontuacaoUsadaCiclo',\n",
    "       'PrincipalParcelado', 'PontuacaoTotalCiclo', 'JurosMora',\n",
    "       'FlagPagamento', 'QuantidadePortadores', 'Vencimento3', 'Vencimento2',\n",
    "       'BaseMultaCobrada', 'AniversarioAnuidade2', 'AniversarioAnuidade1',\n",
    "       'FlagEmiteExtrato', 'FlagAnuidade', 'FlagRefinanciamento', 'FlagMulta',\n",
    "       'NaoFinanciavelAtualFinal', 'QtdeVencimento','CETMensal', 'FlagSMSExtratoIncondicional',\n",
    "       'SaldoExtratoAnteriorAjustado', 'InternacionaisDolarExtrato',\n",
    "       'InternacionaisReaisExtrato', 'DebitosInternacionais',\n",
    "       'DebitosDiversosNacionais', 'ComprasInternacionaisDolar',\n",
    "       'SaquesInternacionaisDolar', 'DiversosInternacionaisDolar',\n",
    "       'CorrecaoCreditoMinimo', 'CreditoPagamentoMinimo',\n",
    "       'DespesasInternacionaisDolar', 'DespesasInternacionaisReais',\n",
    "       'SaquesNacionais', 'EncargosAtraso', 'TerminoPeriodoFaturado','FlagOverLimit']\n",
    "                              \n",
    "    # Removendo colunas não utilizadas\n",
    "    dataframe = dataframe.drop(columns=preditorasruins)\n",
    "\n",
    "\n",
    "    # Remove colunas que contem ID\n",
    "    cols_id = [c for c in dataframe.columns if c.lower()[:2] == 'id']\n",
    "\n",
    "    dataframe = dataframe.drop(columns=cols_id)\n",
    "\n",
    "    # Removendo colunas do time data\n",
    "    dataframe = dataframe.drop(columns=dataframe.select_dtypes(include=['datetime64','O']).columns.to_list())\n",
    "\n",
    "    # Criando algumas features\n",
    "    dataframe['md_sl_enc'] = dataframe['SaldoAnteriorFinal'] / dataframe['EncargosFinanciamento']\n",
    "    dataframe['md_tn_cn'] = dataframe['TarifasNacionais'] / dataframe['CreditosNacionais']\n",
    "\n",
    "    # Ajutando valores para arrendodamente de 2 casas decimais e reitrada de valores Nan\n",
    "    dataframe = dataframe.replace([np.inf, -np.inf], np.nan)\n",
    "    dataframe = dataframe.fillna(0)\n",
    "    dataframe = dataframe.round(2)\n",
    "    dataframe = dataframe.abs()\n",
    "    \n",
    "    from category_encoders.ordinal import OrdinalEncoder\n",
    "    encoder = OrdinalEncoder(cols=['NumeroCiclo','Status'])\n",
    "    dataframe = encoder.fit_transform(dataframe)\n",
    "    \n",
    "    return dataframe"
   ]
  },
  {
   "cell_type": "code",
   "execution_count": 567,
   "metadata": {},
   "outputs": [],
   "source": [
    "SQL_Query_2 = preProcessamento(SQL_Query_2)"
   ]
  },
  {
   "cell_type": "code",
   "execution_count": 568,
   "metadata": {},
   "outputs": [],
   "source": [
    "#SQL_Query_2[SQL_Query_2.columns[1:]].corr()['tiposervico'][:]"
   ]
  },
  {
   "cell_type": "code",
   "execution_count": 569,
   "metadata": {},
   "outputs": [
    {
     "name": "stdout",
     "output_type": "stream",
     "text": [
      "Número de Casos de Parcelamentos: 10000 (68.67%)\n",
      "Número de Casos de Rotativos     : 2120 (14.56%)\n",
      "Número de Casos de Sem Oferta     : 2443 (16.78%)\n"
     ]
    }
   ],
   "source": [
    "# Verificando como os dados estão distribuídos\n",
    "parcelamentos = len(SQL_Query_2.loc[SQL_Query_2['tiposervico'] == 1])\n",
    "rotativos = len(SQL_Query_2.loc[SQL_Query_2['tiposervico'] == 0])\n",
    "semoferta = len(SQL_Query_2.loc[SQL_Query_2['tiposervico'] == 2])\n",
    "print(\"Número de Casos de Parcelamentos: {0} ({1:2.2f}%)\".format(parcelamentos, (parcelamentos/ (parcelamentos + rotativos + semoferta)) * 100))\n",
    "print(\"Número de Casos de Rotativos     : {0} ({1:2.2f}%)\".format(rotativos, (rotativos/ (parcelamentos + rotativos + semoferta)) * 100))\n",
    "print(\"Número de Casos de Sem Oferta     : {0} ({1:2.2f}%)\".format(semoferta, (semoferta/ (parcelamentos + rotativos + semoferta)) * 100))"
   ]
  },
  {
   "cell_type": "code",
   "execution_count": 570,
   "metadata": {},
   "outputs": [],
   "source": [
    "from sklearn.model_selection import train_test_split"
   ]
  },
  {
   "cell_type": "code",
   "execution_count": 571,
   "metadata": {},
   "outputs": [],
   "source": [
    "# Seleção de variáveis preditoras (Feature Selection)\n",
    "atributos = SQL_Query_2.columns.to_list()\n",
    "atributos.remove('tiposervico')"
   ]
  },
  {
   "cell_type": "code",
   "execution_count": 572,
   "metadata": {},
   "outputs": [],
   "source": [
    "# Variável a ser prevista\n",
    "atrib_prev = ['tiposervico']"
   ]
  },
  {
   "cell_type": "code",
   "execution_count": 573,
   "metadata": {},
   "outputs": [],
   "source": [
    "# Criando objetos\n",
    "X = SQL_Query_2[atributos].values\n",
    "Y = SQL_Query_2[atrib_prev].values"
   ]
  },
  {
   "cell_type": "code",
   "execution_count": 574,
   "metadata": {},
   "outputs": [
    {
     "name": "stdout",
     "output_type": "stream",
     "text": [
      "Y unicos: [0. 1. 2.] \n"
     ]
    }
   ],
   "source": [
    "print(f\"Y unicos: {np.unique(Y)} \")"
   ]
  },
  {
   "cell_type": "code",
   "execution_count": 575,
   "metadata": {},
   "outputs": [],
   "source": [
    "# Definindo a taxa de split\n",
    "split_test_size = 0.30"
   ]
  },
  {
   "cell_type": "code",
   "execution_count": 576,
   "metadata": {},
   "outputs": [],
   "source": [
    "# Criando dados de treino e de teste\n",
    "X_treino, X_teste, Y_treino, Y_teste = train_test_split(X, Y, test_size = split_test_size, random_state = 42)"
   ]
  },
  {
   "cell_type": "code",
   "execution_count": 577,
   "metadata": {},
   "outputs": [
    {
     "name": "stdout",
     "output_type": "stream",
     "text": [
      "X_treino shape: (10194, 31) \n",
      "X_teste shape: (4369, 31) \n"
     ]
    }
   ],
   "source": [
    "print(f\"X_treino shape: {X_treino.shape} \\nX_teste shape: {X_teste.shape} \")"
   ]
  },
  {
   "cell_type": "code",
   "execution_count": 578,
   "metadata": {},
   "outputs": [
    {
     "name": "stdout",
     "output_type": "stream",
     "text": [
      "70.00% nos dados de treino\n",
      "30.00% nos dados de teste\n"
     ]
    }
   ],
   "source": [
    "# Imprimindo os resultados\n",
    "print(\"{0:0.2f}% nos dados de treino\".format((len(X_treino)/len(SQL_Query_2.index)) * 100))\n",
    "print(\"{0:0.2f}% nos dados de teste\".format((len(X_teste)/len(SQL_Query_2.index)) * 100))"
   ]
  },
  {
   "cell_type": "code",
   "execution_count": 579,
   "metadata": {},
   "outputs": [
    {
     "name": "stdout",
     "output_type": "stream",
     "text": [
      "Y_treino unicos: [0. 1. 2.] \n",
      "Y_teste unicos: [0. 1. 2.] \n"
     ]
    }
   ],
   "source": [
    "print(f\"Y_treino unicos: {np.unique(Y_treino)} \")\n",
    "print(f\"Y_teste unicos: {np.unique(Y_teste)} \")"
   ]
  },
  {
   "cell_type": "code",
   "execution_count": 580,
   "metadata": {},
   "outputs": [],
   "source": [
    "from sklearn.ensemble import RandomForestClassifier\n",
    "from sklearn import metrics"
   ]
  },
  {
   "cell_type": "code",
   "execution_count": 581,
   "metadata": {},
   "outputs": [
    {
     "name": "stdout",
     "output_type": "stream",
     "text": [
      "{'bootstrap': [True, False],\n",
      " 'max_depth': [10, 20, 30, 40, 50, 60, 70, 80, 90, 100, 110, None],\n",
      " 'max_features': ['auto', 'sqrt'],\n",
      " 'min_samples_leaf': [1, 2, 4],\n",
      " 'min_samples_split': [2, 5, 10],\n",
      " 'n_estimators': [200, 400, 600, 800, 1000, 1200, 1400, 1600, 1800, 2000]}\n"
     ]
    }
   ],
   "source": [
    "from sklearn.model_selection import RandomizedSearchCV\n",
    "from pprint import pprint\n",
    "# Number of trees in random forest\n",
    "n_estimators = [int(x) for x in np.linspace(start = 200, stop = 2000, num = 10)]\n",
    "# Number of features to consider at every split\n",
    "max_features = ['auto', 'sqrt']\n",
    "# Maximum number of levels in tree\n",
    "max_depth = [int(x) for x in np.linspace(10, 110, num = 11)]\n",
    "max_depth.append(None)\n",
    "# Minimum number of samples required to split a node\n",
    "min_samples_split = [2, 5, 10]\n",
    "# Minimum number of samples required at each leaf node\n",
    "min_samples_leaf = [1, 2, 4]\n",
    "# Method of selecting samples for training each tree\n",
    "bootstrap = [True, False]\n",
    "# Create the random grid\n",
    "random_grid = {'n_estimators': n_estimators,\n",
    "               'max_features': max_features,\n",
    "               'max_depth': max_depth,\n",
    "               'min_samples_split': min_samples_split,\n",
    "               'min_samples_leaf': min_samples_leaf,\n",
    "               'bootstrap': bootstrap}\n",
    "pprint(random_grid)"
   ]
  },
  {
   "cell_type": "code",
   "execution_count": 582,
   "metadata": {},
   "outputs": [
    {
     "data": {
      "text/plain": [
       "'\\n# Use the random grid to search for best hyperparameters\\n# First create the base model to tune\\nrf = RandomForestClassifier()\\n# Random search of parameters, using 3 fold cross validation, \\n# search across 100 different combinations, and use all available cores\\nrf_random = RandomizedSearchCV(estimator = rf, param_distributions = random_grid, n_iter = 5, cv = 3, verbose=2, random_state=42, n_jobs = -1)\\n# Fit the random search model\\nrf_random.fit(X_treino, Y_treino.ravel())\\n'"
      ]
     },
     "execution_count": 582,
     "metadata": {},
     "output_type": "execute_result"
    }
   ],
   "source": [
    "\"\"\"\n",
    "# Use the random grid to search for best hyperparameters\n",
    "# First create the base model to tune\n",
    "rf = RandomForestClassifier()\n",
    "# Random search of parameters, using 3 fold cross validation, \n",
    "# search across 100 different combinations, and use all available cores\n",
    "rf_random = RandomizedSearchCV(estimator = rf, param_distributions = random_grid, n_iter = 5, cv = 3, verbose=2, random_state=42, n_jobs = -1)\n",
    "# Fit the random search model\n",
    "rf_random.fit(X_treino, Y_treino.ravel())\n",
    "\"\"\""
   ]
  },
  {
   "cell_type": "code",
   "execution_count": 583,
   "metadata": {},
   "outputs": [],
   "source": [
    "#rf_random.best_params_ "
   ]
  },
  {
   "cell_type": "code",
   "execution_count": 584,
   "metadata": {},
   "outputs": [
    {
     "data": {
      "text/plain": [
       "RandomForestClassifier(bootstrap=True, ccp_alpha=0.0, class_weight=None,\n",
       "                       criterion='gini', max_depth=50, max_features='auto',\n",
       "                       max_leaf_nodes=None, max_samples=None,\n",
       "                       min_impurity_decrease=0.0, min_impurity_split=None,\n",
       "                       min_samples_leaf=2, min_samples_split=10,\n",
       "                       min_weight_fraction_leaf=0.0, n_estimators=200,\n",
       "                       n_jobs=-1, oob_score=False, random_state=42, verbose=0,\n",
       "                       warm_start=False)"
      ]
     },
     "execution_count": 584,
     "metadata": {},
     "output_type": "execute_result"
    }
   ],
   "source": [
    "#modelo_v2 = RandomForestClassifier(random_state = 42, n_jobs = -1, n_estimators=600,min_samples_leaf=4,min_samples_split=10,max_depth=90,bootstrap=False, max_features='sqrt')\n",
    "#modelo_v2.fit(X_treino, Y_treino.ravel())\n",
    "\n",
    "modelo_v2 = RandomForestClassifier(random_state = 42, n_jobs = -1,n_estimators=200, min_samples_split=10,min_samples_leaf=2, max_depth=50, bootstrap = True)\n",
    "modelo_v2.fit(X_treino, Y_treino.ravel())"
   ]
  },
  {
   "cell_type": "code",
   "execution_count": 585,
   "metadata": {},
   "outputs": [
    {
     "data": {
      "text/plain": [
       "Text(0.5, 1.0, 'Importância de cada feature')"
      ]
     },
     "execution_count": 585,
     "metadata": {},
     "output_type": "execute_result"
    },
    {
     "data": {
      "image/png": "[encoded data removed]",
      "text/plain": [
       "<Figure size 1490.4x2899.44 with 1 Axes>"
      ]
     },
     "metadata": {},
     "output_type": "display_data"
    }
   ],
   "source": [
    "#Plota gráfico com as features mais importantes em ordem crescente\n",
    "\n",
    "import seaborn as sns\n",
    "importances = pd.Series(data=modelo_v2.feature_importances_, index=atributos)\n",
    "importances = importances.sort_values()\n",
    "sns.set(rc={'figure.figsize':(20.7,40.27)})\n",
    "sns.barplot(x=importances, y=importances.index, orient='h').set_title('Importância de cada feature')"
   ]
  },
  {
   "cell_type": "code",
   "execution_count": 586,
   "metadata": {},
   "outputs": [
    {
     "data": {
      "text/plain": [
       "Index([], dtype='object', name='feature')"
      ]
     },
     "execution_count": 586,
     "metadata": {},
     "output_type": "execute_result"
    }
   ],
   "source": [
    "importances = pd.DataFrame({'feature':atributos,'importance':np.round(modelo_v2.feature_importances_,3)})\n",
    "importances = importances.sort_values('importance',ascending=False).set_index('feature')\n",
    "importances.loc[importances.importance <= 0].index"
   ]
  },
  {
   "cell_type": "code",
   "execution_count": 587,
   "metadata": {},
   "outputs": [
    {
     "name": "stdout",
     "output_type": "stream",
     "text": [
      "RandomForestClassifer:\n",
      "Exatidão (Accuracy): 0.9691\n"
     ]
    }
   ],
   "source": [
    "# Verificando os dados de treino\n",
    "rf_predict_train = modelo_v2.predict(X_treino)\n",
    "print(\"RandomForestClassifer:\")\n",
    "print(\"Exatidão (Accuracy): {0:.4f}\".format(metrics.accuracy_score(Y_treino, rf_predict_train)))"
   ]
  },
  {
   "cell_type": "code",
   "execution_count": 588,
   "metadata": {},
   "outputs": [
    {
     "name": "stdout",
     "output_type": "stream",
     "text": [
      "RandomForestClassifer - Teste:\n",
      "Exatidão (Accuracy): 0.9350\n",
      "\n"
     ]
    }
   ],
   "source": [
    "# Verificando nos dados de teste\n",
    "rf_predict_test = modelo_v2.predict(X_teste)\n",
    "print(\"RandomForestClassifer - Teste:\")\n",
    "print(\"Exatidão (Accuracy): {0:.4f}\".format(metrics.accuracy_score(Y_teste, rf_predict_test)))\n",
    "print()"
   ]
  },
  {
   "cell_type": "code",
   "execution_count": 589,
   "metadata": {},
   "outputs": [],
   "source": [
    "parce_sistema = len([x for x in Y_teste if x == 1])\n",
    "rotat_sistema = len([x for x in Y_teste if x == 0])\n",
    "semoferta_sistema = len([x for x in Y_teste if x == 2])\n",
    "\n",
    "parce_previs = len([x for x in rf_predict_test if x == 1])\n",
    "rotat_previs = len([x for x in rf_predict_test if x == 0])\n",
    "semoferta_previs = len([x for x in rf_predict_test if x == 2])"
   ]
  },
  {
   "cell_type": "code",
   "execution_count": 590,
   "metadata": {},
   "outputs": [
    {
     "name": "stdout",
     "output_type": "stream",
     "text": [
      "Total de parcelamentos previsto pelo modelo:\n",
      "Número de Casos de Parcelamentos: 3120 (71.41%)\n",
      "Número de Casos de Rotativos     : 664 (15.20%)\n",
      "Número de Casos sem Oferta     : 585 (13.39%)\n",
      "Total geral :  4369\n",
      "\n",
      "Total de parcelamentos ofertados pelo sistema do ultimo corte:\n",
      "Número de Casos de Parcelamentos: 3031 (69.38%)\n",
      "Número de Casos de Rotativos     : 646 (14.79%)\n",
      "Número de Casos de sem oferta     : 692 (14.79%)\n",
      "Total geral : 4369 \n",
      "\n",
      "Diferença entre ofertado pelo sistema x previsto pelo modelo:\n",
      "Diferença em Parcelamentos: (2.94%)\n",
      "Diferença em Rotativos     : (2.79%)\n",
      "Diferença em Sem ofertas     : (-15.46%)\n",
      "\n",
      "Total de ofertas: 4369\n"
     ]
    }
   ],
   "source": [
    "print(\"Total de parcelamentos previsto pelo modelo:\")\n",
    "print(\"Número de Casos de Parcelamentos: {0} ({1:2.2f}%)\".format(parce_previs, (parce_previs/ (parce_previs + rotat_previs + semoferta_previs)) * 100))\n",
    "print(\"Número de Casos de Rotativos     : {0} ({1:2.2f}%)\".format(rotat_previs, (rotat_previs/ (parce_previs + rotat_previs + semoferta_previs)) * 100))\n",
    "print(\"Número de Casos sem Oferta     : {0} ({1:2.2f}%)\".format(semoferta_previs, (semoferta_previs/ (parce_previs + rotat_previs + semoferta_previs)) * 100))\n",
    "print(\"Total geral :  {0}\".format(parce_previs + rotat_previs + semoferta_previs))\n",
    "\n",
    "print(\"\")\n",
    "\n",
    "print(\"Total de parcelamentos ofertados pelo sistema do ultimo corte:\")\n",
    "print(\"Número de Casos de Parcelamentos: {0} ({1:2.2f}%)\".format(parce_sistema, (parce_sistema/ (parce_sistema + rotat_sistema + semoferta_sistema)) * 100))\n",
    "print(\"Número de Casos de Rotativos     : {0} ({1:2.2f}%)\".format(rotat_sistema, (rotat_sistema/ (parce_sistema + rotat_sistema + semoferta_sistema)) * 100))\n",
    "print(\"Número de Casos de sem oferta     : {0} ({1:2.2f}%)\".format(semoferta_sistema, (rotat_sistema/ (parce_sistema + rotat_sistema + semoferta_sistema)) * 100))\n",
    "print(\"Total geral : {0} \".format(parce_sistema + rotat_sistema + semoferta_sistema))\n",
    "\n",
    "\n",
    "print(\"\")\n",
    "\n",
    "print(\"Diferença entre ofertado pelo sistema x previsto pelo modelo:\")\n",
    "print(\"Diferença em Parcelamentos: ({0:2.2f}%)\".format((parce_previs/parce_sistema)*100-100))\n",
    "print(\"Diferença em Rotativos     : ({0:2.2f}%)\".format((rotat_previs/rotat_sistema)*100-100))\n",
    "print(\"Diferença em Sem ofertas     : ({0:2.2f}%)\".format((semoferta_previs/semoferta_sistema)*100-100))\n",
    "\n",
    "print(\"\")\n",
    "\n",
    "\n",
    "print(\"Total de ofertas: {0}\".format(parce_sistema + rotat_sistema + semoferta_sistema))"
   ]
  },
  {
   "cell_type": "code",
   "execution_count": 591,
   "metadata": {},
   "outputs": [
    {
     "name": "stdout",
     "output_type": "stream",
     "text": [
      "                       precision    recall  f1-score   support\n",
      "\n",
      "         Parcelamento       0.92      0.95      0.94       646\n",
      "Parcelamento Rotativo       0.94      0.97      0.96      3031\n",
      "            Semoferta       0.91      0.77      0.84       692\n",
      "\n",
      "             accuracy                           0.93      4369\n",
      "            macro avg       0.93      0.90      0.91      4369\n",
      "         weighted avg       0.93      0.93      0.93      4369\n",
      "\n"
     ]
    }
   ],
   "source": [
    "from sklearn.metrics import classification_report\n",
    "print(classification_report(Y_teste, rf_predict_test, target_names=['Parcelamento','Parcelamento Rotativo','Semoferta']))"
   ]
  },
  {
   "cell_type": "markdown",
   "metadata": {},
   "source": [
    "## Aplicando a validação do ultimo corte para o modelo e comparando quantidade de ofertas lançadas pelo sistema x Ofertas prevista pelo modelo"
   ]
  },
  {
   "cell_type": "code",
   "execution_count": 592,
   "metadata": {},
   "outputs": [],
   "source": [
    "consulta = cdt.resultQuery(\"parcelamento_fatura.sql\")"
   ]
  },
  {
   "cell_type": "code",
   "execution_count": 593,
   "metadata": {},
   "outputs": [],
   "source": [
    "dfanalise = cdt.extrairDados(infoDataBases,consulta,arquivo=\"parcelamento_fatura.csv\",spark=False,objSpark=None)"
   ]
  },
  {
   "cell_type": "code",
   "execution_count": 594,
   "metadata": {},
   "outputs": [],
   "source": [
    "SQL_Query = dfanalise\n",
    "# Definindo as classes\n",
    "servicostipo = {\"Parcelamento\" : 1, \"Parcelamento Rotativo\" : 0, \"Semoferta\": 2}\n",
    "\n",
    "# Aplicando o mapeamento ao dataset\n",
    "SQL_Query['tiposervico'] = SQL_Query['tiposervico'].map(servicostipo)"
   ]
  },
  {
   "cell_type": "code",
   "execution_count": 595,
   "metadata": {},
   "outputs": [],
   "source": [
    "SQL_Query = preProcessamento(SQL_Query)"
   ]
  },
  {
   "cell_type": "code",
   "execution_count": 596,
   "metadata": {},
   "outputs": [],
   "source": [
    "# Criando objetos\n",
    "# Seleção de variáveis preditoras (Feature Selection)\n",
    "valores = SQL_Query[atributos].values"
   ]
  },
  {
   "cell_type": "code",
   "execution_count": 597,
   "metadata": {},
   "outputs": [
    {
     "name": "stdout",
     "output_type": "stream",
     "text": [
      "Total de parcelamentos ofertados pelo sistema do ultimo corte:\n",
      "Número de Casos de Parcelamentos: 19968 (81.44%)\n",
      "Número de Casos de Rotativos     : 1975 (8.05%)\n",
      "Número de Casos de sem oferta     : 2577 (8.05%)\n",
      "Total de casos de ofertas: 24520\n"
     ]
    }
   ],
   "source": [
    "# Verificando como os dados estão distribuídos\n",
    "parce_sistema = len(SQL_Query.loc[SQL_Query['tiposervico'] == 1])\n",
    "rotat_sistema = len(SQL_Query.loc[SQL_Query['tiposervico'] == 0])\n",
    "semoferta_sistema = len(SQL_Query.loc[SQL_Query['tiposervico'] == 2])\n",
    "print(\"Total de parcelamentos ofertados pelo sistema do ultimo corte:\")\n",
    "print(\"Número de Casos de Parcelamentos: {0} ({1:2.2f}%)\".format(parce_sistema, (parce_sistema/ (parce_sistema + rotat_sistema + semoferta_sistema)) * 100))\n",
    "print(\"Número de Casos de Rotativos     : {0} ({1:2.2f}%)\".format(rotat_sistema, (rotat_sistema/ (parce_sistema + rotat_sistema + semoferta_sistema)) * 100))\n",
    "print(\"Número de Casos de sem oferta     : {0} ({1:2.2f}%)\".format(semoferta_sistema, (rotat_sistema/ (parce_sistema + rotat_sistema + semoferta_sistema)) * 100))\n",
    "print(\"Total de casos de ofertas: {0}\".format(parce_sistema+rotat_sistema+semoferta_sistema))"
   ]
  },
  {
   "cell_type": "code",
   "execution_count": 598,
   "metadata": {},
   "outputs": [],
   "source": [
    "#Realizando previsão das ofertas com base nos dados do utimo corte.\n",
    "result_model = modelo_v2.predict(valores)"
   ]
  },
  {
   "cell_type": "code",
   "execution_count": 599,
   "metadata": {},
   "outputs": [
    {
     "name": "stdout",
     "output_type": "stream",
     "text": [
      "RandomForestClassifer - Teste:\n",
      "Exatidão (Accuracy): 0.9244\n",
      "\n"
     ]
    }
   ],
   "source": [
    "# Criando objetos\n",
    "X = SQL_Query[atributos].values\n",
    "Y = SQL_Query[atrib_prev].values\n",
    "\n",
    "\n",
    "# Verificando os dados\n",
    "rf_predict_test = modelo_v2.predict(X)\n",
    "print(\"RandomForestClassifer - Teste:\")\n",
    "print(\"Exatidão (Accuracy): {0:.4f}\".format(metrics.accuracy_score(Y, rf_predict_test)))\n",
    "print()"
   ]
  },
  {
   "cell_type": "code",
   "execution_count": 600,
   "metadata": {},
   "outputs": [
    {
     "name": "stdout",
     "output_type": "stream",
     "text": [
      "Total de parcelamentos previsto pelo modelo com base nos dados do ultimo corte:\n",
      "Número de Casos de Parcelamentos: 20649 (84.21%)\n",
      "Número de Casos de Rotativos     : 1712 (6.98%)\n",
      "Número de Casos sem Oferta     : 2159 (6.98%)\n",
      "Total geral :  24520\n",
      "\n",
      "Total de parcelamentos ofertados pelo sistema do ultimo corte:\n",
      "Número de Casos de Parcelamentos: 19968 (81.44%)\n",
      "Número de Casos de Rotativos     : 1975 (8.05%)\n",
      "Número de Casos de sem oferta     : 2577 (8.05%)\n",
      "Total geral : 24520 \n",
      "\n",
      "Diferença entre ofertado pelo sistema x previsto pelo modelo:\n",
      "Diferença em Parcelamentos: (3.41%)\n",
      "Diferença em Rotativos     : (-13.32%)\n",
      "Diferença em Sem ofertas     : (-16.22%)\n",
      "\n",
      "Total de ofertas: 24520\n"
     ]
    }
   ],
   "source": [
    "# Verificando como os dados estão distribuídos\n",
    "parcelamentos = len([x for x in result_model if x == 1])\n",
    "rotativos = len([x for x in result_model if x == 0])\n",
    "noofertas = len([x for x in result_model if x == 2])\n",
    "print(\"Total de parcelamentos previsto pelo modelo com base nos dados do ultimo corte:\")\n",
    "print(\"Número de Casos de Parcelamentos: {0} ({1:2.2f}%)\".format(parcelamentos, (parcelamentos/ (parcelamentos + rotativos + noofertas)) * 100))\n",
    "print(\"Número de Casos de Rotativos     : {0} ({1:2.2f}%)\".format(rotativos, (rotativos/ (parcelamentos + rotativos + noofertas)) * 100))\n",
    "print(\"Número de Casos sem Oferta     : {0} ({1:2.2f}%)\".format(noofertas, (rotativos/ (parcelamentos + rotativos + noofertas)) * 100))\n",
    "print(\"Total geral :  {0}\".format(parcelamentos + rotativos + noofertas))\n",
    "\n",
    "print(\"\")\n",
    "\n",
    "print(\"Total de parcelamentos ofertados pelo sistema do ultimo corte:\")\n",
    "print(\"Número de Casos de Parcelamentos: {0} ({1:2.2f}%)\".format(parce_sistema, (parce_sistema/ (parce_sistema + rotat_sistema + semoferta_sistema)) * 100))\n",
    "print(\"Número de Casos de Rotativos     : {0} ({1:2.2f}%)\".format(rotat_sistema, (rotat_sistema/ (parce_sistema + rotat_sistema + semoferta_sistema)) * 100))\n",
    "print(\"Número de Casos de sem oferta     : {0} ({1:2.2f}%)\".format(semoferta_sistema, (rotat_sistema/ (parce_sistema + rotat_sistema + semoferta_sistema)) * 100))\n",
    "print(\"Total geral : {0} \".format(parce_sistema + rotat_sistema + semoferta_sistema))\n",
    "\n",
    "\n",
    "print(\"\")\n",
    "\n",
    "print(\"Diferença entre ofertado pelo sistema x previsto pelo modelo:\")\n",
    "print(\"Diferença em Parcelamentos: ({0:2.2f}%)\".format((parcelamentos/parce_sistema)*100-100))\n",
    "print(\"Diferença em Rotativos     : ({0:2.2f}%)\".format((rotativos/rotat_sistema)*100-100))\n",
    "print(\"Diferença em Sem ofertas     : ({0:2.2f}%)\".format((noofertas/semoferta_sistema)*100-100))\n",
    "\n",
    "print(\"\")\n",
    "\n",
    "\n",
    "print(\"Total de ofertas: {0}\".format(parce_sistema + rotat_sistema + semoferta_sistema))"
   ]
  }
 ],
 "metadata": {
  "kernelspec": {
   "display_name": "Python 3",
   "language": "python",
   "name": "python3"
  },
  "language_info": {
   "codemirror_mode": {
    "name": "ipython",
    "version": 3
   },
   "file_extension": ".py",
   "mimetype": "text/x-python",
   "name": "python",
   "nbconvert_exporter": "python",
   "pygments_lexer": "ipython3",
   "version": "3.7.6"
  }
 },
 "nbformat": 4,
 "nbformat_minor": 4
}
