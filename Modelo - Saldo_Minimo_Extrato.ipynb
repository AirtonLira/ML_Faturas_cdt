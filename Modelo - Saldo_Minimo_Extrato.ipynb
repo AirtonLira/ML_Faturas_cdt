{
 "cells": [
  {
   "cell_type": "code",
   "execution_count": 1,
   "metadata": {},
   "outputs": [
    {
     "name": "stdout",
     "output_type": "stream",
     "text": [
      "importing Jupyter notebook from utils_cdt.ipynb\n"
     ]
    }
   ],
   "source": [
    "import pandas as pd\n",
    "import numpy as np\n",
    "import import_ipynb\n",
    "import utils_cdt as cdt\n",
    "from datetime import datetime\n",
    "from pyspark.sql import SparkSession, Row\n",
    "from pyspark.sql import SQLContext\n",
    "from pyspark.sql.functions import *\n",
    "from pyspark.sql.types import *\n",
    "from pyspark.storagelevel import StorageLevel \n",
    "from datetime import date\n",
    "from sklearn.model_selection import train_test_split\n",
    "from sklearn.linear_model import LinearRegression\n",
    "from sklearn import metrics\n",
    "\n",
    "\n",
    "from sklearn import linear_model\n",
    "from sklearn.ensemble import RandomForestRegressor\n",
    "from sklearn.tree import DecisionTreeRegressor \n",
    "import matplotlib.pyplot as plt\n",
    "import time\n",
    "import pickle\n",
    "import warnings\n",
    "warnings.filterwarnings('ignore')"
   ]
  },
  {
   "cell_type": "code",
   "execution_count": 2,
   "metadata": {},
   "outputs": [],
   "source": [
    "infoDataBases = {\"ip\":\"\",\"base\":\"\"}"
   ]
  },
  {
   "cell_type": "code",
   "execution_count": 3,
   "metadata": {},
   "outputs": [],
   "source": [
    "preditoras = ['ParcelasNaoFinanciaveis','SaldoAtualFinal','BaseCalculo','TotalComprasSaques','SaldoExtratoAnterior','valoriof']\n",
    "prevista = ['ValorMinimoExtrato']"
   ]
  },
  {
   "cell_type": "code",
   "execution_count": 4,
   "metadata": {},
   "outputs": [],
   "source": [
    "def cache(self): \n",
    "    \"\"\" \n",
    "    Persist this RDD with the default storage level (C{MEMORY_ONLY_SER}). \n",
    "    \"\"\" \n",
    "    self.is_cached = True \n",
    "    self.persist(StorageLevel.MEMORY_ONLY_SER) \n",
    "    return self "
   ]
  },
  {
   "cell_type": "code",
   "execution_count": 5,
   "metadata": {},
   "outputs": [
    {
     "data": {
      "text/html": [
       "\n",
       "        <div>\n",
       "            <p><b>SparkContext</b></p>\n",
       "\n",
       "            <p><a href=\"http://127.0.0.1:4040\">Spark UI</a></p>\n",
       "\n",
       "            <dl>\n",
       "              <dt>Version</dt>\n",
       "                <dd><code>v2.4.5</code></dd>\n",
       "              <dt>Master</dt>\n",
       "                <dd><code>local[*]</code></dd>\n",
       "              <dt>AppName</dt>\n",
       "                <dd><code>Modelo - Spark</code></dd>\n",
       "            </dl>\n",
       "        </div>\n",
       "        "
      ],
      "text/plain": [
       "<SparkContext master=local[*] appName=Modelo - Spark>"
      ]
     },
     "execution_count": 5,
     "metadata": {},
     "output_type": "execute_result"
    }
   ],
   "source": [
    "spark = SparkSession \\\n",
    "    .builder \\\n",
    "    .appName(\"Modelo - Spark\") \\\n",
    "    .config(\"spark.executor.memory\", \"4gb\") \\\n",
    "    .config(\"spark.driver.host\",\"127.0.0.1\") \\\n",
    "    .getOrCreate()\n",
    "\n",
    "sc = spark.sparkContext\n",
    "sc"
   ]
  },
  {
   "cell_type": "code",
   "execution_count": 6,
   "metadata": {},
   "outputs": [],
   "source": [
    "#Consulta de BASE SQL Server\n",
    "consulta = cdt.resultQuery(\"mdl_contas_saldos.sql\")\n",
    "df = cdt.extrairDados(infoDataBases,consulta,arquivo=\"mdl_contas_saldo_\"+infoDataBases[\"base\"]+\".csv\",spark=False,objSpark=spark)"
   ]
  },
  {
   "cell_type": "markdown",
   "metadata": {},
   "source": [
    "### [preperTreinoTeste] - preparada dados de acordo com as preditos x alvos para gerar dados de treino e teste"
   ]
  },
  {
   "cell_type": "code",
   "execution_count": 7,
   "metadata": {},
   "outputs": [],
   "source": [
    "def preperTreinoTeste(df, preditoras, prevista, split):\n",
    "    # Seleção de variáveis preditoras (Feature Selection)\n",
    "    atributos = preditoras\n",
    "    # Variável a ser prevista\n",
    "    atrib_prev = prevista\n",
    "\n",
    "    # Criando objetos\n",
    "    X = np.absolute(df[atributos].values)\n",
    "    Y = df[atrib_prev].values\n",
    "\n",
    "\n",
    "    # Definindo a taxa de split\n",
    "    split_test_size = split\n",
    "    # Criando dados de treino e de teste\n",
    "    X_treino, X_teste, Y_treino, Y_teste = train_test_split(X, Y, test_size = split_test_size, random_state = 42)\n",
    "\n",
    "    Y_treino = Y_treino.astype(int)\n",
    "    Y_teste  = Y_teste.astype(int)\n",
    "    \n",
    "    return X_treino, Y_treino, X_teste, Y_teste\n"
   ]
  },
  {
   "cell_type": "markdown",
   "metadata": {},
   "source": [
    "### [runAllModels] - gera varios modelos para avaliar posteriormente eficacia de ambos"
   ]
  },
  {
   "cell_type": "markdown",
   "metadata": {},
   "source": [
    "### [transformDataSet] - Transforma dois arrays em colunas Previsto X Real"
   ]
  },
  {
   "cell_type": "code",
   "execution_count": 8,
   "metadata": {},
   "outputs": [],
   "source": [
    "def transformDataSet(previsto, real):\n",
    "    d = {\"Previsto\": [x[0] for x in previsto], \"Real\":[x[0] for x in real]}\n",
    "    df_resultado = pd.DataFrame(data=d)\n",
    "    df_resultado['diff'] = df_resultado.Previsto - df_resultado.Real\n",
    "    df_resultado['porcen'] =  np.absolute(((df_resultado.Previsto / df_resultado.Real)*100)-100)\n",
    "    df_resultado = df_resultado.round(2)\n",
    "    return df_resultado"
   ]
  },
  {
   "cell_type": "markdown",
   "metadata": {},
   "source": [
    "### [getresultdataset] - Printa os totais previsto x reais x diferença x porcentagem"
   ]
  },
  {
   "cell_type": "code",
   "execution_count": 9,
   "metadata": {},
   "outputs": [],
   "source": [
    "def getresultdataset(dt, model_name):\n",
    "    total_diff = dt.aggregate(['sum'])['diff'][0]\n",
    "    total_real = dt.aggregate(['sum'])['Real'][0]\n",
    "    total_prev = dt.aggregate(['sum'])['Previsto'][0]\n",
    "    print(\"[\"+model_name+\"] - Total Real:  %.2f\" %(total_real))\n",
    "    print(\"[\"+model_name+\"] - Total Prev:  %.2f\" %(total_prev))\n",
    "    print(\"[\"+model_name+\"] - Total Diff:  %.2f\" %(total_diff))\n",
    "    print(\"[\"+model_name+\"] - Total Porcentagem de diferença do previsto x real:  {:.2f}%\".format(np.absolute(((total_diff / total_real)*100))))"
   ]
  },
  {
   "cell_type": "code",
   "execution_count": 10,
   "metadata": {},
   "outputs": [],
   "source": [
    "X_treino, Y_treino, X_teste, Y_teste = preperTreinoTeste(df, preditoras, prevista, split = 0.3)"
   ]
  },
  {
   "cell_type": "code",
   "execution_count": 11,
   "metadata": {},
   "outputs": [],
   "source": [
    "randomForestRegression = RandomForestRegressor().fit(X_treino, Y_treino)"
   ]
  },
  {
   "cell_type": "code",
   "execution_count": 12,
   "metadata": {},
   "outputs": [
    {
     "data": {
      "text/plain": [
       "Text(0.5, 1.0, 'Importância de cada feature')"
      ]
     },
     "execution_count": 12,
     "metadata": {},
     "output_type": "execute_result"
    },
    {
     "data": {
      "image/png": "[encoded data removed]",
      "text/plain": [
       "<Figure size 432x288 with 1 Axes>"
      ]
     },
     "metadata": {
      "needs_background": "light"
     },
     "output_type": "display_data"
    }
   ],
   "source": [
    "import seaborn as sns\n",
    "importances = pd.Series(data=randomForestRegression.feature_importances_, index=preditoras)\n",
    "sns.barplot(x=importances, y=importances.index, orient='h').set_title('Importância de cada feature')"
   ]
  },
  {
   "cell_type": "code",
   "execution_count": 13,
   "metadata": {},
   "outputs": [],
   "source": [
    "#from sklearn.feature_selection import RFE\n",
    "#rfe = RFE(randomForestRegression, step=1).fit(X_treino, Y_treino)"
   ]
  },
  {
   "cell_type": "code",
   "execution_count": 13,
   "metadata": {},
   "outputs": [
    {
     "data": {
      "text/plain": [
       "0.8487006041525906"
      ]
     },
     "execution_count": 13,
     "metadata": {},
     "output_type": "execute_result"
    }
   ],
   "source": [
    "randomForestRegression.score(X_teste,Y_teste)"
   ]
  },
  {
   "cell_type": "code",
   "execution_count": 15,
   "metadata": {},
   "outputs": [],
   "source": [
    "#rfe.score(X_teste,Y_teste)"
   ]
  },
  {
   "cell_type": "code",
   "execution_count": 16,
   "metadata": {},
   "outputs": [],
   "source": [
    "filename = 'models/mdl_saldo_minimoExtrato.sav'\n",
    "pickle.dump(randomForestRegression, open(filename, 'wb'))"
   ]
  },
  {
   "cell_type": "markdown",
   "metadata": {},
   "source": [
    "## Prevendo novos valores com base no Modelo treinado anteriormente"
   ]
  },
  {
   "cell_type": "code",
   "execution_count": 17,
   "metadata": {},
   "outputs": [],
   "source": [
    "#Carregando modelo \n",
    "model_forest = pickle.load(open('models/mdl_saldo_minimoExtrato.sav', 'rb'))"
   ]
  },
  {
   "cell_type": "code",
   "execution_count": 18,
   "metadata": {},
   "outputs": [],
   "source": [
    "#Consulta de BASE SQL Server\n",
    "infoDataBases = {\"ip\":\"AZ2D-MASKDB-222.DEVCDT.COM.BR\",\"base\":\"Controly\"}\n",
    "consulta = cdt.resultQuery(\"contas_saldos.sql\")\n",
    "df = cdt.extrairDados(infoDataBases,consulta,arquivo=\"contas_saldo_\"+infoDataBases[\"base\"]+\".csv\",spark=False,objSpark=spark)"
   ]
  },
  {
   "cell_type": "code",
   "execution_count": 19,
   "metadata": {},
   "outputs": [],
   "source": [
    "# Criando objetos\n",
    "X = df[preditoras].values\n",
    "Y = df[prevista].values"
   ]
  },
  {
   "cell_type": "code",
   "execution_count": 20,
   "metadata": {},
   "outputs": [
    {
     "data": {
      "text/plain": [
       "0.9157278917736"
      ]
     },
     "execution_count": 20,
     "metadata": {},
     "output_type": "execute_result"
    }
   ],
   "source": [
    "model_forest.score(X,Y)"
   ]
  },
  {
   "cell_type": "code",
   "execution_count": 21,
   "metadata": {},
   "outputs": [
    {
     "name": "stdout",
     "output_type": "stream",
     "text": [
      "[RandomForestRegression] - Total Real:  3462987.01\n",
      "[RandomForestRegression] - Total Prev:  3486068.06\n",
      "[RandomForestRegression] - Total Diff:  23081.04\n",
      "[RandomForestRegression] - Total Porcentagem de diferença do previsto x real:  0.67%\n"
     ]
    }
   ],
   "source": [
    "Y_Predict = model_forest.predict(X)\n",
    "Y_Predict = Y_Predict.reshape(Y_Predict.shape[0],1)\n",
    "df_final = transformDataSet(Y_Predict, Y)\n",
    "getresultdataset(df_final, \"RandomForestRegression\")"
   ]
  },
  {
   "cell_type": "code",
   "execution_count": 22,
   "metadata": {},
   "outputs": [
    {
     "data": {
      "text/plain": [
       "Text(0.5, 1.0, 'Importância de cada feature no Valor Minimo Extrato')"
      ]
     },
     "execution_count": 22,
     "metadata": {},
     "output_type": "execute_result"
    },
    {
     "data": {
      "image/png": "[encoded data removed]",
      "text/plain": [
       "<Figure size 432x288 with 1 Axes>"
      ]
     },
     "metadata": {
      "needs_background": "light"
     },
     "output_type": "display_data"
    }
   ],
   "source": [
    "import seaborn as sns\n",
    "importances = pd.Series(data=randomForestRegression.feature_importances_, index=preditoras)\n",
    "sns.barplot(x=importances, y=importances.index, orient='h').set_title('Importância de cada feature no Valor Minimo Extrato')"
   ]
  },
  {
   "cell_type": "code",
   "execution_count": 34,
   "metadata": {},
   "outputs": [
    {
     "data": {
      "text/plain": [
       "array([26.])"
      ]
     },
     "execution_count": 34,
     "metadata": {},
     "output_type": "execute_result"
    }
   ],
   "source": [
    "model_forest.predict([[0,124.20,0,124.2,174.05,0]])"
   ]
  }
 ],
 "metadata": {
  "kernelspec": {
   "display_name": "Python 3",
   "language": "python",
   "name": "python3"
  },
  "language_info": {
   "codemirror_mode": {
    "name": "ipython",
    "version": 3
   },
   "file_extension": ".py",
   "mimetype": "text/x-python",
   "name": "python",
   "nbconvert_exporter": "python",
   "pygments_lexer": "ipython3",
   "version": "3.7.6"
  }
 },
 "nbformat": 4,
 "nbformat_minor": 4
}
