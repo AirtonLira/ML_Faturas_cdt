{
 "cells": [
  {
   "cell_type": "code",
   "execution_count": 73,
   "metadata": {},
   "outputs": [],
   "source": [
    "import pandas as pd\n",
    "import numpy as np\n",
    "import import_ipynb\n",
    "import utils_cdt as cdt\n",
    "from datetime import datetime\n",
    "from pyspark.sql import SparkSession, Row\n",
    "from pyspark.sql import SQLContext\n",
    "from pyspark.sql.functions import *\n",
    "from pyspark.sql.types import *\n",
    "from pyspark.storagelevel import StorageLevel \n",
    "from datetime import date\n",
    "from sklearn.model_selection import train_test_split\n",
    "from sklearn.linear_model import LinearRegression\n",
    "from sklearn import metrics\n",
    "\n",
    "\n",
    "from sklearn import linear_model\n",
    "from sklearn.ensemble import RandomForestRegressor, VotingClassifier\n",
    "from sklearn.tree import DecisionTreeRegressor \n",
    "import matplotlib.pyplot as plt\n",
    "import time\n",
    "import pickle\n",
    "import warnings\n",
    "warnings.filterwarnings('ignore')"
   ]
  },
  {
   "cell_type": "code",
   "execution_count": 61,
   "metadata": {},
   "outputs": [],
   "source": [
    "infoDataBases = {\"ip\":\"AZ2D-MASKDB-220.DEVCDT.COM.BR\",\"base\":\"Controly\"}"
   ]
  },
  {
   "cell_type": "code",
   "execution_count": 62,
   "metadata": {},
   "outputs": [],
   "source": [
    "#Consulta de BASE SQL Server\n",
    "consulta = cdt.resultQuery(\"mdl_contas_saldos.sql\")\n",
    "consulta_iof = cdt.resultQuery(\"mdl_base_iof.sql\")\n",
    "df = cdt.extrairDados(infoDataBases,consulta,path='../data/',arquivo=\"mdl_contas_saldo_\"+infoDataBases[\"base\"],spark=False,objSpark=None)\n",
    "df_iof = cdt.extrairDados(infoDataBases,consulta_iof,path='../data/',arquivo=\"mdl_base_iof_\"+infoDataBases[\"base\"],spark=False,objSpark=None)"
   ]
  },
  {
   "cell_type": "code",
   "execution_count": 63,
   "metadata": {},
   "outputs": [],
   "source": [
    "df['dtvencimento'] = pd.to_datetime(df.DataVencimentoPadrao, format=\"%d/%m/%Y\")\n",
    "df_iof['dtvencimento'] = pd.to_datetime(df_iof.datavencimentopadrao, format=\"%Y-%m-%d\")"
   ]
  },
  {
   "cell_type": "code",
   "execution_count": 64,
   "metadata": {},
   "outputs": [
    {
     "data": {
      "text/html": [
       "<div>\n",
       "<style scoped>\n",
       "    .dataframe tbody tr th:only-of-type {\n",
       "        vertical-align: middle;\n",
       "    }\n",
       "\n",
       "    .dataframe tbody tr th {\n",
       "        vertical-align: top;\n",
       "    }\n",
       "\n",
       "    .dataframe thead th {\n",
       "        text-align: right;\n",
       "    }\n",
       "</style>\n",
       "<table border=\"1\" class=\"dataframe\">\n",
       "  <thead>\n",
       "    <tr style=\"text-align: right;\">\n",
       "      <th></th>\n",
       "      <th>Id_Conta</th>\n",
       "      <th>DataVencimentoPadrao</th>\n",
       "      <th>TarifasNacionais</th>\n",
       "      <th>ParcelasNaoFinanciaveis</th>\n",
       "      <th>SaldoAtualFinal</th>\n",
       "      <th>BaseCalculo</th>\n",
       "      <th>seguros</th>\n",
       "      <th>EncargosFinanciamento</th>\n",
       "      <th>DebitosRecorrentes</th>\n",
       "      <th>TotalComprasSaques</th>\n",
       "      <th>SaldoExtratoAnterior</th>\n",
       "      <th>ValorMinimoExtrato</th>\n",
       "      <th>dtvencimento</th>\n",
       "    </tr>\n",
       "  </thead>\n",
       "  <tbody>\n",
       "    <tr>\n",
       "      <th>0</th>\n",
       "      <td>1338692</td>\n",
       "      <td>05/01/2020</td>\n",
       "      <td>0.0</td>\n",
       "      <td>0.0</td>\n",
       "      <td>363.93</td>\n",
       "      <td>0.0</td>\n",
       "      <td>0.0</td>\n",
       "      <td>0.0</td>\n",
       "      <td>0.0</td>\n",
       "      <td>269.14</td>\n",
       "      <td>136.20</td>\n",
       "      <td>56.67</td>\n",
       "      <td>2020-01-05</td>\n",
       "    </tr>\n",
       "    <tr>\n",
       "      <th>1</th>\n",
       "      <td>1338842</td>\n",
       "      <td>05/01/2020</td>\n",
       "      <td>0.0</td>\n",
       "      <td>0.0</td>\n",
       "      <td>248.82</td>\n",
       "      <td>0.0</td>\n",
       "      <td>0.0</td>\n",
       "      <td>0.0</td>\n",
       "      <td>0.0</td>\n",
       "      <td>0.00</td>\n",
       "      <td>226.64</td>\n",
       "      <td>37.32</td>\n",
       "      <td>2020-01-05</td>\n",
       "    </tr>\n",
       "  </tbody>\n",
       "</table>\n",
       "</div>"
      ],
      "text/plain": [
       "   Id_Conta DataVencimentoPadrao  TarifasNacionais  ParcelasNaoFinanciaveis  \\\n",
       "0   1338692           05/01/2020               0.0                      0.0   \n",
       "1   1338842           05/01/2020               0.0                      0.0   \n",
       "\n",
       "   SaldoAtualFinal  BaseCalculo  seguros  EncargosFinanciamento  \\\n",
       "0           363.93          0.0      0.0                    0.0   \n",
       "1           248.82          0.0      0.0                    0.0   \n",
       "\n",
       "   DebitosRecorrentes  TotalComprasSaques  SaldoExtratoAnterior  \\\n",
       "0                 0.0              269.14                136.20   \n",
       "1                 0.0                0.00                226.64   \n",
       "\n",
       "   ValorMinimoExtrato dtvencimento  \n",
       "0               56.67   2020-01-05  \n",
       "1               37.32   2020-01-05  "
      ]
     },
     "execution_count": 64,
     "metadata": {},
     "output_type": "execute_result"
    }
   ],
   "source": [
    "df.head(2)"
   ]
  },
  {
   "cell_type": "code",
   "execution_count": 65,
   "metadata": {},
   "outputs": [
    {
     "data": {
      "text/html": [
       "<div>\n",
       "<style scoped>\n",
       "    .dataframe tbody tr th:only-of-type {\n",
       "        vertical-align: middle;\n",
       "    }\n",
       "\n",
       "    .dataframe tbody tr th {\n",
       "        vertical-align: top;\n",
       "    }\n",
       "\n",
       "    .dataframe thead th {\n",
       "        text-align: right;\n",
       "    }\n",
       "</style>\n",
       "<table border=\"1\" class=\"dataframe\">\n",
       "  <thead>\n",
       "    <tr style=\"text-align: right;\">\n",
       "      <th></th>\n",
       "      <th>datavencimentopadrao</th>\n",
       "      <th>Id_Conta</th>\n",
       "      <th>valoriof</th>\n",
       "      <th>dtvencimento</th>\n",
       "    </tr>\n",
       "  </thead>\n",
       "  <tbody>\n",
       "    <tr>\n",
       "      <th>0</th>\n",
       "      <td>2020-02-21</td>\n",
       "      <td>1001779</td>\n",
       "      <td>10.48</td>\n",
       "      <td>2020-02-21</td>\n",
       "    </tr>\n",
       "    <tr>\n",
       "      <th>1</th>\n",
       "      <td>2020-02-15</td>\n",
       "      <td>1003210</td>\n",
       "      <td>1.98</td>\n",
       "      <td>2020-02-15</td>\n",
       "    </tr>\n",
       "  </tbody>\n",
       "</table>\n",
       "</div>"
      ],
      "text/plain": [
       "  datavencimentopadrao  Id_Conta  valoriof dtvencimento\n",
       "0           2020-02-21   1001779     10.48   2020-02-21\n",
       "1           2020-02-15   1003210      1.98   2020-02-15"
      ]
     },
     "execution_count": 65,
     "metadata": {},
     "output_type": "execute_result"
    }
   ],
   "source": [
    "df_iof.head(2)"
   ]
  },
  {
   "cell_type": "code",
   "execution_count": 66,
   "metadata": {},
   "outputs": [],
   "source": [
    "df = df.merge(df_iof, on=['Id_Conta','dtvencimento'], how='left')\n",
    "df = df.fillna(0)"
   ]
  },
  {
   "cell_type": "code",
   "execution_count": 67,
   "metadata": {},
   "outputs": [
    {
     "data": {
      "text/html": [
       "<div>\n",
       "<style scoped>\n",
       "    .dataframe tbody tr th:only-of-type {\n",
       "        vertical-align: middle;\n",
       "    }\n",
       "\n",
       "    .dataframe tbody tr th {\n",
       "        vertical-align: top;\n",
       "    }\n",
       "\n",
       "    .dataframe thead th {\n",
       "        text-align: right;\n",
       "    }\n",
       "</style>\n",
       "<table border=\"1\" class=\"dataframe\">\n",
       "  <thead>\n",
       "    <tr style=\"text-align: right;\">\n",
       "      <th></th>\n",
       "      <th>Id_Conta</th>\n",
       "      <th>DataVencimentoPadrao</th>\n",
       "      <th>TarifasNacionais</th>\n",
       "      <th>ParcelasNaoFinanciaveis</th>\n",
       "      <th>SaldoAtualFinal</th>\n",
       "      <th>BaseCalculo</th>\n",
       "      <th>seguros</th>\n",
       "      <th>EncargosFinanciamento</th>\n",
       "      <th>DebitosRecorrentes</th>\n",
       "      <th>TotalComprasSaques</th>\n",
       "      <th>SaldoExtratoAnterior</th>\n",
       "      <th>ValorMinimoExtrato</th>\n",
       "      <th>dtvencimento</th>\n",
       "      <th>datavencimentopadrao</th>\n",
       "      <th>valoriof</th>\n",
       "    </tr>\n",
       "  </thead>\n",
       "  <tbody>\n",
       "    <tr>\n",
       "      <th>0</th>\n",
       "      <td>1338692</td>\n",
       "      <td>05/01/2020</td>\n",
       "      <td>0.0</td>\n",
       "      <td>0.0</td>\n",
       "      <td>363.93</td>\n",
       "      <td>0.0</td>\n",
       "      <td>0.0</td>\n",
       "      <td>0.0</td>\n",
       "      <td>0.0</td>\n",
       "      <td>269.14</td>\n",
       "      <td>136.20</td>\n",
       "      <td>56.67</td>\n",
       "      <td>2020-01-05</td>\n",
       "      <td>0</td>\n",
       "      <td>0.0</td>\n",
       "    </tr>\n",
       "    <tr>\n",
       "      <th>1</th>\n",
       "      <td>1338842</td>\n",
       "      <td>05/01/2020</td>\n",
       "      <td>0.0</td>\n",
       "      <td>0.0</td>\n",
       "      <td>248.82</td>\n",
       "      <td>0.0</td>\n",
       "      <td>0.0</td>\n",
       "      <td>0.0</td>\n",
       "      <td>0.0</td>\n",
       "      <td>0.00</td>\n",
       "      <td>226.64</td>\n",
       "      <td>37.32</td>\n",
       "      <td>2020-01-05</td>\n",
       "      <td>0</td>\n",
       "      <td>0.0</td>\n",
       "    </tr>\n",
       "  </tbody>\n",
       "</table>\n",
       "</div>"
      ],
      "text/plain": [
       "   Id_Conta DataVencimentoPadrao  TarifasNacionais  ParcelasNaoFinanciaveis  \\\n",
       "0   1338692           05/01/2020               0.0                      0.0   \n",
       "1   1338842           05/01/2020               0.0                      0.0   \n",
       "\n",
       "   SaldoAtualFinal  BaseCalculo  seguros  EncargosFinanciamento  \\\n",
       "0           363.93          0.0      0.0                    0.0   \n",
       "1           248.82          0.0      0.0                    0.0   \n",
       "\n",
       "   DebitosRecorrentes  TotalComprasSaques  SaldoExtratoAnterior  \\\n",
       "0                 0.0              269.14                136.20   \n",
       "1                 0.0                0.00                226.64   \n",
       "\n",
       "   ValorMinimoExtrato dtvencimento datavencimentopadrao  valoriof  \n",
       "0               56.67   2020-01-05                    0       0.0  \n",
       "1               37.32   2020-01-05                    0       0.0  "
      ]
     },
     "execution_count": 67,
     "metadata": {},
     "output_type": "execute_result"
    }
   ],
   "source": [
    "df.head(2)"
   ]
  },
  {
   "cell_type": "markdown",
   "metadata": {},
   "source": [
    "### [transformDataSet] - Transforma dois arrays em colunas Previsto X Real"
   ]
  },
  {
   "cell_type": "code",
   "execution_count": 68,
   "metadata": {},
   "outputs": [],
   "source": [
    "def transformDataSet(previsto, real):\n",
    "    d = {\"Previsto\": [x[0] for x in previsto], \"Real\":[x[0] for x in real]}\n",
    "    df_resultado = pd.DataFrame(data=d)\n",
    "    df_resultado['diff'] = df_resultado.Previsto - df_resultado.Real\n",
    "    df_resultado['porcen'] =  np.absolute(((df_resultado.Previsto / df_resultado.Real)*100)-100)\n",
    "    df_resultado = df_resultado.round(2)\n",
    "    return df_resultado"
   ]
  },
  {
   "cell_type": "markdown",
   "metadata": {},
   "source": [
    "### [getresultdataset] - Printa os totais previsto x reais x diferença x porcentagem"
   ]
  },
  {
   "cell_type": "code",
   "execution_count": 69,
   "metadata": {},
   "outputs": [],
   "source": [
    "def getresultdataset(dt, model_name):\n",
    "    total_diff = dt.aggregate(['sum'])['diff'][0]\n",
    "    total_real = dt.aggregate(['sum'])['Real'][0]\n",
    "    total_prev = dt.aggregate(['sum'])['Previsto'][0]\n",
    "    print(\"[\"+model_name+\"] - Total Real:  %.2f\" %(total_real))\n",
    "    print(\"[\"+model_name+\"] - Total Prev:  %.2f\" %(total_prev))\n",
    "    print(\"[\"+model_name+\"] - Total Diff:  %.2f\" %(total_diff))\n",
    "    print(\"[\"+model_name+\"] - Total Porcentagem de diferença do previsto x real:  {:.2f}%\".format(np.absolute(((total_diff / total_real)*100))))"
   ]
  },
  {
   "cell_type": "code",
   "execution_count": 70,
   "metadata": {},
   "outputs": [],
   "source": [
    "# Remove colunas que contem ID\n",
    "cols_id = [c for c in df.columns if c.lower()[:2] == 'id']\n",
    "df = df.drop(columns=cols_id)\n",
    "\n",
    "\n",
    "# Mantem apenas colunas numericas\n",
    "numerics = ['int16', 'int32', 'int64', 'float16', 'float32', 'float64']\n",
    "df = df.select_dtypes(include=numerics)\n",
    "\n",
    "\n",
    "# Definindo variaveis preditoras e prevista\n",
    "preditoras = []\n",
    "preditoras =  df.columns.to_list()\n",
    "preditoras.remove(\"ValorMinimoExtrato\")\n",
    "prevista = ['ValorMinimoExtrato']"
   ]
  },
  {
   "cell_type": "code",
   "execution_count": 71,
   "metadata": {},
   "outputs": [],
   "source": [
    "X_treino, Y_treino, X_teste, Y_teste = cdt.preperTreinoTeste(df, preditoras, prevista, 0.3)"
   ]
  },
  {
   "cell_type": "code",
   "execution_count": 78,
   "metadata": {},
   "outputs": [],
   "source": [
    "dtr_model = DecisionTreeRegressor(random_state=42).fit(X_treino, Y_treino)"
   ]
  },
  {
   "cell_type": "code",
   "execution_count": 79,
   "metadata": {},
   "outputs": [
    {
     "data": {
      "text/plain": [
       "Text(0.5, 1.0, 'Importância de cada feature')"
      ]
     },
     "execution_count": 79,
     "metadata": {},
     "output_type": "execute_result"
    },
    {
     "data": {
      "image/png": "[encoded data removed]",
      "text/plain": [
       "<Figure size 432x288 with 1 Axes>"
      ]
     },
     "metadata": {
      "needs_background": "light"
     },
     "output_type": "display_data"
    }
   ],
   "source": [
    "import seaborn as sns\n",
    "importances = pd.Series(data=dtr_model.feature_importances_, index=preditoras)\n",
    "sns.barplot(x=importances, y=importances.index, orient='h').set_title('Importância de cada feature')"
   ]
  },
  {
   "cell_type": "code",
   "execution_count": 52,
   "metadata": {},
   "outputs": [],
   "source": [
    "#from sklearn.feature_selection import RFE\n",
    "#rfe = RFE(randomForestRegression, step=1).fit(X_treino, Y_treino)"
   ]
  },
  {
   "cell_type": "code",
   "execution_count": 80,
   "metadata": {},
   "outputs": [
    {
     "data": {
      "text/plain": [
       "0.9876503980623164"
      ]
     },
     "execution_count": 80,
     "metadata": {},
     "output_type": "execute_result"
    }
   ],
   "source": [
    "dtr_model.score(X_teste,Y_teste)"
   ]
  },
  {
   "cell_type": "code",
   "execution_count": 81,
   "metadata": {},
   "outputs": [
    {
     "name": "stdout",
     "output_type": "stream",
     "text": [
      "[DecisionTreeRegressor] - Total Real:  17648575.00\n",
      "[DecisionTreeRegressor] - Total Prev:  17642309.00\n",
      "[DecisionTreeRegressor] - Total Diff:  -6266.00\n",
      "[DecisionTreeRegressor] - Total Porcentagem de diferença do previsto x real:  0.04%\n"
     ]
    }
   ],
   "source": [
    "Y_Predict = dtr_model.predict(X_teste)\n",
    "Y_Predict = Y_Predict.reshape(Y_Predict.shape[0],1)\n",
    "df_final = transformDataSet(Y_Predict, Y_teste)\n",
    "getresultdataset(df_final, \"DecisionTreeRegressor\")"
   ]
  },
  {
   "cell_type": "code",
   "execution_count": 54,
   "metadata": {},
   "outputs": [],
   "source": [
    "#rfe.score(X_teste,Y_teste)"
   ]
  },
  {
   "cell_type": "code",
   "execution_count": 82,
   "metadata": {},
   "outputs": [],
   "source": [
    "filename = 'models/dtr_saldo_minimoExtrato.sav'\n",
    "pickle.dump(dtr_model, open(filename, 'wb'))"
   ]
  },
  {
   "cell_type": "markdown",
   "metadata": {},
   "source": [
    "## Prevendo novos valores com base no Modelo treinado anteriormente"
   ]
  },
  {
   "cell_type": "code",
   "execution_count": 154,
   "metadata": {},
   "outputs": [],
   "source": [
    "#Carregando modelo \n",
    "model_forest = pickle.load(open('models/dtr_saldo_minimoExtrato.sav', 'rb'))"
   ]
  },
  {
   "cell_type": "code",
   "execution_count": 139,
   "metadata": {},
   "outputs": [],
   "source": [
    "#Consulta de BASE SQL Server\n",
    "infoDataBases = {\"ip\":\"AZ2D-MASKDB-220.DEVCDT.COM.BR\",\"base\":\"Controly\"}\n",
    "consulta = cdt.resultQuery(\"contas_saldos.sql\")\n",
    "consultaiof = cdt.resultQuery(\"base_iof.sql\")\n",
    "df = cdt.extrairDados(infoDataBases,consulta,path='../data/',arquivo=\"contas_saldo_\"+infoDataBases[\"base\"],spark=False,objSpark=None)\n",
    "df_iof = cdt.extrairDados(infoDataBases,consultaiof,path='../data/',arquivo=\"base_iof_\"+infoDataBases[\"base\"],spark=False,objSpark=None)"
   ]
  },
  {
   "cell_type": "code",
   "execution_count": 140,
   "metadata": {},
   "outputs": [
    {
     "data": {
      "text/html": [
       "<div>\n",
       "<style scoped>\n",
       "    .dataframe tbody tr th:only-of-type {\n",
       "        vertical-align: middle;\n",
       "    }\n",
       "\n",
       "    .dataframe tbody tr th {\n",
       "        vertical-align: top;\n",
       "    }\n",
       "\n",
       "    .dataframe thead th {\n",
       "        text-align: right;\n",
       "    }\n",
       "</style>\n",
       "<table border=\"1\" class=\"dataframe\">\n",
       "  <thead>\n",
       "    <tr style=\"text-align: right;\">\n",
       "      <th></th>\n",
       "      <th>Id_Conta</th>\n",
       "      <th>DataVencimentoPadrao</th>\n",
       "      <th>TarifasNacionais</th>\n",
       "      <th>ParcelasNaoFinanciaveis</th>\n",
       "      <th>SaldoAtualFinal</th>\n",
       "      <th>BaseCalculo</th>\n",
       "      <th>seguros</th>\n",
       "      <th>EncargosFinanciamento</th>\n",
       "      <th>DebitosRecorrentes</th>\n",
       "      <th>TotalComprasSaques</th>\n",
       "      <th>SaldoExtratoAnterior</th>\n",
       "      <th>ValorMinimoExtrato</th>\n",
       "    </tr>\n",
       "  </thead>\n",
       "  <tbody>\n",
       "    <tr>\n",
       "      <th>0</th>\n",
       "      <td>181346</td>\n",
       "      <td>01/05/2020</td>\n",
       "      <td>0.0</td>\n",
       "      <td>0.0</td>\n",
       "      <td>554.88</td>\n",
       "      <td>-1072.56</td>\n",
       "      <td>0.0</td>\n",
       "      <td>0.0</td>\n",
       "      <td>0.0</td>\n",
       "      <td>1031.54</td>\n",
       "      <td>405.60</td>\n",
       "      <td>83.23</td>\n",
       "    </tr>\n",
       "    <tr>\n",
       "      <th>1</th>\n",
       "      <td>181106</td>\n",
       "      <td>01/05/2020</td>\n",
       "      <td>0.0</td>\n",
       "      <td>0.0</td>\n",
       "      <td>209.25</td>\n",
       "      <td>0.00</td>\n",
       "      <td>0.0</td>\n",
       "      <td>0.0</td>\n",
       "      <td>0.0</td>\n",
       "      <td>209.25</td>\n",
       "      <td>177.62</td>\n",
       "      <td>31.39</td>\n",
       "    </tr>\n",
       "  </tbody>\n",
       "</table>\n",
       "</div>"
      ],
      "text/plain": [
       "   Id_Conta DataVencimentoPadrao  TarifasNacionais  ParcelasNaoFinanciaveis  \\\n",
       "0    181346           01/05/2020               0.0                      0.0   \n",
       "1    181106           01/05/2020               0.0                      0.0   \n",
       "\n",
       "   SaldoAtualFinal  BaseCalculo  seguros  EncargosFinanciamento  \\\n",
       "0           554.88     -1072.56      0.0                    0.0   \n",
       "1           209.25         0.00      0.0                    0.0   \n",
       "\n",
       "   DebitosRecorrentes  TotalComprasSaques  SaldoExtratoAnterior  \\\n",
       "0                 0.0             1031.54                405.60   \n",
       "1                 0.0              209.25                177.62   \n",
       "\n",
       "   ValorMinimoExtrato  \n",
       "0               83.23  \n",
       "1               31.39  "
      ]
     },
     "execution_count": 140,
     "metadata": {},
     "output_type": "execute_result"
    }
   ],
   "source": [
    "df.head(2)"
   ]
  },
  {
   "cell_type": "code",
   "execution_count": 138,
   "metadata": {},
   "outputs": [
    {
     "data": {
      "text/html": [
       "<div>\n",
       "<style scoped>\n",
       "    .dataframe tbody tr th:only-of-type {\n",
       "        vertical-align: middle;\n",
       "    }\n",
       "\n",
       "    .dataframe tbody tr th {\n",
       "        vertical-align: top;\n",
       "    }\n",
       "\n",
       "    .dataframe thead th {\n",
       "        text-align: right;\n",
       "    }\n",
       "</style>\n",
       "<table border=\"1\" class=\"dataframe\">\n",
       "  <thead>\n",
       "    <tr style=\"text-align: right;\">\n",
       "      <th></th>\n",
       "      <th>DataVencimentoPadrao</th>\n",
       "      <th>Id_Conta</th>\n",
       "      <th>valoriof</th>\n",
       "    </tr>\n",
       "  </thead>\n",
       "  <tbody>\n",
       "    <tr>\n",
       "      <th>0</th>\n",
       "      <td>2020-05-01</td>\n",
       "      <td>2531281</td>\n",
       "      <td>0.67</td>\n",
       "    </tr>\n",
       "    <tr>\n",
       "      <th>1</th>\n",
       "      <td>2020-05-01</td>\n",
       "      <td>1477784</td>\n",
       "      <td>0.70</td>\n",
       "    </tr>\n",
       "  </tbody>\n",
       "</table>\n",
       "</div>"
      ],
      "text/plain": [
       "  DataVencimentoPadrao  Id_Conta  valoriof\n",
       "0           2020-05-01   2531281      0.67\n",
       "1           2020-05-01   1477784      0.70"
      ]
     },
     "execution_count": 138,
     "metadata": {},
     "output_type": "execute_result"
    }
   ],
   "source": [
    "df_iof.head(2)"
   ]
  },
  {
   "cell_type": "code",
   "execution_count": 141,
   "metadata": {},
   "outputs": [],
   "source": [
    "df['dtvencimento'] = pd.to_datetime(df.DataVencimentoPadrao, format=\"%d/%m/%Y\")\n",
    "df_iof['dtvencimento'] = pd.to_datetime(df_iof.DataVencimentoPadrao, format=\"%Y-%m-%d\")"
   ]
  },
  {
   "cell_type": "code",
   "execution_count": 142,
   "metadata": {},
   "outputs": [],
   "source": [
    "df = df.merge(df_iof, on=['Id_Conta','dtvencimento'], how='left')\n",
    "df = df.fillna(0)"
   ]
  },
  {
   "cell_type": "code",
   "execution_count": 143,
   "metadata": {},
   "outputs": [
    {
     "data": {
      "text/html": [
       "<div>\n",
       "<style scoped>\n",
       "    .dataframe tbody tr th:only-of-type {\n",
       "        vertical-align: middle;\n",
       "    }\n",
       "\n",
       "    .dataframe tbody tr th {\n",
       "        vertical-align: top;\n",
       "    }\n",
       "\n",
       "    .dataframe thead th {\n",
       "        text-align: right;\n",
       "    }\n",
       "</style>\n",
       "<table border=\"1\" class=\"dataframe\">\n",
       "  <thead>\n",
       "    <tr style=\"text-align: right;\">\n",
       "      <th></th>\n",
       "      <th>Id_Conta</th>\n",
       "      <th>DataVencimentoPadrao_x</th>\n",
       "      <th>TarifasNacionais</th>\n",
       "      <th>ParcelasNaoFinanciaveis</th>\n",
       "      <th>SaldoAtualFinal</th>\n",
       "      <th>BaseCalculo</th>\n",
       "      <th>seguros</th>\n",
       "      <th>EncargosFinanciamento</th>\n",
       "      <th>DebitosRecorrentes</th>\n",
       "      <th>TotalComprasSaques</th>\n",
       "      <th>SaldoExtratoAnterior</th>\n",
       "      <th>ValorMinimoExtrato</th>\n",
       "      <th>dtvencimento</th>\n",
       "      <th>DataVencimentoPadrao_y</th>\n",
       "      <th>valoriof</th>\n",
       "    </tr>\n",
       "  </thead>\n",
       "  <tbody>\n",
       "    <tr>\n",
       "      <th>0</th>\n",
       "      <td>181346</td>\n",
       "      <td>01/05/2020</td>\n",
       "      <td>0.0</td>\n",
       "      <td>0.0</td>\n",
       "      <td>554.88</td>\n",
       "      <td>-1072.56</td>\n",
       "      <td>0.0</td>\n",
       "      <td>0.0</td>\n",
       "      <td>0.0</td>\n",
       "      <td>1031.54</td>\n",
       "      <td>405.60</td>\n",
       "      <td>83.23</td>\n",
       "      <td>2020-05-01</td>\n",
       "      <td>0</td>\n",
       "      <td>0.0</td>\n",
       "    </tr>\n",
       "    <tr>\n",
       "      <th>1</th>\n",
       "      <td>181106</td>\n",
       "      <td>01/05/2020</td>\n",
       "      <td>0.0</td>\n",
       "      <td>0.0</td>\n",
       "      <td>209.25</td>\n",
       "      <td>0.00</td>\n",
       "      <td>0.0</td>\n",
       "      <td>0.0</td>\n",
       "      <td>0.0</td>\n",
       "      <td>209.25</td>\n",
       "      <td>177.62</td>\n",
       "      <td>31.39</td>\n",
       "      <td>2020-05-01</td>\n",
       "      <td>0</td>\n",
       "      <td>0.0</td>\n",
       "    </tr>\n",
       "  </tbody>\n",
       "</table>\n",
       "</div>"
      ],
      "text/plain": [
       "   Id_Conta DataVencimentoPadrao_x  TarifasNacionais  ParcelasNaoFinanciaveis  \\\n",
       "0    181346             01/05/2020               0.0                      0.0   \n",
       "1    181106             01/05/2020               0.0                      0.0   \n",
       "\n",
       "   SaldoAtualFinal  BaseCalculo  seguros  EncargosFinanciamento  \\\n",
       "0           554.88     -1072.56      0.0                    0.0   \n",
       "1           209.25         0.00      0.0                    0.0   \n",
       "\n",
       "   DebitosRecorrentes  TotalComprasSaques  SaldoExtratoAnterior  \\\n",
       "0                 0.0             1031.54                405.60   \n",
       "1                 0.0              209.25                177.62   \n",
       "\n",
       "   ValorMinimoExtrato dtvencimento DataVencimentoPadrao_y  valoriof  \n",
       "0               83.23   2020-05-01                      0       0.0  \n",
       "1               31.39   2020-05-01                      0       0.0  "
      ]
     },
     "execution_count": 143,
     "metadata": {},
     "output_type": "execute_result"
    }
   ],
   "source": [
    "df.head(2)"
   ]
  },
  {
   "cell_type": "code",
   "execution_count": 160,
   "metadata": {},
   "outputs": [],
   "source": [
    "# Remove colunas que contem ID\n",
    "cols_id = [c for c in df.columns if c.lower()[:2] == 'id']\n",
    "df = df.drop(columns=cols_id)\n",
    "\n",
    "\n",
    "# Mantem apenas colunas numericas\n",
    "numerics = ['int16', 'int32', 'int64', 'float16', 'float32', 'float64']\n",
    "df = df.select_dtypes(include=numerics)\n",
    "\n",
    "# Definindo variaveis preditoras e prevista\n",
    "preditoras = []\n",
    "preditoras =  df.columns.to_list()\n",
    "preditoras.remove(\"ValorMinimoExtrato\")\n",
    "prevista = ['ValorMinimoExtrato']"
   ]
  },
  {
   "cell_type": "code",
   "execution_count": 147,
   "metadata": {},
   "outputs": [
    {
     "data": {
      "text/html": [
       "<div>\n",
       "<style scoped>\n",
       "    .dataframe tbody tr th:only-of-type {\n",
       "        vertical-align: middle;\n",
       "    }\n",
       "\n",
       "    .dataframe tbody tr th {\n",
       "        vertical-align: top;\n",
       "    }\n",
       "\n",
       "    .dataframe thead th {\n",
       "        text-align: right;\n",
       "    }\n",
       "</style>\n",
       "<table border=\"1\" class=\"dataframe\">\n",
       "  <thead>\n",
       "    <tr style=\"text-align: right;\">\n",
       "      <th></th>\n",
       "      <th>TarifasNacionais</th>\n",
       "      <th>ParcelasNaoFinanciaveis</th>\n",
       "      <th>SaldoAtualFinal</th>\n",
       "      <th>BaseCalculo</th>\n",
       "      <th>seguros</th>\n",
       "      <th>EncargosFinanciamento</th>\n",
       "      <th>DebitosRecorrentes</th>\n",
       "      <th>TotalComprasSaques</th>\n",
       "      <th>SaldoExtratoAnterior</th>\n",
       "      <th>ValorMinimoExtrato</th>\n",
       "      <th>valoriof</th>\n",
       "    </tr>\n",
       "  </thead>\n",
       "  <tbody>\n",
       "    <tr>\n",
       "      <th>0</th>\n",
       "      <td>0.0</td>\n",
       "      <td>0.0</td>\n",
       "      <td>554.88</td>\n",
       "      <td>-1072.56</td>\n",
       "      <td>0.0</td>\n",
       "      <td>0.0</td>\n",
       "      <td>0.0</td>\n",
       "      <td>1031.54</td>\n",
       "      <td>405.60</td>\n",
       "      <td>83.23</td>\n",
       "      <td>0.0</td>\n",
       "    </tr>\n",
       "    <tr>\n",
       "      <th>1</th>\n",
       "      <td>0.0</td>\n",
       "      <td>0.0</td>\n",
       "      <td>209.25</td>\n",
       "      <td>0.00</td>\n",
       "      <td>0.0</td>\n",
       "      <td>0.0</td>\n",
       "      <td>0.0</td>\n",
       "      <td>209.25</td>\n",
       "      <td>177.62</td>\n",
       "      <td>31.39</td>\n",
       "      <td>0.0</td>\n",
       "    </tr>\n",
       "  </tbody>\n",
       "</table>\n",
       "</div>"
      ],
      "text/plain": [
       "   TarifasNacionais  ParcelasNaoFinanciaveis  SaldoAtualFinal  BaseCalculo  \\\n",
       "0               0.0                      0.0           554.88     -1072.56   \n",
       "1               0.0                      0.0           209.25         0.00   \n",
       "\n",
       "   seguros  EncargosFinanciamento  DebitosRecorrentes  TotalComprasSaques  \\\n",
       "0      0.0                    0.0                 0.0             1031.54   \n",
       "1      0.0                    0.0                 0.0              209.25   \n",
       "\n",
       "   SaldoExtratoAnterior  ValorMinimoExtrato  valoriof  \n",
       "0                405.60               83.23       0.0  \n",
       "1                177.62               31.39       0.0  "
      ]
     },
     "execution_count": 147,
     "metadata": {},
     "output_type": "execute_result"
    }
   ],
   "source": [
    "df.head(2)"
   ]
  },
  {
   "cell_type": "code",
   "execution_count": 161,
   "metadata": {},
   "outputs": [],
   "source": [
    "# Seleção de variáveis preditoras (Feature Selection)\n",
    "atributos = preditoras\n",
    "# Variável a ser prevista\n",
    "atrib_prev = prevista\n",
    "\n",
    "# Criando objetos\n",
    "X = np.absolute(df[atributos].values)\n",
    "Y = df[atrib_prev].values"
   ]
  },
  {
   "cell_type": "code",
   "execution_count": 162,
   "metadata": {},
   "outputs": [
    {
     "data": {
      "text/plain": [
       "(15323, 10)"
      ]
     },
     "execution_count": 162,
     "metadata": {},
     "output_type": "execute_result"
    }
   ],
   "source": [
    "X.shape"
   ]
  },
  {
   "cell_type": "code",
   "execution_count": 163,
   "metadata": {},
   "outputs": [
    {
     "data": {
      "text/plain": [
       "(15323, 1)"
      ]
     },
     "execution_count": 163,
     "metadata": {},
     "output_type": "execute_result"
    }
   ],
   "source": [
    "Y.shape"
   ]
  },
  {
   "cell_type": "code",
   "execution_count": 164,
   "metadata": {},
   "outputs": [
    {
     "data": {
      "text/plain": [
       "0.9888902516768996"
      ]
     },
     "execution_count": 164,
     "metadata": {},
     "output_type": "execute_result"
    }
   ],
   "source": [
    "dtr_model.score(X,Y)"
   ]
  },
  {
   "cell_type": "code",
   "execution_count": 169,
   "metadata": {},
   "outputs": [
    {
     "name": "stdout",
     "output_type": "stream",
     "text": [
      "[DecisionTreeRegressor] - Total Real:  3127531.57\n",
      "[DecisionTreeRegressor] - Total Prev:  3118984.00\n",
      "[DecisionTreeRegressor] - Total Diff:  -8547.57\n",
      "[DecisionTreeRegressor] - Total Porcentagem de diferença do previsto x real:  0.27%\n"
     ]
    }
   ],
   "source": [
    "Y_Predict = dtr_model.predict(X)\n",
    "Y_Predict = Y_Predict.reshape(Y_Predict.shape[0],1)\n",
    "df_final = transformDataSet(Y_Predict, Y)\n",
    "getresultdataset(df_final, \"DecisionTreeRegressor\")"
   ]
  },
  {
   "cell_type": "code",
   "execution_count": null,
   "metadata": {},
   "outputs": [],
   "source": []
  }
 ],
 "metadata": {
  "kernelspec": {
   "display_name": "Python 3",
   "language": "python",
   "name": "python3"
  },
  "language_info": {
   "codemirror_mode": {
    "name": "ipython",
    "version": 3
   },
   "file_extension": ".py",
   "mimetype": "text/x-python",
   "name": "python",
   "nbconvert_exporter": "python",
   "pygments_lexer": "ipython3",
   "version": "3.7.6"
  }
 },
 "nbformat": 4,
 "nbformat_minor": 4
}
