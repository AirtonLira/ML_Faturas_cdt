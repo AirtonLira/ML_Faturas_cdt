{
 "cells": [
  {
   "cell_type": "code",
   "execution_count": 188,
   "metadata": {},
   "outputs": [],
   "source": [
    "import pandas as pd\n",
    "import numpy as np\n",
    "import import_ipynb\n",
    "import utils_cdt as cdtsql\n",
    "from datetime import datetime\n",
    "from datetime import date\n",
    "import plotly.express as px\n",
    "from pyspark.sql import SparkSession, Row\n",
    "from pyspark.sql import SQLContext\n",
    "from pyspark.sql.functions import *\n",
    "from pyspark.sql.types import *\n",
    "from pyspark.storagelevel import StorageLevel "
   ]
  },
  {
   "cell_type": "code",
   "execution_count": 189,
   "metadata": {},
   "outputs": [],
   "source": [
    "def normalizaDados(df, dia_em_corte):\n",
    "    df = df.round(2)\n",
    "    df = df.replace([np.inf, -np.inf], np.nan)\n",
    "    df = df.fillna(0)\n",
    "    df['DataVencimentoPadrao'] = pd.to_datetime(df.DataVencimentoPadrao, format=\"%d/%m/%Y\")\n",
    "    df['ano'] = df['DataVencimentoPadrao'].dt.year\n",
    "    df['mes'] = df['DataVencimentoPadrao'].dt.month\n",
    "    df['dia'] = df['DataVencimentoPadrao'].dt.day\n",
    "    df = df.loc[df.dia == dia_em_corte]\n",
    "    \n",
    "    df = df.loc[df.DataVencimentoPadrao != '2079-01-01']\n",
    "    return df"
   ]
  },
  {
   "cell_type": "code",
   "execution_count": 190,
   "metadata": {},
   "outputs": [],
   "source": [
    "def cache(self): \n",
    "    \"\"\" \n",
    "    Persist this RDD with the default storage level (C{MEMORY_ONLY_SER}). \n",
    "    \"\"\" \n",
    "    self.is_cached = True \n",
    "    self.persist(StorageLevel.MEMORY_ONLY_SER) \n",
    "    return self "
   ]
  },
  {
   "cell_type": "code",
   "execution_count": 191,
   "metadata": {},
   "outputs": [],
   "source": [
    "spark = SparkSession \\\n",
    "    .builder \\\n",
    "    .appName(\"Modelo - Spark\") \\\n",
    "    .config(\"spark.executor.memory\", \"4gb\") \\\n",
    "    .config(\"spark.driver.host\",\"127.0.0.1\") \\\n",
    "    .getOrCreate()\n",
    "\n",
    "sc = spark.sparkContext\n",
    "sc = SQLContext(sc)"
   ]
  },
  {
   "cell_type": "code",
   "execution_count": 192,
   "metadata": {},
   "outputs": [],
   "source": [
    "infoDataBases = {\"ip\":\"\",\n",
    "                 \"base\":\"\"}\n",
    "dia_em_corte = 5"
   ]
  },
  {
   "cell_type": "code",
   "execution_count": 193,
   "metadata": {},
   "outputs": [
    {
     "name": "stdout",
     "output_type": "stream",
     "text": [
      "arquivoExiste\n"
     ]
    }
   ],
   "source": [
    "emissor = infoDataBases[\"base\"]\n",
    "consulta = cdtsql.resultQuery(\"transacoescorrentes.sql\")\n",
    "inicio = '2020-01-01' \n",
    "fim = '2020-02-28'\n",
    "consulta = consulta.format(inicio = inicio, fim = fim)\n",
    "df_transacoescorrentes = cdtsql.extrairDados(infoDataBases,consulta,\n",
    "                                            path=\"../data/transacoescorrentes/\",\n",
    "                                            arquivo=f\"transacoescorrentes_{emissor}\",\n",
    "                                            spark=False,objSpark=None)"
   ]
  },
  {
   "cell_type": "code",
   "execution_count": 194,
   "metadata": {},
   "outputs": [],
   "source": [
    "df = normalizaDados(df_transacoescorrentes,dia_em_corte)\n",
    "df_spark = spark.createDataFrame(df)"
   ]
  },
  {
   "cell_type": "code",
   "execution_count": 195,
   "metadata": {},
   "outputs": [],
   "source": [
    "# Atribui em memoria o novo dataset.\n",
    "dados = cache(df_spark)\n",
    "\n",
    "# Registra dataset como tabela do SQL.\n",
    "dados.registerTempTable(\"dados\")"
   ]
  },
  {
   "cell_type": "code",
   "execution_count": 196,
   "metadata": {},
   "outputs": [],
   "source": [
    "codigo_cred = f\"\"\"SELECT *\n",
    "            FROM dados\n",
    "            WHERE\n",
    "            SaldoAtualFinal = -1 AND\n",
    "            DAY(DataVencimentoPadrao) = '{dia_em_corte}'\n",
    "\"\"\"\n",
    "\n",
    "codigo_deb = f\"\"\"SELECT *\n",
    "            FROM dados\n",
    "            WHERE\n",
    "            SaldoAtualFinal = 1 AND\n",
    "            (Nome LIKE '%seguro%' OR Nome LIKE '%seg%' OR Nome Like '%IOF%') AND\n",
    "            DAY(DataVencimentoPadrao) = '{dia_em_corte}'\n",
    "\"\"\"\n"
   ]
  },
  {
   "cell_type": "code",
   "execution_count": 197,
   "metadata": {},
   "outputs": [],
   "source": [
    "credito = sc.sql(codigo_cred)\n",
    "# Registra dataset como tabela do SQL.\n",
    "credito.registerTempTable(\"credito\")\n",
    "\n",
    "debito = sc.sql(codigo_deb)\n",
    "# Registra dataset como tabela do SQL.\n",
    "debito.registerTempTable(\"debito\")"
   ]
  },
  {
   "cell_type": "code",
   "execution_count": 198,
   "metadata": {},
   "outputs": [
    {
     "name": "stdout",
     "output_type": "stream",
     "text": [
      "+----------------+--------------------+--------------------+---------------+---------+---------+----+---+---+\n",
      "|Id_tipoTransacao|                Nome|DataVencimentoPadrao|SaldoAtualFinal|    total|registros| ano|mes|dia|\n",
      "+----------------+--------------------+--------------------+---------------+---------+---------+----+---+---+\n",
      "|             117|        IOF ROTATIVO| 2020-03-05 00:00:00|            1.0|181769.56|   107562|2020|  3|  5|\n",
      "|             117|        IOF ROTATIVO| 2020-02-05 00:00:00|            1.0|167729.44|   105155|2020|  2|  5|\n",
      "|             461|IOF TRANSACOES EX...| 2020-03-05 00:00:00|            1.0|   908.72|       92|2020|  3|  5|\n",
      "|             591|   IOF ACORDO CRELIQ| 2020-03-05 00:00:00|            1.0|217218.81|     8300|2020|  3|  5|\n",
      "+----------------+--------------------+--------------------+---------------+---------+---------+----+---+---+\n",
      "only showing top 4 rows\n",
      "\n"
     ]
    }
   ],
   "source": [
    "debito.show(4)"
   ]
  },
  {
   "cell_type": "code",
   "execution_count": 199,
   "metadata": {},
   "outputs": [],
   "source": [
    "mdStd_credito = f\"\"\"\n",
    "\n",
    "            SELECT \n",
    "            Id_TipoTransacao,\n",
    "            Nome,\n",
    "            ROUND(SUM(total),2) as total,\n",
    "            ROUND(AVG(total),2) as media,\n",
    "            ROUND(STD(total),2) as desviopadrao\n",
    "            FROM credito\n",
    "            GROUP BY Id_TipoTransacao, Nome\n",
    "\n",
    "\"\"\"\n",
    "mdStd_credito = sc.sql(mdStd_credito)\n",
    "# Registra dataset como tabela do SQL.\n",
    "mdStd_credito.registerTempTable(\"mdstd_credito\")"
   ]
  },
  {
   "cell_type": "code",
   "execution_count": 200,
   "metadata": {},
   "outputs": [],
   "source": [
    "mdStd_debito = f\"\"\"\n",
    "\n",
    "            SELECT \n",
    "            Id_TipoTransacao,\n",
    "            Nome,\n",
    "            ROUND(SUM(total),2) as total,\n",
    "            ROUND(AVG(total),2) as media,\n",
    "            ROUND(STD(total),2) as desviopadrao\n",
    "            FROM debito\n",
    "            GROUP BY Id_TipoTransacao, Nome\n",
    "\n",
    "\"\"\"\n",
    "mdStd_debito = sc.sql(mdStd_debito)\n",
    "# Registra dataset como tabela do SQL.\n",
    "mdStd_debito.registerTempTable(\"mdstd_debito\")"
   ]
  },
  {
   "cell_type": "code",
   "execution_count": 201,
   "metadata": {},
   "outputs": [
    {
     "name": "stdout",
     "output_type": "stream",
     "text": [
      "+----------------+--------------------+---------+---------+------------+\n",
      "|Id_TipoTransacao|                Nome|    total|    media|desviopadrao|\n",
      "+----------------+--------------------+---------+---------+------------+\n",
      "|             609|       DEBITO DE IOF|396597.94|132199.31|   104277.12|\n",
      "|            9807|Microsseguro de D...|383564.17|127854.72|   115012.62|\n",
      "|            9801| Microsseguro Mulher|363330.01| 121110.0|   107178.67|\n",
      "|             593|IOF SOBRE ACORDO ...| 12759.21|  4253.07|     3065.11|\n",
      "|             591|   IOF ACORDO CRELIQ|482558.65|160852.88|   114335.39|\n",
      "|             746|IOF SUGESTAO FINA...|  9548.19|  4774.09|      517.04|\n",
      "|             117|        IOF ROTATIVO| 349499.0| 174749.5|     9927.86|\n",
      "|             461|IOF TRANSACOES EX...|  1657.64|   828.82|       113.0|\n",
      "+----------------+--------------------+---------+---------+------------+\n",
      "\n"
     ]
    }
   ],
   "source": [
    "mdStd_debito.show(20)"
   ]
  },
  {
   "cell_type": "code",
   "execution_count": 202,
   "metadata": {},
   "outputs": [],
   "source": [
    "finalcredito = f\"\"\"\n",
    "        SELECT \n",
    "        A.*,\n",
    "        (A.total - B.media) / b.desviopadrao AS zscore\n",
    "        FROM credito AS A\n",
    "        INNER JOIN mdstd_credito AS B ON (B.Id_TipoTransacao = A.Id_TipoTransacao)\n",
    "\"\"\"\n",
    "finalcredito = sc.sql(finalcredito)\n",
    "# Registra dataset como tabela do SQL.\n",
    "finalcredito.registerTempTable(\"finalcredito\")"
   ]
  },
  {
   "cell_type": "code",
   "execution_count": 203,
   "metadata": {},
   "outputs": [],
   "source": [
    "finalcredito = finalcredito.toPandas()"
   ]
  },
  {
   "cell_type": "code",
   "execution_count": 204,
   "metadata": {},
   "outputs": [],
   "source": [
    "finaldebito = f\"\"\"\n",
    "        SELECT \n",
    "        A.*,\n",
    "        (A.total - B.media) / b.desviopadrao AS zscore\n",
    "        FROM debito AS A\n",
    "        INNER JOIN mdstd_debito AS B ON (B.Id_TipoTransacao = A.Id_TipoTransacao)\n",
    "\"\"\"\n",
    "finaldebito = sc.sql(finaldebito)\n",
    "# Registra dataset como tabela do SQL.\n",
    "finaldebito.registerTempTable(\"finaldebito\")"
   ]
  },
  {
   "cell_type": "code",
   "execution_count": 205,
   "metadata": {},
   "outputs": [],
   "source": [
    "finaldebito = finaldebito.toPandas()"
   ]
  },
  {
   "cell_type": "code",
   "execution_count": 212,
   "metadata": {},
   "outputs": [
    {
     "data": {
      "text/plain": [
       "21"
      ]
     },
     "execution_count": 212,
     "metadata": {},
     "output_type": "execute_result"
    }
   ],
   "source": [
    "finaldebito.ano.count()"
   ]
  },
  {
   "cell_type": "code",
   "execution_count": 206,
   "metadata": {},
   "outputs": [
    {
     "data": {
      "text/html": [
       "<div>\n",
       "<style scoped>\n",
       "    .dataframe tbody tr th:only-of-type {\n",
       "        vertical-align: middle;\n",
       "    }\n",
       "\n",
       "    .dataframe tbody tr th {\n",
       "        vertical-align: top;\n",
       "    }\n",
       "\n",
       "    .dataframe thead th {\n",
       "        text-align: right;\n",
       "    }\n",
       "</style>\n",
       "<table border=\"1\" class=\"dataframe\">\n",
       "  <thead>\n",
       "    <tr style=\"text-align: right;\">\n",
       "      <th></th>\n",
       "      <th>Id_tipoTransacao</th>\n",
       "      <th>Nome</th>\n",
       "      <th>DataVencimentoPadrao</th>\n",
       "      <th>SaldoAtualFinal</th>\n",
       "      <th>total</th>\n",
       "      <th>registros</th>\n",
       "      <th>ano</th>\n",
       "      <th>mes</th>\n",
       "      <th>dia</th>\n",
       "      <th>zscore</th>\n",
       "    </tr>\n",
       "  </thead>\n",
       "  <tbody>\n",
       "    <tr>\n",
       "      <th>13</th>\n",
       "      <td>591</td>\n",
       "      <td>IOF ACORDO CRELIQ</td>\n",
       "      <td>2020-04-05</td>\n",
       "      <td>1.0</td>\n",
       "      <td>29278.71</td>\n",
       "      <td>1017</td>\n",
       "      <td>2020</td>\n",
       "      <td>4</td>\n",
       "      <td>5</td>\n",
       "      <td>-1.150774</td>\n",
       "    </tr>\n",
       "    <tr>\n",
       "      <th>9</th>\n",
       "      <td>609</td>\n",
       "      <td>DEBITO DE IOF</td>\n",
       "      <td>2020-04-05</td>\n",
       "      <td>1.0</td>\n",
       "      <td>12865.34</td>\n",
       "      <td>550</td>\n",
       "      <td>2020</td>\n",
       "      <td>4</td>\n",
       "      <td>5</td>\n",
       "      <td>-1.144393</td>\n",
       "    </tr>\n",
       "    <tr>\n",
       "      <th>6</th>\n",
       "      <td>593</td>\n",
       "      <td>IOF SOBRE ACORDO PERDA</td>\n",
       "      <td>2020-04-05</td>\n",
       "      <td>1.0</td>\n",
       "      <td>786.04</td>\n",
       "      <td>46</td>\n",
       "      <td>2020</td>\n",
       "      <td>4</td>\n",
       "      <td>5</td>\n",
       "      <td>-1.131127</td>\n",
       "    </tr>\n",
       "    <tr>\n",
       "      <th>16</th>\n",
       "      <td>9801</td>\n",
       "      <td>Microsseguro Mulher</td>\n",
       "      <td>2020-04-05</td>\n",
       "      <td>1.0</td>\n",
       "      <td>43.98</td>\n",
       "      <td>2</td>\n",
       "      <td>2020</td>\n",
       "      <td>4</td>\n",
       "      <td>5</td>\n",
       "      <td>-1.129572</td>\n",
       "    </tr>\n",
       "    <tr>\n",
       "      <th>20</th>\n",
       "      <td>9807</td>\n",
       "      <td>Microsseguro de Danos Residencial e de Pessoas</td>\n",
       "      <td>2020-04-05</td>\n",
       "      <td>1.0</td>\n",
       "      <td>13.99</td>\n",
       "      <td>1</td>\n",
       "      <td>2020</td>\n",
       "      <td>4</td>\n",
       "      <td>5</td>\n",
       "      <td>-1.111537</td>\n",
       "    </tr>\n",
       "    <tr>\n",
       "      <th>1</th>\n",
       "      <td>117</td>\n",
       "      <td>IOF ROTATIVO</td>\n",
       "      <td>2020-02-05</td>\n",
       "      <td>1.0</td>\n",
       "      <td>167729.44</td>\n",
       "      <td>105155</td>\n",
       "      <td>2020</td>\n",
       "      <td>2</td>\n",
       "      <td>5</td>\n",
       "      <td>-0.707107</td>\n",
       "    </tr>\n",
       "    <tr>\n",
       "      <th>14</th>\n",
       "      <td>746</td>\n",
       "      <td>IOF SUGESTAO FINANCIAMENTO</td>\n",
       "      <td>2020-02-05</td>\n",
       "      <td>1.0</td>\n",
       "      <td>4408.49</td>\n",
       "      <td>359</td>\n",
       "      <td>2020</td>\n",
       "      <td>2</td>\n",
       "      <td>5</td>\n",
       "      <td>-0.707102</td>\n",
       "    </tr>\n",
       "    <tr>\n",
       "      <th>11</th>\n",
       "      <td>461</td>\n",
       "      <td>IOF TRANSACOES EXTERIOR R$</td>\n",
       "      <td>2020-02-05</td>\n",
       "      <td>1.0</td>\n",
       "      <td>748.92</td>\n",
       "      <td>98</td>\n",
       "      <td>2020</td>\n",
       "      <td>2</td>\n",
       "      <td>5</td>\n",
       "      <td>-0.707080</td>\n",
       "    </tr>\n",
       "    <tr>\n",
       "      <th>17</th>\n",
       "      <td>9807</td>\n",
       "      <td>Microsseguro de Danos Residencial e de Pessoas</td>\n",
       "      <td>2020-03-05</td>\n",
       "      <td>1.0</td>\n",
       "      <td>160622.84</td>\n",
       "      <td>11600</td>\n",
       "      <td>2020</td>\n",
       "      <td>3</td>\n",
       "      <td>5</td>\n",
       "      <td>0.284909</td>\n",
       "    </tr>\n",
       "    <tr>\n",
       "      <th>18</th>\n",
       "      <td>9801</td>\n",
       "      <td>Microsseguro Mulher</td>\n",
       "      <td>2020-03-05</td>\n",
       "      <td>1.0</td>\n",
       "      <td>159404.95</td>\n",
       "      <td>7283</td>\n",
       "      <td>2020</td>\n",
       "      <td>3</td>\n",
       "      <td>5</td>\n",
       "      <td>0.357300</td>\n",
       "    </tr>\n",
       "    <tr>\n",
       "      <th>4</th>\n",
       "      <td>593</td>\n",
       "      <td>IOF SOBRE ACORDO PERDA</td>\n",
       "      <td>2020-02-05</td>\n",
       "      <td>1.0</td>\n",
       "      <td>5370.41</td>\n",
       "      <td>342</td>\n",
       "      <td>2020</td>\n",
       "      <td>2</td>\n",
       "      <td>5</td>\n",
       "      <td>0.364535</td>\n",
       "    </tr>\n",
       "    <tr>\n",
       "      <th>7</th>\n",
       "      <td>609</td>\n",
       "      <td>DEBITO DE IOF</td>\n",
       "      <td>2020-02-05</td>\n",
       "      <td>1.0</td>\n",
       "      <td>177964.17</td>\n",
       "      <td>21639</td>\n",
       "      <td>2020</td>\n",
       "      <td>2</td>\n",
       "      <td>5</td>\n",
       "      <td>0.438877</td>\n",
       "    </tr>\n",
       "    <tr>\n",
       "      <th>3</th>\n",
       "      <td>591</td>\n",
       "      <td>IOF ACORDO CRELIQ</td>\n",
       "      <td>2020-03-05</td>\n",
       "      <td>1.0</td>\n",
       "      <td>217218.81</td>\n",
       "      <td>8300</td>\n",
       "      <td>2020</td>\n",
       "      <td>3</td>\n",
       "      <td>5</td>\n",
       "      <td>0.492988</td>\n",
       "    </tr>\n",
       "    <tr>\n",
       "      <th>12</th>\n",
       "      <td>591</td>\n",
       "      <td>IOF ACORDO CRELIQ</td>\n",
       "      <td>2020-02-05</td>\n",
       "      <td>1.0</td>\n",
       "      <td>236061.13</td>\n",
       "      <td>9378</td>\n",
       "      <td>2020</td>\n",
       "      <td>2</td>\n",
       "      <td>5</td>\n",
       "      <td>0.657786</td>\n",
       "    </tr>\n",
       "    <tr>\n",
       "      <th>8</th>\n",
       "      <td>609</td>\n",
       "      <td>DEBITO DE IOF</td>\n",
       "      <td>2020-03-05</td>\n",
       "      <td>1.0</td>\n",
       "      <td>205768.43</td>\n",
       "      <td>18819</td>\n",
       "      <td>2020</td>\n",
       "      <td>3</td>\n",
       "      <td>5</td>\n",
       "      <td>0.705515</td>\n",
       "    </tr>\n",
       "    <tr>\n",
       "      <th>2</th>\n",
       "      <td>461</td>\n",
       "      <td>IOF TRANSACOES EXTERIOR R$</td>\n",
       "      <td>2020-03-05</td>\n",
       "      <td>1.0</td>\n",
       "      <td>908.72</td>\n",
       "      <td>92</td>\n",
       "      <td>2020</td>\n",
       "      <td>3</td>\n",
       "      <td>5</td>\n",
       "      <td>0.707080</td>\n",
       "    </tr>\n",
       "    <tr>\n",
       "      <th>0</th>\n",
       "      <td>117</td>\n",
       "      <td>IOF ROTATIVO</td>\n",
       "      <td>2020-03-05</td>\n",
       "      <td>1.0</td>\n",
       "      <td>181769.56</td>\n",
       "      <td>107562</td>\n",
       "      <td>2020</td>\n",
       "      <td>3</td>\n",
       "      <td>5</td>\n",
       "      <td>0.707107</td>\n",
       "    </tr>\n",
       "    <tr>\n",
       "      <th>10</th>\n",
       "      <td>746</td>\n",
       "      <td>IOF SUGESTAO FINANCIAMENTO</td>\n",
       "      <td>2020-03-05</td>\n",
       "      <td>1.0</td>\n",
       "      <td>5139.70</td>\n",
       "      <td>414</td>\n",
       "      <td>2020</td>\n",
       "      <td>3</td>\n",
       "      <td>5</td>\n",
       "      <td>0.707121</td>\n",
       "    </tr>\n",
       "    <tr>\n",
       "      <th>5</th>\n",
       "      <td>593</td>\n",
       "      <td>IOF SOBRE ACORDO PERDA</td>\n",
       "      <td>2020-03-05</td>\n",
       "      <td>1.0</td>\n",
       "      <td>6602.76</td>\n",
       "      <td>402</td>\n",
       "      <td>2020</td>\n",
       "      <td>3</td>\n",
       "      <td>5</td>\n",
       "      <td>0.766592</td>\n",
       "    </tr>\n",
       "    <tr>\n",
       "      <th>15</th>\n",
       "      <td>9801</td>\n",
       "      <td>Microsseguro Mulher</td>\n",
       "      <td>2020-02-05</td>\n",
       "      <td>1.0</td>\n",
       "      <td>203881.08</td>\n",
       "      <td>9324</td>\n",
       "      <td>2020</td>\n",
       "      <td>2</td>\n",
       "      <td>5</td>\n",
       "      <td>0.772272</td>\n",
       "    </tr>\n",
       "    <tr>\n",
       "      <th>19</th>\n",
       "      <td>9807</td>\n",
       "      <td>Microsseguro de Danos Residencial e de Pessoas</td>\n",
       "      <td>2020-02-05</td>\n",
       "      <td>1.0</td>\n",
       "      <td>222927.34</td>\n",
       "      <td>16129</td>\n",
       "      <td>2020</td>\n",
       "      <td>2</td>\n",
       "      <td>5</td>\n",
       "      <td>0.826628</td>\n",
       "    </tr>\n",
       "  </tbody>\n",
       "</table>\n",
       "</div>"
      ],
      "text/plain": [
       "    Id_tipoTransacao                                            Nome  \\\n",
       "13               591                               IOF ACORDO CRELIQ   \n",
       "9                609                                   DEBITO DE IOF   \n",
       "6                593                          IOF SOBRE ACORDO PERDA   \n",
       "16              9801                             Microsseguro Mulher   \n",
       "20              9807  Microsseguro de Danos Residencial e de Pessoas   \n",
       "1                117                                    IOF ROTATIVO   \n",
       "14               746                      IOF SUGESTAO FINANCIAMENTO   \n",
       "11               461                      IOF TRANSACOES EXTERIOR R$   \n",
       "17              9807  Microsseguro de Danos Residencial e de Pessoas   \n",
       "18              9801                             Microsseguro Mulher   \n",
       "4                593                          IOF SOBRE ACORDO PERDA   \n",
       "7                609                                   DEBITO DE IOF   \n",
       "3                591                               IOF ACORDO CRELIQ   \n",
       "12               591                               IOF ACORDO CRELIQ   \n",
       "8                609                                   DEBITO DE IOF   \n",
       "2                461                      IOF TRANSACOES EXTERIOR R$   \n",
       "0                117                                    IOF ROTATIVO   \n",
       "10               746                      IOF SUGESTAO FINANCIAMENTO   \n",
       "5                593                          IOF SOBRE ACORDO PERDA   \n",
       "15              9801                             Microsseguro Mulher   \n",
       "19              9807  Microsseguro de Danos Residencial e de Pessoas   \n",
       "\n",
       "   DataVencimentoPadrao  SaldoAtualFinal      total  registros   ano  mes  \\\n",
       "13           2020-04-05              1.0   29278.71       1017  2020    4   \n",
       "9            2020-04-05              1.0   12865.34        550  2020    4   \n",
       "6            2020-04-05              1.0     786.04         46  2020    4   \n",
       "16           2020-04-05              1.0      43.98          2  2020    4   \n",
       "20           2020-04-05              1.0      13.99          1  2020    4   \n",
       "1            2020-02-05              1.0  167729.44     105155  2020    2   \n",
       "14           2020-02-05              1.0    4408.49        359  2020    2   \n",
       "11           2020-02-05              1.0     748.92         98  2020    2   \n",
       "17           2020-03-05              1.0  160622.84      11600  2020    3   \n",
       "18           2020-03-05              1.0  159404.95       7283  2020    3   \n",
       "4            2020-02-05              1.0    5370.41        342  2020    2   \n",
       "7            2020-02-05              1.0  177964.17      21639  2020    2   \n",
       "3            2020-03-05              1.0  217218.81       8300  2020    3   \n",
       "12           2020-02-05              1.0  236061.13       9378  2020    2   \n",
       "8            2020-03-05              1.0  205768.43      18819  2020    3   \n",
       "2            2020-03-05              1.0     908.72         92  2020    3   \n",
       "0            2020-03-05              1.0  181769.56     107562  2020    3   \n",
       "10           2020-03-05              1.0    5139.70        414  2020    3   \n",
       "5            2020-03-05              1.0    6602.76        402  2020    3   \n",
       "15           2020-02-05              1.0  203881.08       9324  2020    2   \n",
       "19           2020-02-05              1.0  222927.34      16129  2020    2   \n",
       "\n",
       "    dia    zscore  \n",
       "13    5 -1.150774  \n",
       "9     5 -1.144393  \n",
       "6     5 -1.131127  \n",
       "16    5 -1.129572  \n",
       "20    5 -1.111537  \n",
       "1     5 -0.707107  \n",
       "14    5 -0.707102  \n",
       "11    5 -0.707080  \n",
       "17    5  0.284909  \n",
       "18    5  0.357300  \n",
       "4     5  0.364535  \n",
       "7     5  0.438877  \n",
       "3     5  0.492988  \n",
       "12    5  0.657786  \n",
       "8     5  0.705515  \n",
       "2     5  0.707080  \n",
       "0     5  0.707107  \n",
       "10    5  0.707121  \n",
       "5     5  0.766592  \n",
       "15    5  0.772272  \n",
       "19    5  0.826628  "
      ]
     },
     "execution_count": 206,
     "metadata": {},
     "output_type": "execute_result"
    }
   ],
   "source": [
    "finaldebito.sort_values('zscore', ascending=True).head(40)"
   ]
  },
  {
   "cell_type": "code",
   "execution_count": 209,
   "metadata": {},
   "outputs": [
    {
     "data": {
      "text/html": [
       "<div>\n",
       "<style scoped>\n",
       "    .dataframe tbody tr th:only-of-type {\n",
       "        vertical-align: middle;\n",
       "    }\n",
       "\n",
       "    .dataframe tbody tr th {\n",
       "        vertical-align: top;\n",
       "    }\n",
       "\n",
       "    .dataframe thead th {\n",
       "        text-align: right;\n",
       "    }\n",
       "</style>\n",
       "<table border=\"1\" class=\"dataframe\">\n",
       "  <thead>\n",
       "    <tr style=\"text-align: right;\">\n",
       "      <th></th>\n",
       "      <th>Id_tipoTransacao</th>\n",
       "      <th>Nome</th>\n",
       "      <th>DataVencimentoPadrao</th>\n",
       "      <th>SaldoAtualFinal</th>\n",
       "      <th>total</th>\n",
       "      <th>registros</th>\n",
       "      <th>ano</th>\n",
       "      <th>mes</th>\n",
       "      <th>dia</th>\n",
       "      <th>zscore</th>\n",
       "    </tr>\n",
       "  </thead>\n",
       "  <tbody>\n",
       "    <tr>\n",
       "      <th>4</th>\n",
       "      <td>593</td>\n",
       "      <td>IOF SOBRE ACORDO PERDA</td>\n",
       "      <td>2020-02-05</td>\n",
       "      <td>1.0</td>\n",
       "      <td>5370.41</td>\n",
       "      <td>342</td>\n",
       "      <td>2020</td>\n",
       "      <td>2</td>\n",
       "      <td>5</td>\n",
       "      <td>0.364535</td>\n",
       "    </tr>\n",
       "    <tr>\n",
       "      <th>5</th>\n",
       "      <td>593</td>\n",
       "      <td>IOF SOBRE ACORDO PERDA</td>\n",
       "      <td>2020-03-05</td>\n",
       "      <td>1.0</td>\n",
       "      <td>6602.76</td>\n",
       "      <td>402</td>\n",
       "      <td>2020</td>\n",
       "      <td>3</td>\n",
       "      <td>5</td>\n",
       "      <td>0.766592</td>\n",
       "    </tr>\n",
       "    <tr>\n",
       "      <th>6</th>\n",
       "      <td>593</td>\n",
       "      <td>IOF SOBRE ACORDO PERDA</td>\n",
       "      <td>2020-04-05</td>\n",
       "      <td>1.0</td>\n",
       "      <td>786.04</td>\n",
       "      <td>46</td>\n",
       "      <td>2020</td>\n",
       "      <td>4</td>\n",
       "      <td>5</td>\n",
       "      <td>-1.131127</td>\n",
       "    </tr>\n",
       "  </tbody>\n",
       "</table>\n",
       "</div>"
      ],
      "text/plain": [
       "   Id_tipoTransacao                    Nome DataVencimentoPadrao  \\\n",
       "4               593  IOF SOBRE ACORDO PERDA           2020-02-05   \n",
       "5               593  IOF SOBRE ACORDO PERDA           2020-03-05   \n",
       "6               593  IOF SOBRE ACORDO PERDA           2020-04-05   \n",
       "\n",
       "   SaldoAtualFinal    total  registros   ano  mes  dia    zscore  \n",
       "4              1.0  5370.41        342  2020    2    5  0.364535  \n",
       "5              1.0  6602.76        402  2020    3    5  0.766592  \n",
       "6              1.0   786.04         46  2020    4    5 -1.131127  "
      ]
     },
     "execution_count": 209,
     "metadata": {},
     "output_type": "execute_result"
    }
   ],
   "source": [
    "finaldebito.loc[finaldebito.Id_tipoTransacao == 593]"
   ]
  },
  {
   "cell_type": "code",
   "execution_count": 210,
   "metadata": {},
   "outputs": [
    {
     "data": {
      "application/vnd.plotly.v1+json": {
       "config": {
        "plotlyServerURL": "https://plot.ly"
       },
       "data": [
        {
         "hovertemplate": "Nome=IOF ROTATIVO<br>zscore=%{x}<extra></extra>",
         "legendgroup": "IOF ROTATIVO",
         "marker": {
          "color": "#636efa",
          "symbol": "circle"
         },
         "mode": "markers",
         "name": "IOF ROTATIVO",
         "showlegend": true,
         "type": "scatter",
         "visible": "legendonly",
         "x": [
          0.7071070704059079,
          -0.7071070704059079
         ],
         "xaxis": "x",
         "yaxis": "y"
        },
        {
         "hovertemplate": "Nome=IOF TRANSACOES EXTERIOR R$<br>zscore=%{x}<extra></extra>",
         "legendgroup": "IOF TRANSACOES EXTERIOR R$",
         "marker": {
          "color": "#EF553B",
          "symbol": "circle"
         },
         "mode": "markers",
         "name": "IOF TRANSACOES EXTERIOR R$",
         "showlegend": true,
         "type": "scatter",
         "visible": "legendonly",
         "x": [
          0.7070796460176989,
          -0.7070796460176999
         ],
         "xaxis": "x",
         "yaxis": "y"
        },
        {
         "hovertemplate": "Nome=IOF ACORDO CRELIQ<br>zscore=%{x}<extra></extra>",
         "legendgroup": "IOF ACORDO CRELIQ",
         "marker": {
          "color": "#00cc96",
          "symbol": "circle"
         },
         "mode": "markers",
         "name": "IOF ACORDO CRELIQ",
         "showlegend": true,
         "type": "scatter",
         "visible": "legendonly",
         "x": [
          0.49298760427545657,
          0.6577862724743406,
          -1.1507737892878138
         ],
         "xaxis": "x",
         "yaxis": "y"
        },
        {
         "hovertemplate": "Nome=IOF SOBRE ACORDO PERDA<br>zscore=%{x}<extra></extra>",
         "legendgroup": "IOF SOBRE ACORDO PERDA",
         "marker": {
          "color": "#ab63fa",
          "symbol": "circle"
         },
         "mode": "markers",
         "name": "IOF SOBRE ACORDO PERDA",
         "showlegend": true,
         "type": "scatter",
         "visible": true,
         "x": [
          0.3645350411567611,
          0.7665923898326652,
          -1.131127430989426
         ],
         "xaxis": "x",
         "yaxis": "y"
        },
        {
         "hovertemplate": "Nome=DEBITO DE IOF<br>zscore=%{x}<extra></extra>",
         "legendgroup": "DEBITO DE IOF",
         "marker": {
          "color": "#FFA15A",
          "symbol": "circle"
         },
         "mode": "markers",
         "name": "DEBITO DE IOF",
         "showlegend": true,
         "type": "scatter",
         "visible": "legendonly",
         "x": [
          0.4388772915861123,
          0.7055154572738488,
          -1.1443926529616468
         ],
         "xaxis": "x",
         "yaxis": "y"
        },
        {
         "hovertemplate": "Nome=IOF SUGESTAO FINANCIAMENTO<br>zscore=%{x}<extra></extra>",
         "legendgroup": "IOF SUGESTAO FINANCIAMENTO",
         "marker": {
          "color": "#19d3f3",
          "symbol": "circle"
         },
         "mode": "markers",
         "name": "IOF SUGESTAO FINANCIAMENTO",
         "showlegend": true,
         "type": "scatter",
         "visible": "legendonly",
         "x": [
          0.7071213058950946,
          -0.7071019650317197
         ],
         "xaxis": "x",
         "yaxis": "y"
        },
        {
         "hovertemplate": "Nome=Microsseguro Mulher<br>zscore=%{x}<extra></extra>",
         "legendgroup": "Microsseguro Mulher",
         "marker": {
          "color": "#FF6692",
          "symbol": "circle"
         },
         "mode": "markers",
         "name": "Microsseguro Mulher",
         "showlegend": true,
         "type": "scatter",
         "visible": "legendonly",
         "x": [
          0.7722719455279673,
          -1.129571956808197,
          0.35730010458237643
         ],
         "xaxis": "x",
         "yaxis": "y"
        },
        {
         "hovertemplate": "Nome=Microsseguro de Danos Residencial e de Pessoas<br>zscore=%{x}<extra></extra>",
         "legendgroup": "Microsseguro de Danos Residencial e de Pessoas",
         "marker": {
          "color": "#B6E880",
          "symbol": "circle"
         },
         "mode": "markers",
         "name": "Microsseguro de Danos Residencial e de Pessoas",
         "showlegend": true,
         "type": "scatter",
         "visible": "legendonly",
         "x": [
          0.28490890825719817,
          0.8266277213752716,
          -1.1115365426854897
         ],
         "xaxis": "x",
         "yaxis": "y"
        }
       ],
       "layout": {
        "autosize": true,
        "legend": {
         "title": {
          "text": "Nome"
         },
         "tracegroupgap": 0
        },
        "margin": {
         "t": 60
        },
        "template": {
         "data": {
          "bar": [
           {
            "error_x": {
             "color": "#2a3f5f"
            },
            "error_y": {
             "color": "#2a3f5f"
            },
            "marker": {
             "line": {
              "color": "#E5ECF6",
              "width": 0.5
             }
            },
            "type": "bar"
           }
          ],
          "barpolar": [
           {
            "marker": {
             "line": {
              "color": "#E5ECF6",
              "width": 0.5
             }
            },
            "type": "barpolar"
           }
          ],
          "carpet": [
           {
            "aaxis": {
             "endlinecolor": "#2a3f5f",
             "gridcolor": "white",
             "linecolor": "white",
             "minorgridcolor": "white",
             "startlinecolor": "#2a3f5f"
            },
            "baxis": {
             "endlinecolor": "#2a3f5f",
             "gridcolor": "white",
             "linecolor": "white",
             "minorgridcolor": "white",
             "startlinecolor": "#2a3f5f"
            },
            "type": "carpet"
           }
          ],
          "choropleth": [
           {
            "colorbar": {
             "outlinewidth": 0,
             "ticks": ""
            },
            "type": "choropleth"
           }
          ],
          "contour": [
           {
            "colorbar": {
             "outlinewidth": 0,
             "ticks": ""
            },
            "colorscale": [
             [
              0,
              "#0d0887"
             ],
             [
              0.1111111111111111,
              "#46039f"
             ],
             [
              0.2222222222222222,
              "#7201a8"
             ],
             [
              0.3333333333333333,
              "#9c179e"
             ],
             [
              0.4444444444444444,
              "#bd3786"
             ],
             [
              0.5555555555555556,
              "#d8576b"
             ],
             [
              0.6666666666666666,
              "#ed7953"
             ],
             [
              0.7777777777777778,
              "#fb9f3a"
             ],
             [
              0.8888888888888888,
              "#fdca26"
             ],
             [
              1,
              "#f0f921"
             ]
            ],
            "type": "contour"
           }
          ],
          "contourcarpet": [
           {
            "colorbar": {
             "outlinewidth": 0,
             "ticks": ""
            },
            "type": "contourcarpet"
           }
          ],
          "heatmap": [
           {
            "colorbar": {
             "outlinewidth": 0,
             "ticks": ""
            },
            "colorscale": [
             [
              0,
              "#0d0887"
             ],
             [
              0.1111111111111111,
              "#46039f"
             ],
             [
              0.2222222222222222,
              "#7201a8"
             ],
             [
              0.3333333333333333,
              "#9c179e"
             ],
             [
              0.4444444444444444,
              "#bd3786"
             ],
             [
              0.5555555555555556,
              "#d8576b"
             ],
             [
              0.6666666666666666,
              "#ed7953"
             ],
             [
              0.7777777777777778,
              "#fb9f3a"
             ],
             [
              0.8888888888888888,
              "#fdca26"
             ],
             [
              1,
              "#f0f921"
             ]
            ],
            "type": "heatmap"
           }
          ],
          "heatmapgl": [
           {
            "colorbar": {
             "outlinewidth": 0,
             "ticks": ""
            },
            "colorscale": [
             [
              0,
              "#0d0887"
             ],
             [
              0.1111111111111111,
              "#46039f"
             ],
             [
              0.2222222222222222,
              "#7201a8"
             ],
             [
              0.3333333333333333,
              "#9c179e"
             ],
             [
              0.4444444444444444,
              "#bd3786"
             ],
             [
              0.5555555555555556,
              "#d8576b"
             ],
             [
              0.6666666666666666,
              "#ed7953"
             ],
             [
              0.7777777777777778,
              "#fb9f3a"
             ],
             [
              0.8888888888888888,
              "#fdca26"
             ],
             [
              1,
              "#f0f921"
             ]
            ],
            "type": "heatmapgl"
           }
          ],
          "histogram": [
           {
            "marker": {
             "colorbar": {
              "outlinewidth": 0,
              "ticks": ""
             }
            },
            "type": "histogram"
           }
          ],
          "histogram2d": [
           {
            "colorbar": {
             "outlinewidth": 0,
             "ticks": ""
            },
            "colorscale": [
             [
              0,
              "#0d0887"
             ],
             [
              0.1111111111111111,
              "#46039f"
             ],
             [
              0.2222222222222222,
              "#7201a8"
             ],
             [
              0.3333333333333333,
              "#9c179e"
             ],
             [
              0.4444444444444444,
              "#bd3786"
             ],
             [
              0.5555555555555556,
              "#d8576b"
             ],
             [
              0.6666666666666666,
              "#ed7953"
             ],
             [
              0.7777777777777778,
              "#fb9f3a"
             ],
             [
              0.8888888888888888,
              "#fdca26"
             ],
             [
              1,
              "#f0f921"
             ]
            ],
            "type": "histogram2d"
           }
          ],
          "histogram2dcontour": [
           {
            "colorbar": {
             "outlinewidth": 0,
             "ticks": ""
            },
            "colorscale": [
             [
              0,
              "#0d0887"
             ],
             [
              0.1111111111111111,
              "#46039f"
             ],
             [
              0.2222222222222222,
              "#7201a8"
             ],
             [
              0.3333333333333333,
              "#9c179e"
             ],
             [
              0.4444444444444444,
              "#bd3786"
             ],
             [
              0.5555555555555556,
              "#d8576b"
             ],
             [
              0.6666666666666666,
              "#ed7953"
             ],
             [
              0.7777777777777778,
              "#fb9f3a"
             ],
             [
              0.8888888888888888,
              "#fdca26"
             ],
             [
              1,
              "#f0f921"
             ]
            ],
            "type": "histogram2dcontour"
           }
          ],
          "mesh3d": [
           {
            "colorbar": {
             "outlinewidth": 0,
             "ticks": ""
            },
            "type": "mesh3d"
           }
          ],
          "parcoords": [
           {
            "line": {
             "colorbar": {
              "outlinewidth": 0,
              "ticks": ""
             }
            },
            "type": "parcoords"
           }
          ],
          "pie": [
           {
            "automargin": true,
            "type": "pie"
           }
          ],
          "scatter": [
           {
            "marker": {
             "colorbar": {
              "outlinewidth": 0,
              "ticks": ""
             }
            },
            "type": "scatter"
           }
          ],
          "scatter3d": [
           {
            "line": {
             "colorbar": {
              "outlinewidth": 0,
              "ticks": ""
             }
            },
            "marker": {
             "colorbar": {
              "outlinewidth": 0,
              "ticks": ""
             }
            },
            "type": "scatter3d"
           }
          ],
          "scattercarpet": [
           {
            "marker": {
             "colorbar": {
              "outlinewidth": 0,
              "ticks": ""
             }
            },
            "type": "scattercarpet"
           }
          ],
          "scattergeo": [
           {
            "marker": {
             "colorbar": {
              "outlinewidth": 0,
              "ticks": ""
             }
            },
            "type": "scattergeo"
           }
          ],
          "scattergl": [
           {
            "marker": {
             "colorbar": {
              "outlinewidth": 0,
              "ticks": ""
             }
            },
            "type": "scattergl"
           }
          ],
          "scattermapbox": [
           {
            "marker": {
             "colorbar": {
              "outlinewidth": 0,
              "ticks": ""
             }
            },
            "type": "scattermapbox"
           }
          ],
          "scatterpolar": [
           {
            "marker": {
             "colorbar": {
              "outlinewidth": 0,
              "ticks": ""
             }
            },
            "type": "scatterpolar"
           }
          ],
          "scatterpolargl": [
           {
            "marker": {
             "colorbar": {
              "outlinewidth": 0,
              "ticks": ""
             }
            },
            "type": "scatterpolargl"
           }
          ],
          "scatterternary": [
           {
            "marker": {
             "colorbar": {
              "outlinewidth": 0,
              "ticks": ""
             }
            },
            "type": "scatterternary"
           }
          ],
          "surface": [
           {
            "colorbar": {
             "outlinewidth": 0,
             "ticks": ""
            },
            "colorscale": [
             [
              0,
              "#0d0887"
             ],
             [
              0.1111111111111111,
              "#46039f"
             ],
             [
              0.2222222222222222,
              "#7201a8"
             ],
             [
              0.3333333333333333,
              "#9c179e"
             ],
             [
              0.4444444444444444,
              "#bd3786"
             ],
             [
              0.5555555555555556,
              "#d8576b"
             ],
             [
              0.6666666666666666,
              "#ed7953"
             ],
             [
              0.7777777777777778,
              "#fb9f3a"
             ],
             [
              0.8888888888888888,
              "#fdca26"
             ],
             [
              1,
              "#f0f921"
             ]
            ],
            "type": "surface"
           }
          ],
          "table": [
           {
            "cells": {
             "fill": {
              "color": "#EBF0F8"
             },
             "line": {
              "color": "white"
             }
            },
            "header": {
             "fill": {
              "color": "#C8D4E3"
             },
             "line": {
              "color": "white"
             }
            },
            "type": "table"
           }
          ]
         },
         "layout": {
          "annotationdefaults": {
           "arrowcolor": "#2a3f5f",
           "arrowhead": 0,
           "arrowwidth": 1
          },
          "coloraxis": {
           "colorbar": {
            "outlinewidth": 0,
            "ticks": ""
           }
          },
          "colorscale": {
           "diverging": [
            [
             0,
             "#8e0152"
            ],
            [
             0.1,
             "#c51b7d"
            ],
            [
             0.2,
             "#de77ae"
            ],
            [
             0.3,
             "#f1b6da"
            ],
            [
             0.4,
             "#fde0ef"
            ],
            [
             0.5,
             "#f7f7f7"
            ],
            [
             0.6,
             "#e6f5d0"
            ],
            [
             0.7,
             "#b8e186"
            ],
            [
             0.8,
             "#7fbc41"
            ],
            [
             0.9,
             "#4d9221"
            ],
            [
             1,
             "#276419"
            ]
           ],
           "sequential": [
            [
             0,
             "#0d0887"
            ],
            [
             0.1111111111111111,
             "#46039f"
            ],
            [
             0.2222222222222222,
             "#7201a8"
            ],
            [
             0.3333333333333333,
             "#9c179e"
            ],
            [
             0.4444444444444444,
             "#bd3786"
            ],
            [
             0.5555555555555556,
             "#d8576b"
            ],
            [
             0.6666666666666666,
             "#ed7953"
            ],
            [
             0.7777777777777778,
             "#fb9f3a"
            ],
            [
             0.8888888888888888,
             "#fdca26"
            ],
            [
             1,
             "#f0f921"
            ]
           ],
           "sequentialminus": [
            [
             0,
             "#0d0887"
            ],
            [
             0.1111111111111111,
             "#46039f"
            ],
            [
             0.2222222222222222,
             "#7201a8"
            ],
            [
             0.3333333333333333,
             "#9c179e"
            ],
            [
             0.4444444444444444,
             "#bd3786"
            ],
            [
             0.5555555555555556,
             "#d8576b"
            ],
            [
             0.6666666666666666,
             "#ed7953"
            ],
            [
             0.7777777777777778,
             "#fb9f3a"
            ],
            [
             0.8888888888888888,
             "#fdca26"
            ],
            [
             1,
             "#f0f921"
            ]
           ]
          },
          "colorway": [
           "#636efa",
           "#EF553B",
           "#00cc96",
           "#ab63fa",
           "#FFA15A",
           "#19d3f3",
           "#FF6692",
           "#B6E880",
           "#FF97FF",
           "#FECB52"
          ],
          "font": {
           "color": "#2a3f5f"
          },
          "geo": {
           "bgcolor": "white",
           "lakecolor": "white",
           "landcolor": "#E5ECF6",
           "showlakes": true,
           "showland": true,
           "subunitcolor": "white"
          },
          "hoverlabel": {
           "align": "left"
          },
          "hovermode": "closest",
          "mapbox": {
           "style": "light"
          },
          "paper_bgcolor": "white",
          "plot_bgcolor": "#E5ECF6",
          "polar": {
           "angularaxis": {
            "gridcolor": "white",
            "linecolor": "white",
            "ticks": ""
           },
           "bgcolor": "#E5ECF6",
           "radialaxis": {
            "gridcolor": "white",
            "linecolor": "white",
            "ticks": ""
           }
          },
          "scene": {
           "xaxis": {
            "backgroundcolor": "#E5ECF6",
            "gridcolor": "white",
            "gridwidth": 2,
            "linecolor": "white",
            "showbackground": true,
            "ticks": "",
            "zerolinecolor": "white"
           },
           "yaxis": {
            "backgroundcolor": "#E5ECF6",
            "gridcolor": "white",
            "gridwidth": 2,
            "linecolor": "white",
            "showbackground": true,
            "ticks": "",
            "zerolinecolor": "white"
           },
           "zaxis": {
            "backgroundcolor": "#E5ECF6",
            "gridcolor": "white",
            "gridwidth": 2,
            "linecolor": "white",
            "showbackground": true,
            "ticks": "",
            "zerolinecolor": "white"
           }
          },
          "shapedefaults": {
           "line": {
            "color": "#2a3f5f"
           }
          },
          "ternary": {
           "aaxis": {
            "gridcolor": "white",
            "linecolor": "white",
            "ticks": ""
           },
           "baxis": {
            "gridcolor": "white",
            "linecolor": "white",
            "ticks": ""
           },
           "bgcolor": "#E5ECF6",
           "caxis": {
            "gridcolor": "white",
            "linecolor": "white",
            "ticks": ""
           }
          },
          "title": {
           "x": 0.05
          },
          "xaxis": {
           "automargin": true,
           "gridcolor": "white",
           "linecolor": "white",
           "ticks": "",
           "title": {
            "standoff": 15
           },
           "zerolinecolor": "white",
           "zerolinewidth": 2
          },
          "yaxis": {
           "automargin": true,
           "gridcolor": "white",
           "linecolor": "white",
           "ticks": "",
           "title": {
            "standoff": 15
           },
           "zerolinecolor": "white",
           "zerolinewidth": 2
          }
         }
        },
        "xaxis": {
         "anchor": "y",
         "autorange": true,
         "domain": [
          0,
          1
         ],
         "range": [
          -1.2448006701784877,
          0.880265629021727
         ],
         "title": {
          "text": "zscore"
         },
         "type": "linear"
        },
        "yaxis": {
         "anchor": "x",
         "autorange": true,
         "domain": [
          0,
          1
         ],
         "range": [
          -0.141804788213628,
          2.141804788213628
         ]
        }
       }
      },
      "image/png": "[encoded data removed]",
      "text/html": [
       "<div>\n",
       "        \n",
       "        \n",
       "            <div id=\"78ef2cfa-5e2f-473b-b6b3-e1d0be4a690a\" class=\"plotly-graph-div\" style=\"height:525px; width:100%;\"></div>\n",
       "            <script type=\"text/javascript\">\n",
       "                require([\"plotly\"], function(Plotly) {\n",
       "                    window.PLOTLYENV=window.PLOTLYENV || {};\n",
       "                    \n",
       "                if (document.getElementById(\"78ef2cfa-5e2f-473b-b6b3-e1d0be4a690a\")) {\n",
       "                    Plotly.newPlot(\n",
       "                        '78ef2cfa-5e2f-473b-b6b3-e1d0be4a690a',\n",
       "                        [{\"hovertemplate\": \"Nome=IOF ROTATIVO<br>zscore=%{x}<extra></extra>\", \"legendgroup\": \"IOF ROTATIVO\", \"marker\": {\"color\": \"#636efa\", \"symbol\": \"circle\"}, \"mode\": \"markers\", \"name\": \"IOF ROTATIVO\", \"showlegend\": true, \"type\": \"scatter\", \"x\": [0.7071070704059079, -0.7071070704059079], \"xaxis\": \"x\", \"yaxis\": \"y\"}, {\"hovertemplate\": \"Nome=IOF TRANSACOES EXTERIOR R$<br>zscore=%{x}<extra></extra>\", \"legendgroup\": \"IOF TRANSACOES EXTERIOR R$\", \"marker\": {\"color\": \"#EF553B\", \"symbol\": \"circle\"}, \"mode\": \"markers\", \"name\": \"IOF TRANSACOES EXTERIOR R$\", \"showlegend\": true, \"type\": \"scatter\", \"x\": [0.7070796460176989, -0.7070796460176999], \"xaxis\": \"x\", \"yaxis\": \"y\"}, {\"hovertemplate\": \"Nome=IOF ACORDO CRELIQ<br>zscore=%{x}<extra></extra>\", \"legendgroup\": \"IOF ACORDO CRELIQ\", \"marker\": {\"color\": \"#00cc96\", \"symbol\": \"circle\"}, \"mode\": \"markers\", \"name\": \"IOF ACORDO CRELIQ\", \"showlegend\": true, \"type\": \"scatter\", \"x\": [0.49298760427545657, 0.6577862724743406, -1.1507737892878138], \"xaxis\": \"x\", \"yaxis\": \"y\"}, {\"hovertemplate\": \"Nome=IOF SOBRE ACORDO PERDA<br>zscore=%{x}<extra></extra>\", \"legendgroup\": \"IOF SOBRE ACORDO PERDA\", \"marker\": {\"color\": \"#ab63fa\", \"symbol\": \"circle\"}, \"mode\": \"markers\", \"name\": \"IOF SOBRE ACORDO PERDA\", \"showlegend\": true, \"type\": \"scatter\", \"x\": [0.3645350411567611, 0.7665923898326652, -1.131127430989426], \"xaxis\": \"x\", \"yaxis\": \"y\"}, {\"hovertemplate\": \"Nome=DEBITO DE IOF<br>zscore=%{x}<extra></extra>\", \"legendgroup\": \"DEBITO DE IOF\", \"marker\": {\"color\": \"#FFA15A\", \"symbol\": \"circle\"}, \"mode\": \"markers\", \"name\": \"DEBITO DE IOF\", \"showlegend\": true, \"type\": \"scatter\", \"x\": [0.4388772915861123, 0.7055154572738488, -1.1443926529616468], \"xaxis\": \"x\", \"yaxis\": \"y\"}, {\"hovertemplate\": \"Nome=IOF SUGESTAO FINANCIAMENTO<br>zscore=%{x}<extra></extra>\", \"legendgroup\": \"IOF SUGESTAO FINANCIAMENTO\", \"marker\": {\"color\": \"#19d3f3\", \"symbol\": \"circle\"}, \"mode\": \"markers\", \"name\": \"IOF SUGESTAO FINANCIAMENTO\", \"showlegend\": true, \"type\": \"scatter\", \"x\": [0.7071213058950946, -0.7071019650317197], \"xaxis\": \"x\", \"yaxis\": \"y\"}, {\"hovertemplate\": \"Nome=Microsseguro Mulher<br>zscore=%{x}<extra></extra>\", \"legendgroup\": \"Microsseguro Mulher\", \"marker\": {\"color\": \"#FF6692\", \"symbol\": \"circle\"}, \"mode\": \"markers\", \"name\": \"Microsseguro Mulher\", \"showlegend\": true, \"type\": \"scatter\", \"x\": [0.7722719455279673, -1.129571956808197, 0.35730010458237643], \"xaxis\": \"x\", \"yaxis\": \"y\"}, {\"hovertemplate\": \"Nome=Microsseguro de Danos Residencial e de Pessoas<br>zscore=%{x}<extra></extra>\", \"legendgroup\": \"Microsseguro de Danos Residencial e de Pessoas\", \"marker\": {\"color\": \"#B6E880\", \"symbol\": \"circle\"}, \"mode\": \"markers\", \"name\": \"Microsseguro de Danos Residencial e de Pessoas\", \"showlegend\": true, \"type\": \"scatter\", \"x\": [0.28490890825719817, 0.8266277213752716, -1.1115365426854897], \"xaxis\": \"x\", \"yaxis\": \"y\"}],\n",
       "                        {\"legend\": {\"title\": {\"text\": \"Nome\"}, \"tracegroupgap\": 0}, \"margin\": {\"t\": 60}, \"template\": {\"data\": {\"bar\": [{\"error_x\": {\"color\": \"#2a3f5f\"}, \"error_y\": {\"color\": \"#2a3f5f\"}, \"marker\": {\"line\": {\"color\": \"#E5ECF6\", \"width\": 0.5}}, \"type\": \"bar\"}], \"barpolar\": [{\"marker\": {\"line\": {\"color\": \"#E5ECF6\", \"width\": 0.5}}, \"type\": \"barpolar\"}], \"carpet\": [{\"aaxis\": {\"endlinecolor\": \"#2a3f5f\", \"gridcolor\": \"white\", \"linecolor\": \"white\", \"minorgridcolor\": \"white\", \"startlinecolor\": \"#2a3f5f\"}, \"baxis\": {\"endlinecolor\": \"#2a3f5f\", \"gridcolor\": \"white\", \"linecolor\": \"white\", \"minorgridcolor\": \"white\", \"startlinecolor\": \"#2a3f5f\"}, \"type\": \"carpet\"}], \"choropleth\": [{\"colorbar\": {\"outlinewidth\": 0, \"ticks\": \"\"}, \"type\": \"choropleth\"}], \"contour\": [{\"colorbar\": {\"outlinewidth\": 0, \"ticks\": \"\"}, \"colorscale\": [[0.0, \"#0d0887\"], [0.1111111111111111, \"#46039f\"], [0.2222222222222222, \"#7201a8\"], [0.3333333333333333, \"#9c179e\"], [0.4444444444444444, \"#bd3786\"], [0.5555555555555556, \"#d8576b\"], [0.6666666666666666, \"#ed7953\"], [0.7777777777777778, \"#fb9f3a\"], [0.8888888888888888, \"#fdca26\"], [1.0, \"#f0f921\"]], \"type\": \"contour\"}], \"contourcarpet\": [{\"colorbar\": {\"outlinewidth\": 0, \"ticks\": \"\"}, \"type\": \"contourcarpet\"}], \"heatmap\": [{\"colorbar\": {\"outlinewidth\": 0, \"ticks\": \"\"}, \"colorscale\": [[0.0, \"#0d0887\"], [0.1111111111111111, \"#46039f\"], [0.2222222222222222, \"#7201a8\"], [0.3333333333333333, \"#9c179e\"], [0.4444444444444444, \"#bd3786\"], [0.5555555555555556, \"#d8576b\"], [0.6666666666666666, \"#ed7953\"], [0.7777777777777778, \"#fb9f3a\"], [0.8888888888888888, \"#fdca26\"], [1.0, \"#f0f921\"]], \"type\": \"heatmap\"}], \"heatmapgl\": [{\"colorbar\": {\"outlinewidth\": 0, \"ticks\": \"\"}, \"colorscale\": [[0.0, \"#0d0887\"], [0.1111111111111111, \"#46039f\"], [0.2222222222222222, \"#7201a8\"], [0.3333333333333333, \"#9c179e\"], [0.4444444444444444, \"#bd3786\"], [0.5555555555555556, \"#d8576b\"], [0.6666666666666666, \"#ed7953\"], [0.7777777777777778, \"#fb9f3a\"], [0.8888888888888888, \"#fdca26\"], [1.0, \"#f0f921\"]], \"type\": \"heatmapgl\"}], \"histogram\": [{\"marker\": {\"colorbar\": {\"outlinewidth\": 0, \"ticks\": \"\"}}, \"type\": \"histogram\"}], \"histogram2d\": [{\"colorbar\": {\"outlinewidth\": 0, \"ticks\": \"\"}, \"colorscale\": [[0.0, \"#0d0887\"], [0.1111111111111111, \"#46039f\"], [0.2222222222222222, \"#7201a8\"], [0.3333333333333333, \"#9c179e\"], [0.4444444444444444, \"#bd3786\"], [0.5555555555555556, \"#d8576b\"], [0.6666666666666666, \"#ed7953\"], [0.7777777777777778, \"#fb9f3a\"], [0.8888888888888888, \"#fdca26\"], [1.0, \"#f0f921\"]], \"type\": \"histogram2d\"}], \"histogram2dcontour\": [{\"colorbar\": {\"outlinewidth\": 0, \"ticks\": \"\"}, \"colorscale\": [[0.0, \"#0d0887\"], [0.1111111111111111, \"#46039f\"], [0.2222222222222222, \"#7201a8\"], [0.3333333333333333, \"#9c179e\"], [0.4444444444444444, \"#bd3786\"], [0.5555555555555556, \"#d8576b\"], [0.6666666666666666, \"#ed7953\"], [0.7777777777777778, \"#fb9f3a\"], [0.8888888888888888, \"#fdca26\"], [1.0, \"#f0f921\"]], \"type\": \"histogram2dcontour\"}], \"mesh3d\": [{\"colorbar\": {\"outlinewidth\": 0, \"ticks\": \"\"}, \"type\": \"mesh3d\"}], \"parcoords\": [{\"line\": {\"colorbar\": {\"outlinewidth\": 0, \"ticks\": \"\"}}, \"type\": \"parcoords\"}], \"pie\": [{\"automargin\": true, \"type\": \"pie\"}], \"scatter\": [{\"marker\": {\"colorbar\": {\"outlinewidth\": 0, \"ticks\": \"\"}}, \"type\": \"scatter\"}], \"scatter3d\": [{\"line\": {\"colorbar\": {\"outlinewidth\": 0, \"ticks\": \"\"}}, \"marker\": {\"colorbar\": {\"outlinewidth\": 0, \"ticks\": \"\"}}, \"type\": \"scatter3d\"}], \"scattercarpet\": [{\"marker\": {\"colorbar\": {\"outlinewidth\": 0, \"ticks\": \"\"}}, \"type\": \"scattercarpet\"}], \"scattergeo\": [{\"marker\": {\"colorbar\": {\"outlinewidth\": 0, \"ticks\": \"\"}}, \"type\": \"scattergeo\"}], \"scattergl\": [{\"marker\": {\"colorbar\": {\"outlinewidth\": 0, \"ticks\": \"\"}}, \"type\": \"scattergl\"}], \"scattermapbox\": [{\"marker\": {\"colorbar\": {\"outlinewidth\": 0, \"ticks\": \"\"}}, \"type\": \"scattermapbox\"}], \"scatterpolar\": [{\"marker\": {\"colorbar\": {\"outlinewidth\": 0, \"ticks\": \"\"}}, \"type\": \"scatterpolar\"}], \"scatterpolargl\": [{\"marker\": {\"colorbar\": {\"outlinewidth\": 0, \"ticks\": \"\"}}, \"type\": \"scatterpolargl\"}], \"scatterternary\": [{\"marker\": {\"colorbar\": {\"outlinewidth\": 0, \"ticks\": \"\"}}, \"type\": \"scatterternary\"}], \"surface\": [{\"colorbar\": {\"outlinewidth\": 0, \"ticks\": \"\"}, \"colorscale\": [[0.0, \"#0d0887\"], [0.1111111111111111, \"#46039f\"], [0.2222222222222222, \"#7201a8\"], [0.3333333333333333, \"#9c179e\"], [0.4444444444444444, \"#bd3786\"], [0.5555555555555556, \"#d8576b\"], [0.6666666666666666, \"#ed7953\"], [0.7777777777777778, \"#fb9f3a\"], [0.8888888888888888, \"#fdca26\"], [1.0, \"#f0f921\"]], \"type\": \"surface\"}], \"table\": [{\"cells\": {\"fill\": {\"color\": \"#EBF0F8\"}, \"line\": {\"color\": \"white\"}}, \"header\": {\"fill\": {\"color\": \"#C8D4E3\"}, \"line\": {\"color\": \"white\"}}, \"type\": \"table\"}]}, \"layout\": {\"annotationdefaults\": {\"arrowcolor\": \"#2a3f5f\", \"arrowhead\": 0, \"arrowwidth\": 1}, \"coloraxis\": {\"colorbar\": {\"outlinewidth\": 0, \"ticks\": \"\"}}, \"colorscale\": {\"diverging\": [[0, \"#8e0152\"], [0.1, \"#c51b7d\"], [0.2, \"#de77ae\"], [0.3, \"#f1b6da\"], [0.4, \"#fde0ef\"], [0.5, \"#f7f7f7\"], [0.6, \"#e6f5d0\"], [0.7, \"#b8e186\"], [0.8, \"#7fbc41\"], [0.9, \"#4d9221\"], [1, \"#276419\"]], \"sequential\": [[0.0, \"#0d0887\"], [0.1111111111111111, \"#46039f\"], [0.2222222222222222, \"#7201a8\"], [0.3333333333333333, \"#9c179e\"], [0.4444444444444444, \"#bd3786\"], [0.5555555555555556, \"#d8576b\"], [0.6666666666666666, \"#ed7953\"], [0.7777777777777778, \"#fb9f3a\"], [0.8888888888888888, \"#fdca26\"], [1.0, \"#f0f921\"]], \"sequentialminus\": [[0.0, \"#0d0887\"], [0.1111111111111111, \"#46039f\"], [0.2222222222222222, \"#7201a8\"], [0.3333333333333333, \"#9c179e\"], [0.4444444444444444, \"#bd3786\"], [0.5555555555555556, \"#d8576b\"], [0.6666666666666666, \"#ed7953\"], [0.7777777777777778, \"#fb9f3a\"], [0.8888888888888888, \"#fdca26\"], [1.0, \"#f0f921\"]]}, \"colorway\": [\"#636efa\", \"#EF553B\", \"#00cc96\", \"#ab63fa\", \"#FFA15A\", \"#19d3f3\", \"#FF6692\", \"#B6E880\", \"#FF97FF\", \"#FECB52\"], \"font\": {\"color\": \"#2a3f5f\"}, \"geo\": {\"bgcolor\": \"white\", \"lakecolor\": \"white\", \"landcolor\": \"#E5ECF6\", \"showlakes\": true, \"showland\": true, \"subunitcolor\": \"white\"}, \"hoverlabel\": {\"align\": \"left\"}, \"hovermode\": \"closest\", \"mapbox\": {\"style\": \"light\"}, \"paper_bgcolor\": \"white\", \"plot_bgcolor\": \"#E5ECF6\", \"polar\": {\"angularaxis\": {\"gridcolor\": \"white\", \"linecolor\": \"white\", \"ticks\": \"\"}, \"bgcolor\": \"#E5ECF6\", \"radialaxis\": {\"gridcolor\": \"white\", \"linecolor\": \"white\", \"ticks\": \"\"}}, \"scene\": {\"xaxis\": {\"backgroundcolor\": \"#E5ECF6\", \"gridcolor\": \"white\", \"gridwidth\": 2, \"linecolor\": \"white\", \"showbackground\": true, \"ticks\": \"\", \"zerolinecolor\": \"white\"}, \"yaxis\": {\"backgroundcolor\": \"#E5ECF6\", \"gridcolor\": \"white\", \"gridwidth\": 2, \"linecolor\": \"white\", \"showbackground\": true, \"ticks\": \"\", \"zerolinecolor\": \"white\"}, \"zaxis\": {\"backgroundcolor\": \"#E5ECF6\", \"gridcolor\": \"white\", \"gridwidth\": 2, \"linecolor\": \"white\", \"showbackground\": true, \"ticks\": \"\", \"zerolinecolor\": \"white\"}}, \"shapedefaults\": {\"line\": {\"color\": \"#2a3f5f\"}}, \"ternary\": {\"aaxis\": {\"gridcolor\": \"white\", \"linecolor\": \"white\", \"ticks\": \"\"}, \"baxis\": {\"gridcolor\": \"white\", \"linecolor\": \"white\", \"ticks\": \"\"}, \"bgcolor\": \"#E5ECF6\", \"caxis\": {\"gridcolor\": \"white\", \"linecolor\": \"white\", \"ticks\": \"\"}}, \"title\": {\"x\": 0.05}, \"xaxis\": {\"automargin\": true, \"gridcolor\": \"white\", \"linecolor\": \"white\", \"ticks\": \"\", \"title\": {\"standoff\": 15}, \"zerolinecolor\": \"white\", \"zerolinewidth\": 2}, \"yaxis\": {\"automargin\": true, \"gridcolor\": \"white\", \"linecolor\": \"white\", \"ticks\": \"\", \"title\": {\"standoff\": 15}, \"zerolinecolor\": \"white\", \"zerolinewidth\": 2}}}, \"xaxis\": {\"anchor\": \"y\", \"domain\": [0.0, 1.0], \"title\": {\"text\": \"zscore\"}}, \"yaxis\": {\"anchor\": \"x\", \"domain\": [0.0, 1.0]}},\n",
       "                        {\"responsive\": true}\n",
       "                    ).then(function(){\n",
       "                            \n",
       "var gd = document.getElementById('78ef2cfa-5e2f-473b-b6b3-e1d0be4a690a');\n",
       "var x = new MutationObserver(function (mutations, observer) {{\n",
       "        var display = window.getComputedStyle(gd).display;\n",
       "        if (!display || display === 'none') {{\n",
       "            console.log([gd, 'removed!']);\n",
       "            Plotly.purge(gd);\n",
       "            observer.disconnect();\n",
       "        }}\n",
       "}});\n",
       "\n",
       "// Listen for the removal of the full notebook cells\n",
       "var notebookContainer = gd.closest('#notebook-container');\n",
       "if (notebookContainer) {{\n",
       "    x.observe(notebookContainer, {childList: true});\n",
       "}}\n",
       "\n",
       "// Listen for the clearing of the current output cell\n",
       "var outputEl = gd.closest('.output');\n",
       "if (outputEl) {{\n",
       "    x.observe(outputEl, {childList: true});\n",
       "}}\n",
       "\n",
       "                        })\n",
       "                };\n",
       "                });\n",
       "            </script>\n",
       "        </div>"
      ]
     },
     "metadata": {},
     "output_type": "display_data"
    }
   ],
   "source": [
    "import plotly.express as px\n",
    "fig = px.scatter(finaldebito, x=\"zscore\", color=\"Nome\")\n",
    "fig.show()"
   ]
  }
 ],
 "metadata": {
  "kernelspec": {
   "display_name": "Python 3",
   "language": "python",
   "name": "python3"
  },
  "language_info": {
   "codemirror_mode": {
    "name": "ipython",
    "version": 3
   },
   "file_extension": ".py",
   "mimetype": "text/x-python",
   "name": "python",
   "nbconvert_exporter": "python",
   "pygments_lexer": "ipython3",
   "version": "3.7.6"
  }
 },
 "nbformat": 4,
 "nbformat_minor": 4
}
