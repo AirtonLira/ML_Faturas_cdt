{
 "cells": [
  {
   "cell_type": "code",
   "execution_count": 1,
   "metadata": {},
   "outputs": [],
   "source": [
    "import pyodbc\n",
    "import numpy as np\n",
    "import pandas as pd\n",
    "import matplotlib.pyplot as plt\n",
    "from pyspark.sql import SparkSession\n",
    "import import_ipynb\n",
    "from sklearn.model_selection import train_test_split\n",
    "from pyspark import SparkContext, SparkConf, SQLContext\n",
    "import os.path"
   ]
  },
  {
   "cell_type": "markdown",
   "metadata": {},
   "source": [
    " # Função extrairDados \n",
    "# Parametros:\n",
    "- info: Dicionario com as informações de IP e base.\n",
    "- consulta: String com a consulta a ser executada em cada base da listIp.\n",
    "- arquivo: String com nome do arquivo a ser gerado ao csv.\n",
    "- spark: Boolean com a identificação de geração de um dataframe para Spark (True) ou para Pandas (False).\n",
    "- objspark: Objeto de contexto do spark.\n",
    "\n",
    "# Descrição: \n",
    "- Função responsavel por gerar a extração dos dados com base numa lista de ips informados, onde com base no codigo passado.  como parametro será executado para cada instancia o codigo sql."
   ]
  },
  {
   "cell_type": "code",
   "execution_count": 4,
   "metadata": {},
   "outputs": [],
   "source": [
    "'''\n",
    "@param info:\n",
    "@param consulta:\n",
    "@param arquivo:\n",
    "@param spark:\n",
    "@param objspark:\n",
    "@return:\n",
    "'''\n",
    "def extrairDados(info,consulta,path,arquivo = None,dataFrame = True,spark = False,objSpark = None):\n",
    "    conn_str  = 'DRIVER={SQL Server};SERVER='+info['ip']+';DATABASE='+info['base']+';Integrated Security=true'\n",
    "    if spark:\n",
    "        sc = objSpark.sparkContext\n",
    "        sqlContext = SQLContext(sc)\n",
    "    \n",
    "    if not (os.path.exists(path)):\n",
    "        os.mkdir(path)\n",
    "    \n",
    "    try:\n",
    "        if arquivo == None:\n",
    "            conn = pyodbc.connect(conn_str)\n",
    "            cursor = conn.cursor()\n",
    "            codigo = consulta\n",
    "            df_tmp = pd.read_sql_query(codigo,conn)\n",
    "            conn.close()\n",
    "            if dataFrame:\n",
    "                if spark:\n",
    "                    df_tmp = objSpark.createDataFrame(df_tmp)\n",
    "        if arquivo != None:\n",
    "            if os.path.exists(path+arquivo+\".parquet\"):\n",
    "                    df_tmp = pd.read_parquet(path+arquivo+\".parquet\")\n",
    "            else: \n",
    "                conn = pyodbc.connect(conn_str)\n",
    "                cursor = conn.cursor()\n",
    "                codigo = consulta\n",
    "                df_tmp = pd.read_sql_query(codigo,conn)\n",
    "                conn.close()\n",
    "                export_parquet = df_tmp.to_parquet(r''+path+arquivo+\".parquet\", engine='auto')\n",
    "                if dataFrame:\n",
    "                    if spark:\n",
    "                        df_tmp = objSpark.createDataFrame(df_tmp)\n",
    "        return df_tmp\n",
    "    except Exception as ex:\n",
    "        print(\"Erro: \"+str(ex))\n",
    "        return None "
   ]
  },
  {
   "cell_type": "markdown",
   "metadata": {},
   "source": [
    " # Função resultQuery \n",
    "# Parametros:\n",
    "- arquivo: Nome do arquivo sql de consulta\n",
    "\n",
    "\n",
    "# Descrição: \n",
    "- Função responsavel por devolver o conteudo do arquivo .sql"
   ]
  },
  {
   "cell_type": "code",
   "execution_count": 1,
   "metadata": {},
   "outputs": [],
   "source": [
    "def resultQuery(arquivo):\n",
    "    arq = open(\"querys/\"+arquivo,\"r+\")\n",
    "    sql = arq.read()\n",
    "    arq.close()\n",
    "    return sql"
   ]
  },
  {
   "cell_type": "markdown",
   "metadata": {},
   "source": [
    "### [getresultdataset] - Printa os totais previsto x reais x diferença x porcentagem"
   ]
  },
  {
   "cell_type": "code",
   "execution_count": 2,
   "metadata": {},
   "outputs": [],
   "source": [
    "def getresultdataset(dt, model_name):\n",
    "    total_diff = dt.aggregate(['sum'])['diff'][0]\n",
    "    total_absolute_diff = dt['diff'].apply(lambda c: np.absolute(c).sum()).sum()\n",
    "    total_real = dt.aggregate(['sum'])['Real'][0]\n",
    "    total_prev = dt.aggregate(['sum'])['Previsto'][0]\n",
    "    total_reg  = dt.aggregate(['count'])['Real'][0]\n",
    "    \n",
    "    # Percentual de diferença do previsto com o real  \n",
    "    total_percent_diff = (((dt['Real'] - dt['Previsto']) / dt['Real']) * 100)\n",
    "    \n",
    "    # Remove valores infinitivos\n",
    "    total_percent_diff          = total_percent_diff.replace([np.inf, -np.inf], np.nan).dropna(axis=0)\n",
    "    \n",
    "    # Obtem total absoluto dos percentuais da diferença\n",
    "    total_percent_absolute_diff = total_percent_diff.apply(lambda x: np.absolute(x).sum()).sum()\n",
    "    \n",
    "    # Obtem total não absoluto dos percentuais da diferença\n",
    "    total_percent_diff          = total_percent_diff.sum()\n",
    "    \n",
    "    print(\"SE - Sum of Error: \")\n",
    "    print(\"[\"+model_name+\"] - Total Real:  %.2f\" %(total_real))\n",
    "    print(\"[\"+model_name+\"] - Total Prev:  %.2f\" %(total_prev))\n",
    "    print(\"[\"+model_name+\"] - SE Final:  %.2f\" %(total_diff))\n",
    "    print(\"[\"+model_name+\"] - Total Porcentagem de diferença do previsto x real:  {:.2f}%\".format(np.absolute(((total_diff / total_real)*100))))\n",
    "    print(\"----------------------------------------------------------\")\n",
    "    \n",
    "    print(\"ME - Mean Error:  \")\n",
    "    print(\"[\"+model_name+\"] - Total Registros: %.f\" % (total_reg))\n",
    "    print(\"[\"+model_name+\"] - Total Diff : %.f\" % (total_diff))\n",
    "    print(\"[\"+model_name+\"] - ME Final : %.6f\" % (total_diff / total_reg))\n",
    "    print(\"----------------------------------------------------------\")\n",
    "    \n",
    "    print(\"MAE - Mean Absolute Error:  \")\n",
    "    print(\"[\"+model_name+\"] - Total Registros: %.f\" % (total_reg))\n",
    "    print(\"[\"+model_name+\"] - Total Absolute Diff : %.f\" % (total_absolute_diff))\n",
    "    print(\"[\"+model_name+\"] - ME Final : %.6f\" % (total_absolute_diff / total_reg))\n",
    "    print(\"----------------------------------------------------------\")\n",
    "    \n",
    "    print(\"MPE - Mean Percentage Error:  \")\n",
    "    print(\"[\"+model_name+\"] - Total Registros: %.f\" % (total_reg))\n",
    "    print(\"[\"+model_name+\"] - Total percent Diff: %.f\" % (total_percent_diff))\n",
    "    print(\"[\"+model_name+\"] - MPE Final : {:.2f}%\".format(total_percent_diff / total_reg))\n",
    "    print(\"----------------------------------------------------------\")\n",
    "    \n",
    "    print(\"MAPAE - Mean Absolute Percentage Error:  \")\n",
    "    print(\"[\"+model_name+\"] - Total Registros: %.f\" % (total_reg))\n",
    "    print(\"[\"+model_name+\"] - Total percent Absolute Diff: %.f\" % (total_percent_absolute_diff))\n",
    "    print(\"[\"+model_name+\"] - MAPAE Final : {:.2f}%\".format(total_percent_absolute_diff / total_reg))"
   ]
  },
  {
   "cell_type": "markdown",
   "metadata": {},
   "source": [
    "### [transformDataSet] - Transforma dois arrays em colunas Previsto X Real"
   ]
  },
  {
   "cell_type": "code",
   "execution_count": 3,
   "metadata": {},
   "outputs": [],
   "source": [
    "def transformDataSet(previsto, real):\n",
    "    d = {\"Previsto\": [x[0] for x in previsto], \"Real\":[x[0] for x in real]}\n",
    "    df_resultado = pd.DataFrame(data=d)\n",
    "    df_resultado['diff'] = df_resultado.Previsto - df_resultado.Real\n",
    "    df_resultado['porcen'] =  np.absolute(((df_resultado.Previsto / df_resultado.Real)*100)-100)\n",
    "    df_resultado = df_resultado.round(2)\n",
    "    df_resultado = df_resultado.dropna()\n",
    "    return df_resultado"
   ]
  },
  {
   "cell_type": "markdown",
   "metadata": {},
   "source": [
    "### [preperData] - Prepara os dados reais para predição. (Dados não de treino)."
   ]
  },
  {
   "cell_type": "code",
   "execution_count": 6,
   "metadata": {},
   "outputs": [],
   "source": [
    "def preperData(df, preditoras,prevista):\n",
    "     # Seleção de variáveis preditoras (Feature Selection)\n",
    "    atributos = preditoras\n",
    "    # Variável a ser prevista\n",
    "    atrib_prev = prevista\n",
    "\n",
    "    # Criando objetos\n",
    "    X = np.absolute(df[atributos].values)\n",
    "    Y = df[atrib_prev].values\n",
    "\n",
    "\n",
    "    Y = Y.astype(int)\n",
    "    \n",
    "    return X, Y"
   ]
  },
  {
   "cell_type": "markdown",
   "metadata": {},
   "source": [
    "### [preperTreinoTeste] - preparada dados de acordo com as preditos x alvos para gerar dados de treino e teste"
   ]
  },
  {
   "cell_type": "code",
   "execution_count": 9,
   "metadata": {},
   "outputs": [],
   "source": [
    "def preperTreinoTeste(df, preditoras, prevista, split):\n",
    "    # Seleção de variáveis preditoras (Feature Selection)\n",
    "    atributos = preditoras\n",
    "    # Variável a ser prevista\n",
    "    atrib_prev = prevista\n",
    "\n",
    "    # Criando objetos\n",
    "    X = np.absolute(df[atributos].values)\n",
    "    Y = df[atrib_prev].values\n",
    "\n",
    "\n",
    "    # Definindo a taxa de split\n",
    "    split_test_size = split\n",
    "    # Criando dados de treino e de teste\n",
    "    X_treino, X_teste, Y_treino, Y_teste = train_test_split(X, Y, test_size = split_test_size, random_state = 42)\n",
    "\n",
    "    Y_treino = Y_treino.astype(int)\n",
    "    Y_teste  = Y_teste.astype(int)\n",
    "    \n",
    "    return X_treino, Y_treino, X_teste, Y_teste\n"
   ]
  }
 ],
 "metadata": {
  "kernelspec": {
   "display_name": "Python 3",
   "language": "python",
   "name": "python3"
  },
  "language_info": {
   "codemirror_mode": {
    "name": "ipython",
    "version": 3
   },
   "file_extension": ".py",
   "mimetype": "text/x-python",
   "name": "python",
   "nbconvert_exporter": "python",
   "pygments_lexer": "ipython3",
   "version": "3.7.6"
  }
 },
 "nbformat": 4,
 "nbformat_minor": 4
}
